{
 "cells": [
  {
   "cell_type": "markdown",
   "metadata": {},
   "source": [
    "# 5. Исследование данных авиакомпании — проверить гипотезу о повышении спроса во время фестивалей"
   ]
  },
  {
   "cell_type": "markdown",
   "metadata": {
    "toc": true
   },
   "source": [
    "<h1>Содержание<span class=\"tocSkip\"></span></h1>\n",
    "<div class=\"toc\"><ul class=\"toc-item\"><li><span><a href=\"#Открываем-файл-с-данными-и-изучаем-общую-информацию\" data-toc-modified-id=\"Открываем-файл-с-данными-и-изучаем-общую-информацию-1\"><span class=\"toc-item-num\">1&nbsp;&nbsp;</span>Открываем файл с данными и изучаем общую информацию</a></span><ul class=\"toc-item\"><li><span><a href=\"#Импорт-библиотек\" data-toc-modified-id=\"Импорт-библиотек-1.1\"><span class=\"toc-item-num\">1.1&nbsp;&nbsp;</span>Импорт библиотек</a></span></li><li><span><a href=\"#Загружаем-данные\" data-toc-modified-id=\"Загружаем-данные-1.2\"><span class=\"toc-item-num\">1.2&nbsp;&nbsp;</span>Загружаем данные</a></span></li><li><span><a href=\"#Таблица-aircrafts(query_1.csv)\" data-toc-modified-id=\"Таблица-aircrafts(query_1.csv)-1.3\"><span class=\"toc-item-num\">1.3&nbsp;&nbsp;</span>Таблица aircrafts(query_1.csv)</a></span></li><li><span><a href=\"#Таблица-flights(query_3.csv)\" data-toc-modified-id=\"Таблица-flights(query_3.csv)-1.4\"><span class=\"toc-item-num\">1.4&nbsp;&nbsp;</span>Таблица flights(query_3.csv)</a></span></li></ul></li><li><span><a href=\"#Подготовка-данных\" data-toc-modified-id=\"Подготовка-данных-2\"><span class=\"toc-item-num\">2&nbsp;&nbsp;</span>Подготовка данных</a></span></li><li><span><a href=\"#Вывод\" data-toc-modified-id=\"Вывод-3\"><span class=\"toc-item-num\">3&nbsp;&nbsp;</span>Вывод</a></span></li></ul></div>"
   ]
  },
  {
   "cell_type": "markdown",
   "metadata": {},
   "source": [
    "# Описание проекта\n",
    "\n",
    "Вы аналитик компании «F9» — это российская авиакомпания, выполняющая внутренние пассажирские авиаперевозки. Сотни перелётов каждый день. Важно понять предпочтения пользователей, покупающих билеты на те или иные направления.\n",
    "\n",
    "Вам предстоит изучить базу данных и проанализировать спрос пассажиров на рейсы в города, где проходят крупнейшие фестивали."
   ]
  },
  {
   "cell_type": "markdown",
   "metadata": {},
   "source": [
    "# Изучение данных из файла"
   ]
  },
  {
   "cell_type": "markdown",
   "metadata": {},
   "source": [
    "# Описание данных\n",
    "\n",
    "**query_1.csv — результат первого запроса.**\n",
    "\n",
    "В нём содержится информация о:\n",
    "* *model* — модели самолета\n",
    "* *flights_amount* — количество рейсов для каждой модели самолетов model в сентябре 2018 года\n",
    "\n",
    "**query_3.csv  — результат третьего запроса.**\n",
    "\n",
    "В нём содержится информация о:\n",
    "* *city* — городах\n",
    "* *average_flights* — среднем количестве рейсов, прибывающих в город city за день в августе 2018 года\n",
    "\n",
    "Для этих двух наборов данных нужно:\n",
    "* импортировать файлы;\n",
    "* изучить данные в них;\n",
    "* проверить типы данных на корректность;\n",
    "* выбрать топ-10 городов по количеству рейсов;\n",
    "* построить графики: модели самолетов и количество рейсов, города и количество рейсов, топ-10 городов и количество рейсов;\n",
    "* сделать выводы по каждому из графиков, пояснить результат."
   ]
  },
  {
   "cell_type": "markdown",
   "metadata": {},
   "source": [
    "## Открываем файл с данными и изучаем общую информацию"
   ]
  },
  {
   "cell_type": "markdown",
   "metadata": {},
   "source": [
    "### Импорт библиотек"
   ]
  },
  {
   "cell_type": "code",
   "execution_count": 1,
   "metadata": {
    "scrolled": true
   },
   "outputs": [],
   "source": [
    "import pandas as pd\n",
    "import os\n",
    "import matplotlib.pyplot as plt\n",
    "%matplotlib inline\n",
    "\n",
    "pd.set_option('display.max_columns', 50) #устанавливаем максимальное число отображаемых колонок\n",
    "pd.set_option('display.max_rows', 100)\n",
    "\n",
    "def load_csv_choose_path(file):\n",
    "    if os.path.exists(file):\n",
    "        db = pd.read_csv(file)\n",
    "    elif os.path.exists('/datasets/'+file):\n",
    "        db = pd.read_csv('/datasets/'+file)\n",
    "    else:\n",
    "        raise FileNotFoundError(file)\n",
    "    return db"
   ]
  },
  {
   "cell_type": "markdown",
   "metadata": {},
   "source": [
    "### Загружаем данные"
   ]
  },
  {
   "cell_type": "code",
   "execution_count": 2,
   "metadata": {},
   "outputs": [],
   "source": [
    "aircrafts = load_csv_choose_path('query_1.csv')\n",
    "flights = load_csv_choose_path('query_3.csv')"
   ]
  },
  {
   "cell_type": "markdown",
   "metadata": {},
   "source": [
    "### Таблица aircrafts(query_1.csv)"
   ]
  },
  {
   "cell_type": "code",
   "execution_count": 3,
   "metadata": {},
   "outputs": [
    {
     "name": "stdout",
     "output_type": "stream",
     "text": [
      "<class 'pandas.core.frame.DataFrame'>\n",
      "RangeIndex: 8 entries, 0 to 7\n",
      "Data columns (total 2 columns):\n",
      "model             8 non-null object\n",
      "flights_amount    8 non-null int64\n",
      "dtypes: int64(1), object(1)\n",
      "memory usage: 256.0+ bytes\n"
     ]
    }
   ],
   "source": [
    "aircrafts.info()"
   ]
  },
  {
   "cell_type": "code",
   "execution_count": 4,
   "metadata": {},
   "outputs": [
    {
     "data": {
      "text/html": [
       "<div>\n",
       "<style scoped>\n",
       "    .dataframe tbody tr th:only-of-type {\n",
       "        vertical-align: middle;\n",
       "    }\n",
       "\n",
       "    .dataframe tbody tr th {\n",
       "        vertical-align: top;\n",
       "    }\n",
       "\n",
       "    .dataframe thead th {\n",
       "        text-align: right;\n",
       "    }\n",
       "</style>\n",
       "<table border=\"1\" class=\"dataframe\">\n",
       "  <thead>\n",
       "    <tr style=\"text-align: right;\">\n",
       "      <th></th>\n",
       "      <th>model</th>\n",
       "      <th>flights_amount</th>\n",
       "    </tr>\n",
       "  </thead>\n",
       "  <tbody>\n",
       "    <tr>\n",
       "      <td>0</td>\n",
       "      <td>Airbus A319-100</td>\n",
       "      <td>607</td>\n",
       "    </tr>\n",
       "    <tr>\n",
       "      <td>1</td>\n",
       "      <td>Airbus A321-200</td>\n",
       "      <td>960</td>\n",
       "    </tr>\n",
       "    <tr>\n",
       "      <td>2</td>\n",
       "      <td>Boeing 737-300</td>\n",
       "      <td>630</td>\n",
       "    </tr>\n",
       "    <tr>\n",
       "      <td>3</td>\n",
       "      <td>Boeing 767-300</td>\n",
       "      <td>600</td>\n",
       "    </tr>\n",
       "    <tr>\n",
       "      <td>4</td>\n",
       "      <td>Boeing 777-300</td>\n",
       "      <td>300</td>\n",
       "    </tr>\n",
       "    <tr>\n",
       "      <td>5</td>\n",
       "      <td>Bombardier CRJ-200</td>\n",
       "      <td>4446</td>\n",
       "    </tr>\n",
       "    <tr>\n",
       "      <td>6</td>\n",
       "      <td>Cessna 208 Caravan</td>\n",
       "      <td>4557</td>\n",
       "    </tr>\n",
       "    <tr>\n",
       "      <td>7</td>\n",
       "      <td>Sukhoi SuperJet-100</td>\n",
       "      <td>4185</td>\n",
       "    </tr>\n",
       "  </tbody>\n",
       "</table>\n",
       "</div>"
      ],
      "text/plain": [
       "                 model  flights_amount\n",
       "0      Airbus A319-100             607\n",
       "1      Airbus A321-200             960\n",
       "2       Boeing 737-300             630\n",
       "3       Boeing 767-300             600\n",
       "4       Boeing 777-300             300\n",
       "5   Bombardier CRJ-200            4446\n",
       "6   Cessna 208 Caravan            4557\n",
       "7  Sukhoi SuperJet-100            4185"
      ]
     },
     "execution_count": 4,
     "metadata": {},
     "output_type": "execute_result"
    }
   ],
   "source": [
    "aircrafts"
   ]
  },
  {
   "cell_type": "code",
   "execution_count": 5,
   "metadata": {},
   "outputs": [
    {
     "data": {
      "text/html": [
       "<div>\n",
       "<style scoped>\n",
       "    .dataframe tbody tr th:only-of-type {\n",
       "        vertical-align: middle;\n",
       "    }\n",
       "\n",
       "    .dataframe tbody tr th {\n",
       "        vertical-align: top;\n",
       "    }\n",
       "\n",
       "    .dataframe thead th {\n",
       "        text-align: right;\n",
       "    }\n",
       "</style>\n",
       "<table border=\"1\" class=\"dataframe\">\n",
       "  <thead>\n",
       "    <tr style=\"text-align: right;\">\n",
       "      <th></th>\n",
       "      <th>flights_amount</th>\n",
       "    </tr>\n",
       "  </thead>\n",
       "  <tbody>\n",
       "    <tr>\n",
       "      <td>count</td>\n",
       "      <td>8.000000</td>\n",
       "    </tr>\n",
       "    <tr>\n",
       "      <td>mean</td>\n",
       "      <td>2035.625000</td>\n",
       "    </tr>\n",
       "    <tr>\n",
       "      <td>std</td>\n",
       "      <td>1965.203947</td>\n",
       "    </tr>\n",
       "    <tr>\n",
       "      <td>min</td>\n",
       "      <td>300.000000</td>\n",
       "    </tr>\n",
       "    <tr>\n",
       "      <td>25%</td>\n",
       "      <td>605.250000</td>\n",
       "    </tr>\n",
       "    <tr>\n",
       "      <td>50%</td>\n",
       "      <td>795.000000</td>\n",
       "    </tr>\n",
       "    <tr>\n",
       "      <td>75%</td>\n",
       "      <td>4250.250000</td>\n",
       "    </tr>\n",
       "    <tr>\n",
       "      <td>max</td>\n",
       "      <td>4557.000000</td>\n",
       "    </tr>\n",
       "  </tbody>\n",
       "</table>\n",
       "</div>"
      ],
      "text/plain": [
       "       flights_amount\n",
       "count        8.000000\n",
       "mean      2035.625000\n",
       "std       1965.203947\n",
       "min        300.000000\n",
       "25%        605.250000\n",
       "50%        795.000000\n",
       "75%       4250.250000\n",
       "max       4557.000000"
      ]
     },
     "execution_count": 5,
     "metadata": {},
     "output_type": "execute_result"
    }
   ],
   "source": [
    "aircrafts.describe()"
   ]
  },
  {
   "cell_type": "markdown",
   "metadata": {},
   "source": [
    "Дубликатов и пропусков нет. Тип данных корректный.\n",
    "\n",
    "Исправлять в данных ничего не надо."
   ]
  },
  {
   "cell_type": "markdown",
   "metadata": {},
   "source": [
    "### Таблица flights(query_3.csv)"
   ]
  },
  {
   "cell_type": "code",
   "execution_count": 6,
   "metadata": {},
   "outputs": [
    {
     "name": "stdout",
     "output_type": "stream",
     "text": [
      "<class 'pandas.core.frame.DataFrame'>\n",
      "RangeIndex: 101 entries, 0 to 100\n",
      "Data columns (total 2 columns):\n",
      "city               101 non-null object\n",
      "average_flights    101 non-null float64\n",
      "dtypes: float64(1), object(1)\n",
      "memory usage: 1.7+ KB\n"
     ]
    }
   ],
   "source": [
    "flights.info()"
   ]
  },
  {
   "cell_type": "code",
   "execution_count": 7,
   "metadata": {
    "scrolled": false
   },
   "outputs": [
    {
     "data": {
      "text/html": [
       "<div>\n",
       "<style scoped>\n",
       "    .dataframe tbody tr th:only-of-type {\n",
       "        vertical-align: middle;\n",
       "    }\n",
       "\n",
       "    .dataframe tbody tr th {\n",
       "        vertical-align: top;\n",
       "    }\n",
       "\n",
       "    .dataframe thead th {\n",
       "        text-align: right;\n",
       "    }\n",
       "</style>\n",
       "<table border=\"1\" class=\"dataframe\">\n",
       "  <thead>\n",
       "    <tr style=\"text-align: right;\">\n",
       "      <th></th>\n",
       "      <th>city</th>\n",
       "      <th>average_flights</th>\n",
       "    </tr>\n",
       "  </thead>\n",
       "  <tbody>\n",
       "    <tr>\n",
       "      <td>0</td>\n",
       "      <td>Абакан</td>\n",
       "      <td>3.870968</td>\n",
       "    </tr>\n",
       "    <tr>\n",
       "      <td>1</td>\n",
       "      <td>Анадырь</td>\n",
       "      <td>1.000000</td>\n",
       "    </tr>\n",
       "    <tr>\n",
       "      <td>2</td>\n",
       "      <td>Анапа</td>\n",
       "      <td>2.161290</td>\n",
       "    </tr>\n",
       "    <tr>\n",
       "      <td>3</td>\n",
       "      <td>Архангельск</td>\n",
       "      <td>5.354839</td>\n",
       "    </tr>\n",
       "    <tr>\n",
       "      <td>4</td>\n",
       "      <td>Астрахань</td>\n",
       "      <td>2.451613</td>\n",
       "    </tr>\n",
       "    <tr>\n",
       "      <td>5</td>\n",
       "      <td>Барнаул</td>\n",
       "      <td>2.612903</td>\n",
       "    </tr>\n",
       "    <tr>\n",
       "      <td>6</td>\n",
       "      <td>Белгород</td>\n",
       "      <td>6.000000</td>\n",
       "    </tr>\n",
       "    <tr>\n",
       "      <td>7</td>\n",
       "      <td>Белоярский</td>\n",
       "      <td>2.000000</td>\n",
       "    </tr>\n",
       "    <tr>\n",
       "      <td>8</td>\n",
       "      <td>Благовещенск</td>\n",
       "      <td>1.000000</td>\n",
       "    </tr>\n",
       "    <tr>\n",
       "      <td>9</td>\n",
       "      <td>Братск</td>\n",
       "      <td>1.000000</td>\n",
       "    </tr>\n",
       "  </tbody>\n",
       "</table>\n",
       "</div>"
      ],
      "text/plain": [
       "           city  average_flights\n",
       "0        Абакан         3.870968\n",
       "1       Анадырь         1.000000\n",
       "2         Анапа         2.161290\n",
       "3   Архангельск         5.354839\n",
       "4     Астрахань         2.451613\n",
       "5       Барнаул         2.612903\n",
       "6      Белгород         6.000000\n",
       "7    Белоярский         2.000000\n",
       "8  Благовещенск         1.000000\n",
       "9        Братск         1.000000"
      ]
     },
     "execution_count": 7,
     "metadata": {},
     "output_type": "execute_result"
    }
   ],
   "source": [
    "flights.head(10)"
   ]
  },
  {
   "cell_type": "code",
   "execution_count": 8,
   "metadata": {
    "scrolled": true
   },
   "outputs": [
    {
     "data": {
      "text/html": [
       "<div>\n",
       "<style scoped>\n",
       "    .dataframe tbody tr th:only-of-type {\n",
       "        vertical-align: middle;\n",
       "    }\n",
       "\n",
       "    .dataframe tbody tr th {\n",
       "        vertical-align: top;\n",
       "    }\n",
       "\n",
       "    .dataframe thead th {\n",
       "        text-align: right;\n",
       "    }\n",
       "</style>\n",
       "<table border=\"1\" class=\"dataframe\">\n",
       "  <thead>\n",
       "    <tr style=\"text-align: right;\">\n",
       "      <th></th>\n",
       "      <th>average_flights</th>\n",
       "    </tr>\n",
       "  </thead>\n",
       "  <tbody>\n",
       "    <tr>\n",
       "      <td>count</td>\n",
       "      <td>101.000000</td>\n",
       "    </tr>\n",
       "    <tr>\n",
       "      <td>mean</td>\n",
       "      <td>5.494189</td>\n",
       "    </tr>\n",
       "    <tr>\n",
       "      <td>std</td>\n",
       "      <td>13.119790</td>\n",
       "    </tr>\n",
       "    <tr>\n",
       "      <td>min</td>\n",
       "      <td>1.000000</td>\n",
       "    </tr>\n",
       "    <tr>\n",
       "      <td>25%</td>\n",
       "      <td>2.000000</td>\n",
       "    </tr>\n",
       "    <tr>\n",
       "      <td>50%</td>\n",
       "      <td>3.000000</td>\n",
       "    </tr>\n",
       "    <tr>\n",
       "      <td>75%</td>\n",
       "      <td>5.870968</td>\n",
       "    </tr>\n",
       "    <tr>\n",
       "      <td>max</td>\n",
       "      <td>129.774194</td>\n",
       "    </tr>\n",
       "  </tbody>\n",
       "</table>\n",
       "</div>"
      ],
      "text/plain": [
       "       average_flights\n",
       "count       101.000000\n",
       "mean          5.494189\n",
       "std          13.119790\n",
       "min           1.000000\n",
       "25%           2.000000\n",
       "50%           3.000000\n",
       "75%           5.870968\n",
       "max         129.774194"
      ]
     },
     "execution_count": 8,
     "metadata": {},
     "output_type": "execute_result"
    }
   ],
   "source": [
    "flights.describe()"
   ]
  },
  {
   "cell_type": "code",
   "execution_count": 9,
   "metadata": {
    "scrolled": false
   },
   "outputs": [
    {
     "data": {
      "text/plain": [
       "0"
      ]
     },
     "execution_count": 9,
     "metadata": {},
     "output_type": "execute_result"
    }
   ],
   "source": [
    "sum(flights.duplicated())"
   ]
  },
  {
   "cell_type": "markdown",
   "metadata": {},
   "source": [
    "Дубликатов и пропусков нет. Тип данных корректный.\n",
    "\n",
    "Исправлять в данных ничего не надо."
   ]
  },
  {
   "cell_type": "markdown",
   "metadata": {},
   "source": [
    "## Подготовка данных"
   ]
  },
  {
   "cell_type": "code",
   "execution_count": 10,
   "metadata": {
    "scrolled": false
   },
   "outputs": [
    {
     "data": {
      "image/png": "[encoded data removed]",
      "text/plain": [
       "<Figure size 864x432 with 1 Axes>"
      ]
     },
     "metadata": {
      "needs_background": "light"
     },
     "output_type": "display_data"
    }
   ],
   "source": [
    "aircrafts.sort_values(by='flights_amount', ascending=False).plot(x='model', y='flights_amount', kind='bar',figsize=(12, 6), fontsize=12)\n",
    "plt.xlabel('Модель самолета', fontsize=12)\n",
    "plt.ylabel('Кроличество рейсов', fontsize=12)\n",
    "plt.title('Количество рейсов в сентябре 2018 по моделям самолетов' , fontsize=14)\n",
    "plt.show();"
   ]
  },
  {
   "cell_type": "markdown",
   "metadata": {},
   "source": [
    "По количеству рейсов лидируют ближнемагистральные самолеты вместимостью до 100 пассажиров и максимальной дальностью полета до 3000 км, лидируют 3 модели самолетов:\n",
    "\n",
    "1. Cessna 208 Caravan\n",
    "2. Bombardier CRJ-200\n",
    "3. Sukhoi SuperJet-100\n",
    "\n",
    "Дальности полетов этих самолетов достаточно для перелетов по центральной части России, а небольшой самолет проще заполнить, чем дальнемагистальные самолеты типа Боинг-767 и Боинг-777 вместимостью 300-400 пассажиров"
   ]
  },
  {
   "cell_type": "code",
   "execution_count": 11,
   "metadata": {
    "scrolled": true
   },
   "outputs": [
    {
     "data": {
      "text/html": [
       "<div>\n",
       "<style scoped>\n",
       "    .dataframe tbody tr th:only-of-type {\n",
       "        vertical-align: middle;\n",
       "    }\n",
       "\n",
       "    .dataframe tbody tr th {\n",
       "        vertical-align: top;\n",
       "    }\n",
       "\n",
       "    .dataframe thead th {\n",
       "        text-align: right;\n",
       "    }\n",
       "</style>\n",
       "<table border=\"1\" class=\"dataframe\">\n",
       "  <thead>\n",
       "    <tr style=\"text-align: right;\">\n",
       "      <th></th>\n",
       "      <th>city</th>\n",
       "      <th>average_flights</th>\n",
       "    </tr>\n",
       "  </thead>\n",
       "  <tbody>\n",
       "    <tr>\n",
       "      <td>43</td>\n",
       "      <td>Москва</td>\n",
       "      <td>129.774194</td>\n",
       "    </tr>\n",
       "    <tr>\n",
       "      <td>70</td>\n",
       "      <td>Санкт-Петербург</td>\n",
       "      <td>31.161290</td>\n",
       "    </tr>\n",
       "    <tr>\n",
       "      <td>54</td>\n",
       "      <td>Новосибирск</td>\n",
       "      <td>17.322581</td>\n",
       "    </tr>\n",
       "    <tr>\n",
       "      <td>33</td>\n",
       "      <td>Красноярск</td>\n",
       "      <td>11.580645</td>\n",
       "    </tr>\n",
       "    <tr>\n",
       "      <td>20</td>\n",
       "      <td>Екатеринбург</td>\n",
       "      <td>11.322581</td>\n",
       "    </tr>\n",
       "    <tr>\n",
       "      <td>67</td>\n",
       "      <td>Ростов-на-Дону</td>\n",
       "      <td>10.193548</td>\n",
       "    </tr>\n",
       "    <tr>\n",
       "      <td>63</td>\n",
       "      <td>Пермь</td>\n",
       "      <td>10.129032</td>\n",
       "    </tr>\n",
       "    <tr>\n",
       "      <td>10</td>\n",
       "      <td>Брянск</td>\n",
       "      <td>10.000000</td>\n",
       "    </tr>\n",
       "    <tr>\n",
       "      <td>74</td>\n",
       "      <td>Сочи</td>\n",
       "      <td>9.612903</td>\n",
       "    </tr>\n",
       "    <tr>\n",
       "      <td>84</td>\n",
       "      <td>Ульяновск</td>\n",
       "      <td>9.580645</td>\n",
       "    </tr>\n",
       "  </tbody>\n",
       "</table>\n",
       "</div>"
      ],
      "text/plain": [
       "               city  average_flights\n",
       "43           Москва       129.774194\n",
       "70  Санкт-Петербург        31.161290\n",
       "54      Новосибирск        17.322581\n",
       "33       Красноярск        11.580645\n",
       "20     Екатеринбург        11.322581\n",
       "67   Ростов-на-Дону        10.193548\n",
       "63            Пермь        10.129032\n",
       "10           Брянск        10.000000\n",
       "74             Сочи         9.612903\n",
       "84        Ульяновск         9.580645"
      ]
     },
     "execution_count": 11,
     "metadata": {},
     "output_type": "execute_result"
    }
   ],
   "source": [
    "flights.sort_values('average_flights', ascending=False).head(10)"
   ]
  },
  {
   "cell_type": "code",
   "execution_count": 12,
   "metadata": {},
   "outputs": [
    {
     "data": {
      "image/png": "[encoded data removed]",
      "text/plain": [
       "<Figure size 1152x2160 with 1 Axes>"
      ]
     },
     "metadata": {
      "needs_background": "light"
     },
     "output_type": "display_data"
    }
   ],
   "source": [
    "flights.sort_values(by='average_flights').plot(x='city', y='average_flights', kind='barh',figsize=(16, 30), color ='r', fontsize=12)\n",
    "plt.ylabel('Город', fontsize=12)\n",
    "plt.xlabel('Cреднее количество рейсов в день', fontsize=12)\n",
    "plt.title('Cреднее количество рейсов в города за день в августе 2018 года' , fontsize=14)\n",
    "plt.show();"
   ]
  },
  {
   "cell_type": "code",
   "execution_count": 13,
   "metadata": {
    "scrolled": false
   },
   "outputs": [
    {
     "data": {
      "image/png": "[encoded data removed]",
      "text/plain": [
       "<Figure size 864x432 with 1 Axes>"
      ]
     },
     "metadata": {
      "needs_background": "light"
     },
     "output_type": "display_data"
    }
   ],
   "source": [
    "flights.sort_values(by='average_flights', ascending=False).head(10).plot(x='city', y='average_flights', kind='bar',figsize=(12, 6), color ='g', fontsize=12)\n",
    "plt.xlabel('Город', fontsize=12)\n",
    "plt.ylabel('Cреднее количество рейсов в день', fontsize=12)\n",
    "plt.title('Cреднее количество рейсов в TOP-10 городов за день в августе 2018 года' , fontsize=14)\n",
    "plt.show();"
   ]
  },
  {
   "cell_type": "markdown",
   "metadata": {},
   "source": [
    "По количеству рейсов в день лидирует Москва, на 2 месте находится аэропорт северной столицы Пулково, на 3 месте находится крупнейший за Уралом аэропорт Толмачёво (Новосибирск). Аэропорт Толмачёво находится на пересечении большого числа воздушных линий, идущих из Юго-Восточной Азии в Европу и из Северной Америки в Индию и Азию. \n",
    "\n",
    "Далее идут аэропорты крупных городов России (Красноярск, Екатеринбург(четвёртый по численности населения город в России), Ростов-на-Дону)."
   ]
  },
  {
   "cell_type": "markdown",
   "metadata": {},
   "source": [
    "## Вывод"
   ]
  },
  {
   "cell_type": "markdown",
   "metadata": {},
   "source": [
    "По количеству рейсов лидируют ближнемагистральные самолеты вместимостью до 100 пассажиров и дальностью полета до 3000 км, лидируют 3 модели самолетов:\n",
    "\n",
    "* Cessna 208 Caravan\n",
    "* Bombardier CRJ-200\n",
    "* Sukhoi SuperJet-100\n",
    "\n",
    "По количеству рейсов в день лидирует Москва, крупнейший авиационный узел. На 2 месте находится аэропорт северной столицы Пулково, на 3 месте находится крупнейший за Уралом аэропорт Толмачёво (Новосибирск). "
   ]
  }
 ],
 "metadata": {
  "ExecuteTimeLog": [
   {
    "duration": 1864,
    "start_time": "2021-06-10T15:00:38.070Z"
   },
   {
    "duration": 20,
    "start_time": "2021-06-10T15:00:39.937Z"
   },
   {
    "duration": 9,
    "start_time": "2021-06-10T15:00:39.960Z"
   },
   {
    "duration": 24,
    "start_time": "2021-06-10T15:00:39.972Z"
   },
   {
    "duration": 34,
    "start_time": "2021-06-10T15:00:39.998Z"
   },
   {
    "duration": 14,
    "start_time": "2021-06-10T15:00:40.035Z"
   },
   {
    "duration": 32,
    "start_time": "2021-06-10T15:00:40.052Z"
   },
   {
    "duration": 43,
    "start_time": "2021-06-10T15:00:40.089Z"
   },
   {
    "duration": 39,
    "start_time": "2021-06-10T15:00:40.135Z"
   },
   {
    "duration": 6,
    "start_time": "2021-06-10T15:00:40.177Z"
   },
   {
    "duration": 57,
    "start_time": "2021-06-10T15:00:40.186Z"
   },
   {
    "duration": 832,
    "start_time": "2021-06-10T15:00:40.245Z"
   },
   {
    "duration": 166,
    "start_time": "2021-06-10T15:00:41.080Z"
   },
   {
    "duration": 17,
    "start_time": "2021-06-10T15:00:41.249Z"
   },
   {
    "duration": 30,
    "start_time": "2021-06-10T15:00:41.269Z"
   },
   {
    "duration": 40,
    "start_time": "2021-06-10T15:00:41.301Z"
   },
   {
    "duration": 9,
    "start_time": "2021-06-10T15:00:41.344Z"
   },
   {
    "duration": 26,
    "start_time": "2021-06-10T15:00:41.356Z"
   },
   {
    "duration": 47,
    "start_time": "2021-06-10T15:00:41.385Z"
   },
   {
    "duration": 22,
    "start_time": "2021-06-10T15:00:41.435Z"
   },
   {
    "duration": 68,
    "start_time": "2021-06-10T15:00:41.460Z"
   },
   {
    "duration": 13,
    "start_time": "2021-06-10T15:00:41.532Z"
   },
   {
    "duration": 8,
    "start_time": "2021-06-10T15:00:41.554Z"
   },
   {
    "duration": 431,
    "start_time": "2021-06-10T15:00:41.565Z"
   },
   {
    "duration": 4,
    "start_time": "2021-06-10T15:00:41.999Z"
   },
   {
    "duration": 129,
    "start_time": "2021-06-10T15:00:42.006Z"
   },
   {
    "duration": 9,
    "start_time": "2021-06-10T15:00:42.138Z"
   },
   {
    "duration": 21,
    "start_time": "2021-06-10T15:00:42.149Z"
   },
   {
    "duration": 82,
    "start_time": "2021-06-10T15:00:42.173Z"
   },
   {
    "duration": 11,
    "start_time": "2021-06-10T15:00:42.257Z"
   },
   {
    "duration": 58,
    "start_time": "2021-06-10T15:00:42.270Z"
   },
   {
    "duration": 12,
    "start_time": "2021-06-10T15:00:42.330Z"
   },
   {
    "duration": 54,
    "start_time": "2021-06-10T15:00:42.345Z"
   },
   {
    "duration": 25,
    "start_time": "2021-06-10T15:00:42.402Z"
   },
   {
    "duration": 29,
    "start_time": "2021-06-10T15:00:42.430Z"
   },
   {
    "duration": 21,
    "start_time": "2021-06-10T15:00:42.463Z"
   },
   {
    "duration": 55,
    "start_time": "2021-06-10T15:00:42.486Z"
   },
   {
    "duration": 12,
    "start_time": "2021-06-10T15:00:42.544Z"
   },
   {
    "duration": 8,
    "start_time": "2021-06-10T15:00:42.558Z"
   },
   {
    "duration": 9,
    "start_time": "2021-06-10T15:00:42.570Z"
   },
   {
    "duration": 55,
    "start_time": "2021-06-10T15:00:42.581Z"
   },
   {
    "duration": 370,
    "start_time": "2021-06-10T15:00:42.638Z"
   },
   {
    "duration": 85,
    "start_time": "2021-06-10T15:00:43.011Z"
   },
   {
    "duration": 53,
    "start_time": "2021-06-10T15:00:43.099Z"
   },
   {
    "duration": 540,
    "start_time": "2021-06-10T15:00:43.155Z"
   },
   {
    "duration": 48,
    "start_time": "2021-06-10T15:00:43.698Z"
   },
   {
    "duration": 578,
    "start_time": "2021-06-10T15:00:43.749Z"
   },
   {
    "duration": 28,
    "start_time": "2021-06-10T15:00:44.331Z"
   },
   {
    "duration": 513,
    "start_time": "2021-06-10T15:00:44.362Z"
   },
   {
    "duration": 27,
    "start_time": "2021-06-10T15:00:44.878Z"
   },
   {
    "duration": 536,
    "start_time": "2021-06-10T15:00:44.907Z"
   },
   {
    "duration": 29,
    "start_time": "2021-06-10T15:00:45.446Z"
   },
   {
    "duration": 590,
    "start_time": "2021-06-10T15:00:45.478Z"
   },
   {
    "duration": 30,
    "start_time": "2021-06-10T15:00:46.070Z"
   },
   {
    "duration": 25,
    "start_time": "2021-06-10T15:00:46.102Z"
   },
   {
    "duration": 12,
    "start_time": "2021-06-10T15:00:46.131Z"
   },
   {
    "duration": 11,
    "start_time": "2021-06-10T15:00:46.145Z"
   },
   {
    "duration": 9,
    "start_time": "2021-06-10T15:00:46.158Z"
   },
   {
    "duration": 56,
    "start_time": "2021-06-10T15:00:46.169Z"
   },
   {
    "duration": 10,
    "start_time": "2021-06-10T15:00:46.228Z"
   },
   {
    "duration": 190,
    "start_time": "2021-06-10T15:00:46.241Z"
   },
   {
    "duration": 305,
    "start_time": "2021-06-10T15:00:46.433Z"
   },
   {
    "duration": 487,
    "start_time": "2021-06-10T15:10:19.089Z"
   },
   {
    "duration": 6,
    "start_time": "2021-06-10T15:10:23.105Z"
   },
   {
    "duration": 28,
    "start_time": "2021-06-10T15:11:21.759Z"
   },
   {
    "duration": 10,
    "start_time": "2021-06-10T15:11:47.582Z"
   },
   {
    "duration": 77,
    "start_time": "2021-06-10T15:13:01.319Z"
   },
   {
    "duration": 117,
    "start_time": "2021-07-02T15:21:10.959Z"
   },
   {
    "duration": 97,
    "start_time": "2021-07-02T15:28:14.754Z"
   },
   {
    "duration": 128,
    "start_time": "2021-07-02T17:36:10.433Z"
   },
   {
    "duration": 97,
    "start_time": "2021-07-02T17:36:46.300Z"
   },
   {
    "duration": 122,
    "start_time": "2021-07-02T17:37:05.390Z"
   }
  ],
  "kernelspec": {
   "display_name": "Python 3",
   "language": "python",
   "name": "python3"
  },
  "language_info": {
   "codemirror_mode": {
    "name": "ipython",
    "version": 3
   },
   "file_extension": ".py",
   "mimetype": "text/x-python",
   "name": "python",
   "nbconvert_exporter": "python",
   "pygments_lexer": "ipython3",
   "version": "3.7.10"
  },
  "toc": {
   "base_numbering": 1,
   "nav_menu": {},
   "number_sections": true,
   "sideBar": true,
   "skip_h1_title": true,
   "title_cell": "Содержание",
   "title_sidebar": "Contents",
   "toc_cell": true,
   "toc_position": {
    "height": "886.997px",
    "left": "64px",
    "top": "186.052px",
    "width": "252.361px"
   },
   "toc_section_display": true,
   "toc_window_display": true
  },
  "varInspector": {
   "cols": {
    "lenName": 16,
    "lenType": 16,
    "lenVar": 40
   },
   "kernels_config": {
    "python": {
     "delete_cmd_postfix": "",
     "delete_cmd_prefix": "del ",
     "library": "var_list.py",
     "varRefreshCmd": "print(var_dic_list())"
    },
    "r": {
     "delete_cmd_postfix": ") ",
     "delete_cmd_prefix": "rm(",
     "library": "var_list.r",
     "varRefreshCmd": "cat(var_dic_list()) "
    }
   },
   "types_to_exclude": [
    "module",
    "function",
    "builtin_function_or_method",
    "instance",
    "_Feature"
   ],
   "window_display": false
  }
 },
 "nbformat": 4,
 "nbformat_minor": 2
}
