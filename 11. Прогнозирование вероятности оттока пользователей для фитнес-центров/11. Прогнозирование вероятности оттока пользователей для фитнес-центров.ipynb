{
 "cells": [
  {
   "cell_type": "markdown",
   "metadata": {},
   "source": [
    "# 11. Прогнозирование вероятности оттока пользователей для фитнес-центров"
   ]
  },
  {
   "cell_type": "markdown",
   "metadata": {
    "toc": true
   },
   "source": [
    "<h1>Содержание<span class=\"tocSkip\"></span></h1>\n",
    "<div class=\"toc\"><ul class=\"toc-item\"><li><span><a href=\"#Загрузка-данных\" data-toc-modified-id=\"Загрузка-данных-1\"><span class=\"toc-item-num\">1&nbsp;&nbsp;</span>Загрузка данных</a></span><ul class=\"toc-item\"><li><span><a href=\"#Импорт-библиотек\" data-toc-modified-id=\"Импорт-библиотек-1.1\"><span class=\"toc-item-num\">1.1&nbsp;&nbsp;</span>Импорт библиотек</a></span></li><li><span><a href=\"#Загружаем-данные\" data-toc-modified-id=\"Загружаем-данные-1.2\"><span class=\"toc-item-num\">1.2&nbsp;&nbsp;</span>Загружаем данные</a></span></li></ul></li><li><span><a href=\"#Проведите-исследовательский-анализ-данных-(EDA)\" data-toc-modified-id=\"Проведите-исследовательский-анализ-данных-(EDA)-2\"><span class=\"toc-item-num\">2&nbsp;&nbsp;</span>Проведите исследовательский анализ данных (EDA)</a></span></li><li><span><a href=\"#Постройте-модель-прогнозирования-оттока-клиентов\" data-toc-modified-id=\"Постройте-модель-прогнозирования-оттока-клиентов-3\"><span class=\"toc-item-num\">3&nbsp;&nbsp;</span>Постройте модель прогнозирования оттока клиентов</a></span></li><li><span><a href=\"#Сделайте-кластеризацию-клиентов\" data-toc-modified-id=\"Сделайте-кластеризацию-клиентов-4\"><span class=\"toc-item-num\">4&nbsp;&nbsp;</span>Сделайте кластеризацию клиентов</a></span></li><li><span><a href=\"#Общий-вывод\" data-toc-modified-id=\"Общий-вывод-5\"><span class=\"toc-item-num\">5&nbsp;&nbsp;</span>Общий вывод</a></span></li></ul></div>"
   ]
  },
  {
   "cell_type": "markdown",
   "metadata": {},
   "source": [
    "# Описание проекта\n"
   ]
  },
  {
   "cell_type": "markdown",
   "metadata": {},
   "source": [
    "Сеть фитнес-центров «Культурист-датасаентист» разрабатывает стратегию взаимодействия с клиентами на основе аналитических данных.\n",
    "\n",
    "Распространённая проблема фитнес-клубов и других сервисов — отток клиентов. Как понять, что клиент больше не с вами? Можно записать в отток тех, кто попросил закрыть договор или удалил аккаунт. Однако клиенты не всегда уходят демонстративно: чаще перестают пользоваться сервисом тихо.\n",
    "\n",
    "Индикаторы оттока зависят от специфики отрасли. Когда пользователь редко, но стабильно закупается в интернет-магазине — не похоже, что он «отвалился». А вот если две недели не заходит на канал с ежедневно обновляемым контентом, дела плохи: подписчик заскучал и, кажется, оставил вас.\n",
    "\n",
    "Для фитнес-центра можно считать, что клиент попал в отток, если за последний месяц ни разу не посетил спортзал. Конечно, не исключено, что он уехал на Бали и по приезде обязательно продолжит ходить на фитнес. Однако чаще бывает наоборот. Если клиент начал новую жизнь с понедельника, немного походил в спортзал, а потом пропал — скорее всего, он не вернётся.\n",
    "\n",
    "Чтобы бороться с оттоком, отдел по работе с клиентами «Культуриста-датасаентиста» перевёл в электронный вид множество клиентских анкет. Ваша задача — провести анализ и подготовить план действий по удержанию клиентов.\n",
    "\n",
    "А именно:\n",
    "\n",
    "* научиться прогнозировать вероятность оттока (на уровне следующего месяца) для каждого клиента;\n",
    "* сформировать типичные портреты клиентов: выделить несколько наиболее ярких групп и охарактеризовать их основные свойства;\n",
    "* проанализировать основные признаки, наиболее сильно влияющие на отток;\n",
    "* сформулировать основные выводы и разработать рекомендации по повышению качества работы с клиентами:\n",
    "    * 1. выделить целевые группы клиентов;\n",
    "    * 2. предложить меры по снижению оттока;\n",
    "    * 3. определить другие особенности взаимодействия с клиентами."
   ]
  },
  {
   "cell_type": "markdown",
   "metadata": {},
   "source": [
    "# Описание данных\n",
    "\n",
    "«Культурист-датасаентист» предоставил сведения в csv-файлах. Заказчик подготовил данные, которые содержат данные на месяц до оттока и факт оттока на определённый месяц.<br>\n",
    "Набор данных включает следующие поля:\n",
    "\n",
    "* `'Churn'` — факт оттока в текущем месяце;\n",
    "* Текущие поля в датасете:\n",
    "    * Данные клиента за предыдущий до проверки факта оттока месяц:\n",
    "        * `'gender'` — пол;\n",
    "        * `'Near_Location'` — проживание или работа в районе, где находится фитнес-центр;\n",
    "        * `'Partner'` — сотрудник компании-партнёра клуба (сотрудничество с компаниями, чьи сотрудники могут получать скидки на абонемент — в таком случае фитнес-центр хранит информацию о работодателе клиента);\n",
    "        * `Promo_friends` — факт первоначальной записи в рамках акции «приведи друга» (использовал промо-код от знакомого при оплате первого абонемента);\n",
    "        * `'Phone'` — наличие контактного телефона;\n",
    "        * `'Age'` — возраст;\n",
    "        * `'Lifetime'` — время с момента первого обращения в фитнес-центр (в месяцах).<br><br>\n",
    "* Информация на основе журнала посещений, покупок и информация о текущем статусе абонемента клиента:\n",
    "    * `'Contract_period'` — длительность текущего действующего абонемента (месяц, 3 месяца, 6 месяцев, год);\n",
    "    * `'Month_to_end_contract'` — срок до окончания текущего действующего абонемента (в месяцах);\n",
    "    * `'Group_visits'` — факт посещения групповых занятий;\n",
    "    * `'Avg_class_frequency_total'` — средняя частота посещений в неделю за все время с начала действия абонемента;\n",
    "    * `'Avg_class_frequency_current_month'` — средняя частота посещений в неделю за предыдущий месяц;\n",
    "    * `'Avg_additional_charges_total'` — суммарная выручка от других услуг фитнес-центра: кафе, спорт-товары, косметический и массажный салон."
   ]
  },
  {
   "cell_type": "markdown",
   "metadata": {},
   "source": [
    "## Загрузка данных"
   ]
  },
  {
   "cell_type": "markdown",
   "metadata": {},
   "source": [
    "### Импорт библиотек"
   ]
  },
  {
   "cell_type": "code",
   "execution_count": 1,
   "metadata": {
    "scrolled": false
   },
   "outputs": [],
   "source": [
    "import pandas as pd\n",
    "import os\n",
    "import math\n",
    "import seaborn as sns\n",
    "import matplotlib.pyplot as plt\n",
    "\n",
    "from plotly import graph_objects as go\n",
    "from sklearn.model_selection import train_test_split\n",
    "from sklearn.linear_model import LogisticRegression\n",
    "from sklearn.tree import DecisionTreeClassifier\n",
    "from sklearn.ensemble import RandomForestClassifier\n",
    "from sklearn.ensemble import GradientBoostingClassifier\n",
    "from sklearn.preprocessing import StandardScaler\n",
    "from sklearn.cluster import KMeans\n",
    "from scipy.cluster.hierarchy import dendrogram, linkage\n",
    "from sklearn.metrics import accuracy_score, precision_score, recall_score, f1_score\n",
    "%matplotlib inline\n",
    "\n",
    "from pandas.plotting import register_matplotlib_converters\n",
    "register_matplotlib_converters()\n",
    "\n",
    "pd.set_option('display.max_columns', 50) #устанавливаем максимальное число отображаемых колонок\n",
    "pd.set_option('display.max_rows', 100)\n",
    "pd.set_option('max_colwidth', 1)\n",
    "\n",
    "def load_csv_choose_path(file):\n",
    "    if os.path.exists(file):\n",
    "        db = pd.read_csv(file, sep = ',')\n",
    "    elif os.path.exists('/datasets/'+file):\n",
    "        db = pd.read_csv('/datasets/'+file, sep = ',')\n",
    "    else:\n",
    "        raise FileNotFoundError(file)\n",
    "    return db"
   ]
  },
  {
   "cell_type": "code",
   "execution_count": 2,
   "metadata": {},
   "outputs": [
    {
     "name": "stdout",
     "output_type": "stream",
     "text": [
      "0.25.1\n"
     ]
    }
   ],
   "source": [
    "print (pd.__version__) #проверка версии"
   ]
  },
  {
   "cell_type": "markdown",
   "metadata": {},
   "source": [
    "### Загружаем данные"
   ]
  },
  {
   "cell_type": "code",
   "execution_count": 3,
   "metadata": {
    "scrolled": false
   },
   "outputs": [
    {
     "data": {
      "text/html": [
       "<div>\n",
       "<style scoped>\n",
       "    .dataframe tbody tr th:only-of-type {\n",
       "        vertical-align: middle;\n",
       "    }\n",
       "\n",
       "    .dataframe tbody tr th {\n",
       "        vertical-align: top;\n",
       "    }\n",
       "\n",
       "    .dataframe thead th {\n",
       "        text-align: right;\n",
       "    }\n",
       "</style>\n",
       "<table border=\"1\" class=\"dataframe\">\n",
       "  <thead>\n",
       "    <tr style=\"text-align: right;\">\n",
       "      <th></th>\n",
       "      <th>gender</th>\n",
       "      <th>Near_Location</th>\n",
       "      <th>Partner</th>\n",
       "      <th>Promo_friends</th>\n",
       "      <th>Phone</th>\n",
       "      <th>Contract_period</th>\n",
       "      <th>Group_visits</th>\n",
       "      <th>Age</th>\n",
       "      <th>Avg_additional_charges_total</th>\n",
       "      <th>Month_to_end_contract</th>\n",
       "      <th>Lifetime</th>\n",
       "      <th>Avg_class_frequency_total</th>\n",
       "      <th>Avg_class_frequency_current_month</th>\n",
       "      <th>Churn</th>\n",
       "    </tr>\n",
       "  </thead>\n",
       "  <tbody>\n",
       "    <tr>\n",
       "      <td>0</td>\n",
       "      <td>1</td>\n",
       "      <td>1</td>\n",
       "      <td>1</td>\n",
       "      <td>1</td>\n",
       "      <td>0</td>\n",
       "      <td>6</td>\n",
       "      <td>1</td>\n",
       "      <td>29</td>\n",
       "      <td>14.227470</td>\n",
       "      <td>5.0</td>\n",
       "      <td>3</td>\n",
       "      <td>0.020398</td>\n",
       "      <td>0.000000</td>\n",
       "      <td>0</td>\n",
       "    </tr>\n",
       "    <tr>\n",
       "      <td>1</td>\n",
       "      <td>0</td>\n",
       "      <td>1</td>\n",
       "      <td>0</td>\n",
       "      <td>0</td>\n",
       "      <td>1</td>\n",
       "      <td>12</td>\n",
       "      <td>1</td>\n",
       "      <td>31</td>\n",
       "      <td>113.202938</td>\n",
       "      <td>12.0</td>\n",
       "      <td>7</td>\n",
       "      <td>1.922936</td>\n",
       "      <td>1.910244</td>\n",
       "      <td>0</td>\n",
       "    </tr>\n",
       "    <tr>\n",
       "      <td>2</td>\n",
       "      <td>0</td>\n",
       "      <td>1</td>\n",
       "      <td>1</td>\n",
       "      <td>0</td>\n",
       "      <td>1</td>\n",
       "      <td>1</td>\n",
       "      <td>0</td>\n",
       "      <td>28</td>\n",
       "      <td>129.448479</td>\n",
       "      <td>1.0</td>\n",
       "      <td>2</td>\n",
       "      <td>1.859098</td>\n",
       "      <td>1.736502</td>\n",
       "      <td>0</td>\n",
       "    </tr>\n",
       "    <tr>\n",
       "      <td>3</td>\n",
       "      <td>0</td>\n",
       "      <td>1</td>\n",
       "      <td>1</td>\n",
       "      <td>1</td>\n",
       "      <td>1</td>\n",
       "      <td>12</td>\n",
       "      <td>1</td>\n",
       "      <td>33</td>\n",
       "      <td>62.669863</td>\n",
       "      <td>12.0</td>\n",
       "      <td>2</td>\n",
       "      <td>3.205633</td>\n",
       "      <td>3.357215</td>\n",
       "      <td>0</td>\n",
       "    </tr>\n",
       "    <tr>\n",
       "      <td>4</td>\n",
       "      <td>1</td>\n",
       "      <td>1</td>\n",
       "      <td>1</td>\n",
       "      <td>1</td>\n",
       "      <td>1</td>\n",
       "      <td>1</td>\n",
       "      <td>0</td>\n",
       "      <td>26</td>\n",
       "      <td>198.362265</td>\n",
       "      <td>1.0</td>\n",
       "      <td>3</td>\n",
       "      <td>1.113884</td>\n",
       "      <td>1.120078</td>\n",
       "      <td>0</td>\n",
       "    </tr>\n",
       "    <tr>\n",
       "      <td>5</td>\n",
       "      <td>1</td>\n",
       "      <td>1</td>\n",
       "      <td>0</td>\n",
       "      <td>0</td>\n",
       "      <td>1</td>\n",
       "      <td>1</td>\n",
       "      <td>1</td>\n",
       "      <td>34</td>\n",
       "      <td>450.743960</td>\n",
       "      <td>1.0</td>\n",
       "      <td>3</td>\n",
       "      <td>2.623477</td>\n",
       "      <td>2.637007</td>\n",
       "      <td>0</td>\n",
       "    </tr>\n",
       "    <tr>\n",
       "      <td>6</td>\n",
       "      <td>1</td>\n",
       "      <td>1</td>\n",
       "      <td>1</td>\n",
       "      <td>1</td>\n",
       "      <td>0</td>\n",
       "      <td>6</td>\n",
       "      <td>1</td>\n",
       "      <td>32</td>\n",
       "      <td>94.266389</td>\n",
       "      <td>6.0</td>\n",
       "      <td>2</td>\n",
       "      <td>1.138941</td>\n",
       "      <td>1.277242</td>\n",
       "      <td>0</td>\n",
       "    </tr>\n",
       "    <tr>\n",
       "      <td>7</td>\n",
       "      <td>0</td>\n",
       "      <td>1</td>\n",
       "      <td>0</td>\n",
       "      <td>0</td>\n",
       "      <td>1</td>\n",
       "      <td>1</td>\n",
       "      <td>0</td>\n",
       "      <td>30</td>\n",
       "      <td>217.786641</td>\n",
       "      <td>1.0</td>\n",
       "      <td>0</td>\n",
       "      <td>1.213502</td>\n",
       "      <td>1.049387</td>\n",
       "      <td>1</td>\n",
       "    </tr>\n",
       "    <tr>\n",
       "      <td>8</td>\n",
       "      <td>1</td>\n",
       "      <td>1</td>\n",
       "      <td>1</td>\n",
       "      <td>1</td>\n",
       "      <td>1</td>\n",
       "      <td>1</td>\n",
       "      <td>1</td>\n",
       "      <td>23</td>\n",
       "      <td>45.409909</td>\n",
       "      <td>1.0</td>\n",
       "      <td>1</td>\n",
       "      <td>1.106239</td>\n",
       "      <td>1.059333</td>\n",
       "      <td>0</td>\n",
       "    </tr>\n",
       "    <tr>\n",
       "      <td>9</td>\n",
       "      <td>0</td>\n",
       "      <td>1</td>\n",
       "      <td>0</td>\n",
       "      <td>0</td>\n",
       "      <td>1</td>\n",
       "      <td>1</td>\n",
       "      <td>0</td>\n",
       "      <td>31</td>\n",
       "      <td>65.310836</td>\n",
       "      <td>1.0</td>\n",
       "      <td>11</td>\n",
       "      <td>1.810852</td>\n",
       "      <td>1.951368</td>\n",
       "      <td>0</td>\n",
       "    </tr>\n",
       "  </tbody>\n",
       "</table>\n",
       "</div>"
      ],
      "text/plain": [
       "   gender  Near_Location  Partner  Promo_friends  Phone  Contract_period  \\\n",
       "0  1       1              1        1              0      6                 \n",
       "1  0       1              0        0              1      12                \n",
       "2  0       1              1        0              1      1                 \n",
       "3  0       1              1        1              1      12                \n",
       "4  1       1              1        1              1      1                 \n",
       "5  1       1              0        0              1      1                 \n",
       "6  1       1              1        1              0      6                 \n",
       "7  0       1              0        0              1      1                 \n",
       "8  1       1              1        1              1      1                 \n",
       "9  0       1              0        0              1      1                 \n",
       "\n",
       "   Group_visits  Age  Avg_additional_charges_total  Month_to_end_contract  \\\n",
       "0  1             29   14.227470                     5.0                     \n",
       "1  1             31   113.202938                    12.0                    \n",
       "2  0             28   129.448479                    1.0                     \n",
       "3  1             33   62.669863                     12.0                    \n",
       "4  0             26   198.362265                    1.0                     \n",
       "5  1             34   450.743960                    1.0                     \n",
       "6  1             32   94.266389                     6.0                     \n",
       "7  0             30   217.786641                    1.0                     \n",
       "8  1             23   45.409909                     1.0                     \n",
       "9  0             31   65.310836                     1.0                     \n",
       "\n",
       "   Lifetime  Avg_class_frequency_total  Avg_class_frequency_current_month  \\\n",
       "0  3         0.020398                   0.000000                            \n",
       "1  7         1.922936                   1.910244                            \n",
       "2  2         1.859098                   1.736502                            \n",
       "3  2         3.205633                   3.357215                            \n",
       "4  3         1.113884                   1.120078                            \n",
       "5  3         2.623477                   2.637007                            \n",
       "6  2         1.138941                   1.277242                            \n",
       "7  0         1.213502                   1.049387                            \n",
       "8  1         1.106239                   1.059333                            \n",
       "9  11        1.810852                   1.951368                            \n",
       "\n",
       "   Churn  \n",
       "0  0      \n",
       "1  0      \n",
       "2  0      \n",
       "3  0      \n",
       "4  0      \n",
       "5  0      \n",
       "6  0      \n",
       "7  1      \n",
       "8  0      \n",
       "9  0      "
      ]
     },
     "execution_count": 3,
     "metadata": {},
     "output_type": "execute_result"
    }
   ],
   "source": [
    "gym = load_csv_choose_path('gym_churn.csv')\n",
    "gym.head(10)"
   ]
  },
  {
   "cell_type": "markdown",
   "metadata": {},
   "source": [
    "## Проведите исследовательский анализ данных (EDA)"
   ]
  },
  {
   "cell_type": "code",
   "execution_count": 4,
   "metadata": {
    "scrolled": false
   },
   "outputs": [
    {
     "name": "stdout",
     "output_type": "stream",
     "text": [
      "<class 'pandas.core.frame.DataFrame'>\n",
      "RangeIndex: 4000 entries, 0 to 3999\n",
      "Data columns (total 14 columns):\n",
      "gender                               4000 non-null int64\n",
      "Near_Location                        4000 non-null int64\n",
      "Partner                              4000 non-null int64\n",
      "Promo_friends                        4000 non-null int64\n",
      "Phone                                4000 non-null int64\n",
      "Contract_period                      4000 non-null int64\n",
      "Group_visits                         4000 non-null int64\n",
      "Age                                  4000 non-null int64\n",
      "Avg_additional_charges_total         4000 non-null float64\n",
      "Month_to_end_contract                4000 non-null float64\n",
      "Lifetime                             4000 non-null int64\n",
      "Avg_class_frequency_total            4000 non-null float64\n",
      "Avg_class_frequency_current_month    4000 non-null float64\n",
      "Churn                                4000 non-null int64\n",
      "dtypes: float64(4), int64(10)\n",
      "memory usage: 437.6 KB\n"
     ]
    }
   ],
   "source": [
    "gym.info()"
   ]
  },
  {
   "cell_type": "markdown",
   "metadata": {},
   "source": [
    "4000 записей, 14 колонок, пропусков нет."
   ]
  },
  {
   "cell_type": "code",
   "execution_count": 5,
   "metadata": {},
   "outputs": [
    {
     "data": {
      "text/html": [
       "<div>\n",
       "<style scoped>\n",
       "    .dataframe tbody tr th:only-of-type {\n",
       "        vertical-align: middle;\n",
       "    }\n",
       "\n",
       "    .dataframe tbody tr th {\n",
       "        vertical-align: top;\n",
       "    }\n",
       "\n",
       "    .dataframe thead th {\n",
       "        text-align: right;\n",
       "    }\n",
       "</style>\n",
       "<table border=\"1\" class=\"dataframe\">\n",
       "  <thead>\n",
       "    <tr style=\"text-align: right;\">\n",
       "      <th></th>\n",
       "      <th>gender</th>\n",
       "      <th>Near_Location</th>\n",
       "      <th>Partner</th>\n",
       "      <th>Promo_friends</th>\n",
       "      <th>Phone</th>\n",
       "      <th>Contract_period</th>\n",
       "      <th>Group_visits</th>\n",
       "      <th>Age</th>\n",
       "      <th>Avg_additional_charges_total</th>\n",
       "      <th>Month_to_end_contract</th>\n",
       "      <th>Lifetime</th>\n",
       "      <th>Avg_class_frequency_total</th>\n",
       "      <th>Avg_class_frequency_current_month</th>\n",
       "      <th>Churn</th>\n",
       "    </tr>\n",
       "  </thead>\n",
       "  <tbody>\n",
       "    <tr>\n",
       "      <td>count</td>\n",
       "      <td>4000.000000</td>\n",
       "      <td>4000.000000</td>\n",
       "      <td>4000.000000</td>\n",
       "      <td>4000.000000</td>\n",
       "      <td>4000.000000</td>\n",
       "      <td>4000.000000</td>\n",
       "      <td>4000.000000</td>\n",
       "      <td>4000.000000</td>\n",
       "      <td>4000.000000</td>\n",
       "      <td>4000.000000</td>\n",
       "      <td>4000.000000</td>\n",
       "      <td>4000.000000</td>\n",
       "      <td>4000.000000</td>\n",
       "      <td>4000.000000</td>\n",
       "    </tr>\n",
       "    <tr>\n",
       "      <td>mean</td>\n",
       "      <td>0.510250</td>\n",
       "      <td>0.845250</td>\n",
       "      <td>0.486750</td>\n",
       "      <td>0.308500</td>\n",
       "      <td>0.903500</td>\n",
       "      <td>4.681250</td>\n",
       "      <td>0.412250</td>\n",
       "      <td>29.184250</td>\n",
       "      <td>146.943728</td>\n",
       "      <td>4.322750</td>\n",
       "      <td>3.724750</td>\n",
       "      <td>1.879020</td>\n",
       "      <td>1.767052</td>\n",
       "      <td>0.265250</td>\n",
       "    </tr>\n",
       "    <tr>\n",
       "      <td>std</td>\n",
       "      <td>0.499957</td>\n",
       "      <td>0.361711</td>\n",
       "      <td>0.499887</td>\n",
       "      <td>0.461932</td>\n",
       "      <td>0.295313</td>\n",
       "      <td>4.549706</td>\n",
       "      <td>0.492301</td>\n",
       "      <td>3.258367</td>\n",
       "      <td>96.355602</td>\n",
       "      <td>4.191297</td>\n",
       "      <td>3.749267</td>\n",
       "      <td>0.972245</td>\n",
       "      <td>1.052906</td>\n",
       "      <td>0.441521</td>\n",
       "    </tr>\n",
       "    <tr>\n",
       "      <td>min</td>\n",
       "      <td>0.000000</td>\n",
       "      <td>0.000000</td>\n",
       "      <td>0.000000</td>\n",
       "      <td>0.000000</td>\n",
       "      <td>0.000000</td>\n",
       "      <td>1.000000</td>\n",
       "      <td>0.000000</td>\n",
       "      <td>18.000000</td>\n",
       "      <td>0.148205</td>\n",
       "      <td>1.000000</td>\n",
       "      <td>0.000000</td>\n",
       "      <td>0.000000</td>\n",
       "      <td>0.000000</td>\n",
       "      <td>0.000000</td>\n",
       "    </tr>\n",
       "    <tr>\n",
       "      <td>25%</td>\n",
       "      <td>0.000000</td>\n",
       "      <td>1.000000</td>\n",
       "      <td>0.000000</td>\n",
       "      <td>0.000000</td>\n",
       "      <td>1.000000</td>\n",
       "      <td>1.000000</td>\n",
       "      <td>0.000000</td>\n",
       "      <td>27.000000</td>\n",
       "      <td>68.868830</td>\n",
       "      <td>1.000000</td>\n",
       "      <td>1.000000</td>\n",
       "      <td>1.180875</td>\n",
       "      <td>0.963003</td>\n",
       "      <td>0.000000</td>\n",
       "    </tr>\n",
       "    <tr>\n",
       "      <td>50%</td>\n",
       "      <td>1.000000</td>\n",
       "      <td>1.000000</td>\n",
       "      <td>0.000000</td>\n",
       "      <td>0.000000</td>\n",
       "      <td>1.000000</td>\n",
       "      <td>1.000000</td>\n",
       "      <td>0.000000</td>\n",
       "      <td>29.000000</td>\n",
       "      <td>136.220159</td>\n",
       "      <td>1.000000</td>\n",
       "      <td>3.000000</td>\n",
       "      <td>1.832768</td>\n",
       "      <td>1.719574</td>\n",
       "      <td>0.000000</td>\n",
       "    </tr>\n",
       "    <tr>\n",
       "      <td>75%</td>\n",
       "      <td>1.000000</td>\n",
       "      <td>1.000000</td>\n",
       "      <td>1.000000</td>\n",
       "      <td>1.000000</td>\n",
       "      <td>1.000000</td>\n",
       "      <td>6.000000</td>\n",
       "      <td>1.000000</td>\n",
       "      <td>31.000000</td>\n",
       "      <td>210.949625</td>\n",
       "      <td>6.000000</td>\n",
       "      <td>5.000000</td>\n",
       "      <td>2.536078</td>\n",
       "      <td>2.510336</td>\n",
       "      <td>1.000000</td>\n",
       "    </tr>\n",
       "    <tr>\n",
       "      <td>max</td>\n",
       "      <td>1.000000</td>\n",
       "      <td>1.000000</td>\n",
       "      <td>1.000000</td>\n",
       "      <td>1.000000</td>\n",
       "      <td>1.000000</td>\n",
       "      <td>12.000000</td>\n",
       "      <td>1.000000</td>\n",
       "      <td>41.000000</td>\n",
       "      <td>552.590740</td>\n",
       "      <td>12.000000</td>\n",
       "      <td>31.000000</td>\n",
       "      <td>6.023668</td>\n",
       "      <td>6.146783</td>\n",
       "      <td>1.000000</td>\n",
       "    </tr>\n",
       "  </tbody>\n",
       "</table>\n",
       "</div>"
      ],
      "text/plain": [
       "            gender  Near_Location      Partner  Promo_friends        Phone  \\\n",
       "count  4000.000000  4000.000000    4000.000000  4000.000000    4000.000000   \n",
       "mean   0.510250     0.845250       0.486750     0.308500       0.903500      \n",
       "std    0.499957     0.361711       0.499887     0.461932       0.295313      \n",
       "min    0.000000     0.000000       0.000000     0.000000       0.000000      \n",
       "25%    0.000000     1.000000       0.000000     0.000000       1.000000      \n",
       "50%    1.000000     1.000000       0.000000     0.000000       1.000000      \n",
       "75%    1.000000     1.000000       1.000000     1.000000       1.000000      \n",
       "max    1.000000     1.000000       1.000000     1.000000       1.000000      \n",
       "\n",
       "       Contract_period  Group_visits          Age  \\\n",
       "count  4000.000000      4000.000000   4000.000000   \n",
       "mean   4.681250         0.412250      29.184250     \n",
       "std    4.549706         0.492301      3.258367      \n",
       "min    1.000000         0.000000      18.000000     \n",
       "25%    1.000000         0.000000      27.000000     \n",
       "50%    1.000000         0.000000      29.000000     \n",
       "75%    6.000000         1.000000      31.000000     \n",
       "max    12.000000        1.000000      41.000000     \n",
       "\n",
       "       Avg_additional_charges_total  Month_to_end_contract     Lifetime  \\\n",
       "count  4000.000000                   4000.000000            4000.000000   \n",
       "mean   146.943728                    4.322750               3.724750      \n",
       "std    96.355602                     4.191297               3.749267      \n",
       "min    0.148205                      1.000000               0.000000      \n",
       "25%    68.868830                     1.000000               1.000000      \n",
       "50%    136.220159                    1.000000               3.000000      \n",
       "75%    210.949625                    6.000000               5.000000      \n",
       "max    552.590740                    12.000000              31.000000     \n",
       "\n",
       "       Avg_class_frequency_total  Avg_class_frequency_current_month  \\\n",
       "count  4000.000000                4000.000000                         \n",
       "mean   1.879020                   1.767052                            \n",
       "std    0.972245                   1.052906                            \n",
       "min    0.000000                   0.000000                            \n",
       "25%    1.180875                   0.963003                            \n",
       "50%    1.832768                   1.719574                            \n",
       "75%    2.536078                   2.510336                            \n",
       "max    6.023668                   6.146783                            \n",
       "\n",
       "             Churn  \n",
       "count  4000.000000  \n",
       "mean   0.265250     \n",
       "std    0.441521     \n",
       "min    0.000000     \n",
       "25%    0.000000     \n",
       "50%    0.000000     \n",
       "75%    1.000000     \n",
       "max    1.000000     "
      ]
     },
     "execution_count": 5,
     "metadata": {},
     "output_type": "execute_result"
    }
   ],
   "source": [
    "gym.describe()"
   ]
  },
  {
   "cell_type": "markdown",
   "metadata": {},
   "source": [
    "Исходя из данных пол распределен примерно поровну<br>\n",
    "В основном(85%) клиенты выбирают зал рядом с домом или работой, почти половина клиентов приходят по партнёрской программе.<br>\n",
    "Возраст клиентов 18-41 (средний около 29 лет, медианный такой же).<br>\n",
    "Средний абонемент 4,5 месяцев, чуть больше 40% клиентов посещают групповые занятия. В среднем зал посещают 2 раза в неделю.<br>\n",
    "Время с момента первого обращения в фитнес-центр составляет чуть меньше 4 месяцев."
   ]
  },
  {
   "cell_type": "code",
   "execution_count": 6,
   "metadata": {
    "scrolled": false
   },
   "outputs": [
    {
     "data": {
      "text/html": [
       "<div>\n",
       "<style scoped>\n",
       "    .dataframe tbody tr th:only-of-type {\n",
       "        vertical-align: middle;\n",
       "    }\n",
       "\n",
       "    .dataframe tbody tr th {\n",
       "        vertical-align: top;\n",
       "    }\n",
       "\n",
       "    .dataframe thead th {\n",
       "        text-align: right;\n",
       "    }\n",
       "</style>\n",
       "<table border=\"1\" class=\"dataframe\">\n",
       "  <thead>\n",
       "    <tr style=\"text-align: right;\">\n",
       "      <th></th>\n",
       "      <th>gender</th>\n",
       "      <th>Near_Location</th>\n",
       "      <th>Partner</th>\n",
       "      <th>Promo_friends</th>\n",
       "      <th>Phone</th>\n",
       "      <th>Contract_period</th>\n",
       "      <th>Group_visits</th>\n",
       "      <th>Age</th>\n",
       "      <th>Avg_additional_charges_total</th>\n",
       "      <th>Month_to_end_contract</th>\n",
       "      <th>Lifetime</th>\n",
       "      <th>Avg_class_frequency_total</th>\n",
       "      <th>Avg_class_frequency_current_month</th>\n",
       "    </tr>\n",
       "    <tr>\n",
       "      <th>Churn</th>\n",
       "      <th></th>\n",
       "      <th></th>\n",
       "      <th></th>\n",
       "      <th></th>\n",
       "      <th></th>\n",
       "      <th></th>\n",
       "      <th></th>\n",
       "      <th></th>\n",
       "      <th></th>\n",
       "      <th></th>\n",
       "      <th></th>\n",
       "      <th></th>\n",
       "      <th></th>\n",
       "    </tr>\n",
       "  </thead>\n",
       "  <tbody>\n",
       "    <tr>\n",
       "      <td>0</td>\n",
       "      <td>0.510037</td>\n",
       "      <td>0.873086</td>\n",
       "      <td>0.534195</td>\n",
       "      <td>0.353522</td>\n",
       "      <td>0.903709</td>\n",
       "      <td>5.747193</td>\n",
       "      <td>0.464103</td>\n",
       "      <td>29.976523</td>\n",
       "      <td>158.445715</td>\n",
       "      <td>5.283089</td>\n",
       "      <td>4.711807</td>\n",
       "      <td>2.024876</td>\n",
       "      <td>2.027882</td>\n",
       "    </tr>\n",
       "    <tr>\n",
       "      <td>1</td>\n",
       "      <td>0.510839</td>\n",
       "      <td>0.768143</td>\n",
       "      <td>0.355325</td>\n",
       "      <td>0.183789</td>\n",
       "      <td>0.902922</td>\n",
       "      <td>1.728558</td>\n",
       "      <td>0.268615</td>\n",
       "      <td>26.989632</td>\n",
       "      <td>115.082899</td>\n",
       "      <td>1.662582</td>\n",
       "      <td>0.990575</td>\n",
       "      <td>1.474995</td>\n",
       "      <td>1.044546</td>\n",
       "    </tr>\n",
       "  </tbody>\n",
       "</table>\n",
       "</div>"
      ],
      "text/plain": [
       "         gender  Near_Location   Partner  Promo_friends     Phone  \\\n",
       "Churn                                                               \n",
       "0      0.510037  0.873086       0.534195  0.353522       0.903709   \n",
       "1      0.510839  0.768143       0.355325  0.183789       0.902922   \n",
       "\n",
       "       Contract_period  Group_visits        Age  Avg_additional_charges_total  \\\n",
       "Churn                                                                           \n",
       "0      5.747193         0.464103      29.976523  158.445715                     \n",
       "1      1.728558         0.268615      26.989632  115.082899                     \n",
       "\n",
       "       Month_to_end_contract  Lifetime  Avg_class_frequency_total  \\\n",
       "Churn                                                               \n",
       "0      5.283089               4.711807  2.024876                    \n",
       "1      1.662582               0.990575  1.474995                    \n",
       "\n",
       "       Avg_class_frequency_current_month  \n",
       "Churn                                     \n",
       "0      2.027882                           \n",
       "1      1.044546                           "
      ]
     },
     "execution_count": 6,
     "metadata": {},
     "output_type": "execute_result"
    }
   ],
   "source": [
    "gym.groupby('Churn').mean()"
   ]
  },
  {
   "cell_type": "markdown",
   "metadata": {},
   "source": [
    "Исходя из средних значений, остаются клиенты пришедшие по партнерской программе и у которых фитнес-центр находится рядом с домом или работой.\n",
    "\n",
    "Чаще уходят клиенты реже посещающие групповые занятия, с коротким абонементом. Время с момента первого обращения в фитнес-центр составляет меньше месяца."
   ]
  },
  {
   "cell_type": "markdown",
   "metadata": {},
   "source": [
    "Исходя из средних значений, видим что ушедшие выбирают более короткий абонемен, чем оставшиеся.<br>\n",
    "Ушедшие реже  ходят в зал и посещают групповые занятия, меньше тратят на доп. услуги."
   ]
  },
  {
   "cell_type": "code",
   "execution_count": 7,
   "metadata": {
    "scrolled": false
   },
   "outputs": [
    {
     "data": {
      "image/png": "[encoded data removed]",
      "text/plain": [
       "<Figure size 504x360 with 1 Axes>"
      ]
     },
     "metadata": {
      "needs_background": "light"
     },
     "output_type": "display_data"
    },
    {
     "data": {
      "image/png": "[encoded data removed]",
      "text/plain": [
       "<Figure size 504x360 with 1 Axes>"
      ]
     },
     "metadata": {
      "needs_background": "light"
     },
     "output_type": "display_data"
    },
    {
     "data": {
      "image/png": "[encoded data removed]",
      "text/plain": [
       "<Figure size 504x360 with 1 Axes>"
      ]
     },
     "metadata": {
      "needs_background": "light"
     },
     "output_type": "display_data"
    },
    {
     "data": {
      "image/png": "[encoded data removed]",
      "text/plain": [
       "<Figure size 504x360 with 1 Axes>"
      ]
     },
     "metadata": {
      "needs_background": "light"
     },
     "output_type": "display_data"
    },
    {
     "data": {
      "image/png": "[encoded data removed]",
      "text/plain": [
       "<Figure size 504x360 with 1 Axes>"
      ]
     },
     "metadata": {
      "needs_background": "light"
     },
     "output_type": "display_data"
    },
    {
     "data": {
      "image/png": "[encoded data removed]",
      "text/plain": [
       "<Figure size 504x360 with 1 Axes>"
      ]
     },
     "metadata": {
      "needs_background": "light"
     },
     "output_type": "display_data"
    },
    {
     "data": {
      "image/png": "[encoded data removed]",
      "text/plain": [
       "<Figure size 504x360 with 1 Axes>"
      ]
     },
     "metadata": {
      "needs_background": "light"
     },
     "output_type": "display_data"
    },
    {
     "data": {
      "image/png": "[encoded data removed]",
      "text/plain": [
       "<Figure size 504x360 with 1 Axes>"
      ]
     },
     "metadata": {
      "needs_background": "light"
     },
     "output_type": "display_data"
    },
    {
     "data": {
      "image/png": "[encoded data removed]",
      "text/plain": [
       "<Figure size 504x360 with 1 Axes>"
      ]
     },
     "metadata": {
      "needs_background": "light"
     },
     "output_type": "display_data"
    },
    {
     "data": {
      "image/png": "[encoded data removed]",
      "text/plain": [
       "<Figure size 504x360 with 1 Axes>"
      ]
     },
     "metadata": {
      "needs_background": "light"
     },
     "output_type": "display_data"
    },
    {
     "data": {
      "image/png": "[encoded data removed]",
      "text/plain": [
       "<Figure size 504x360 with 1 Axes>"
      ]
     },
     "metadata": {
      "needs_background": "light"
     },
     "output_type": "display_data"
    },
    {
     "data": {
      "image/png": "[encoded data removed]",
      "text/plain": [
       "<Figure size 504x360 with 1 Axes>"
      ]
     },
     "metadata": {
      "needs_background": "light"
     },
     "output_type": "display_data"
    },
    {
     "data": {
      "image/png": "[encoded data removed]",
      "text/plain": [
       "<Figure size 504x360 with 1 Axes>"
      ]
     },
     "metadata": {
      "needs_background": "light"
     },
     "output_type": "display_data"
    }
   ],
   "source": [
    "for i, el in enumerate(gym.columns.drop('Churn')):\n",
    "    fig = plt.figure(figsize=(7, 5))\n",
    "    for val in gym['Churn'].unique():    \n",
    "        sns.distplot(gym[gym['Churn'] == val][el], kde=False)\n",
    "        plt.legend(['остались','ушли'])\n",
    "    plt.show()"
   ]
  },
  {
   "cell_type": "markdown",
   "metadata": {},
   "source": [
    "Построим матрицу корреляций."
   ]
  },
  {
   "cell_type": "code",
   "execution_count": 8,
   "metadata": {},
   "outputs": [
    {
     "data": {
      "text/html": [
       "<div>\n",
       "<style scoped>\n",
       "    .dataframe tbody tr th:only-of-type {\n",
       "        vertical-align: middle;\n",
       "    }\n",
       "\n",
       "    .dataframe tbody tr th {\n",
       "        vertical-align: top;\n",
       "    }\n",
       "\n",
       "    .dataframe thead th {\n",
       "        text-align: right;\n",
       "    }\n",
       "</style>\n",
       "<table border=\"1\" class=\"dataframe\">\n",
       "  <thead>\n",
       "    <tr style=\"text-align: right;\">\n",
       "      <th></th>\n",
       "      <th>gender</th>\n",
       "      <th>Near_Location</th>\n",
       "      <th>Partner</th>\n",
       "      <th>Promo_friends</th>\n",
       "      <th>Phone</th>\n",
       "      <th>Contract_period</th>\n",
       "      <th>Group_visits</th>\n",
       "      <th>Age</th>\n",
       "      <th>Avg_additional_charges_total</th>\n",
       "      <th>Month_to_end_contract</th>\n",
       "      <th>Lifetime</th>\n",
       "      <th>Avg_class_frequency_total</th>\n",
       "      <th>Avg_class_frequency_current_month</th>\n",
       "      <th>Churn</th>\n",
       "    </tr>\n",
       "  </thead>\n",
       "  <tbody>\n",
       "    <tr>\n",
       "      <td>gender</td>\n",
       "      <td>1.000000</td>\n",
       "      <td>0.006699</td>\n",
       "      <td>-0.010463</td>\n",
       "      <td>-0.005033</td>\n",
       "      <td>-0.008542</td>\n",
       "      <td>0.000502</td>\n",
       "      <td>0.017879</td>\n",
       "      <td>0.013807</td>\n",
       "      <td>-0.009334</td>\n",
       "      <td>-0.001281</td>\n",
       "      <td>0.013579</td>\n",
       "      <td>0.014620</td>\n",
       "      <td>0.009156</td>\n",
       "      <td>0.000708</td>\n",
       "    </tr>\n",
       "    <tr>\n",
       "      <td>Near_Location</td>\n",
       "      <td>0.006699</td>\n",
       "      <td>1.000000</td>\n",
       "      <td>-0.005119</td>\n",
       "      <td>0.210964</td>\n",
       "      <td>-0.015763</td>\n",
       "      <td>0.150233</td>\n",
       "      <td>0.154728</td>\n",
       "      <td>0.058358</td>\n",
       "      <td>0.040761</td>\n",
       "      <td>0.143961</td>\n",
       "      <td>0.070921</td>\n",
       "      <td>0.043127</td>\n",
       "      <td>0.062664</td>\n",
       "      <td>-0.128098</td>\n",
       "    </tr>\n",
       "    <tr>\n",
       "      <td>Partner</td>\n",
       "      <td>-0.010463</td>\n",
       "      <td>-0.005119</td>\n",
       "      <td>1.000000</td>\n",
       "      <td>0.451960</td>\n",
       "      <td>0.009970</td>\n",
       "      <td>0.306166</td>\n",
       "      <td>0.022710</td>\n",
       "      <td>0.047480</td>\n",
       "      <td>0.022941</td>\n",
       "      <td>0.294632</td>\n",
       "      <td>0.061229</td>\n",
       "      <td>0.024938</td>\n",
       "      <td>0.045561</td>\n",
       "      <td>-0.157986</td>\n",
       "    </tr>\n",
       "    <tr>\n",
       "      <td>Promo_friends</td>\n",
       "      <td>-0.005033</td>\n",
       "      <td>0.210964</td>\n",
       "      <td>0.451960</td>\n",
       "      <td>1.000000</td>\n",
       "      <td>0.001982</td>\n",
       "      <td>0.244552</td>\n",
       "      <td>0.120170</td>\n",
       "      <td>0.050113</td>\n",
       "      <td>0.036898</td>\n",
       "      <td>0.239553</td>\n",
       "      <td>0.072721</td>\n",
       "      <td>0.028063</td>\n",
       "      <td>0.053768</td>\n",
       "      <td>-0.162233</td>\n",
       "    </tr>\n",
       "    <tr>\n",
       "      <td>Phone</td>\n",
       "      <td>-0.008542</td>\n",
       "      <td>-0.015763</td>\n",
       "      <td>0.009970</td>\n",
       "      <td>0.001982</td>\n",
       "      <td>1.000000</td>\n",
       "      <td>-0.006893</td>\n",
       "      <td>-0.010099</td>\n",
       "      <td>-0.011403</td>\n",
       "      <td>0.009279</td>\n",
       "      <td>-0.011196</td>\n",
       "      <td>-0.018801</td>\n",
       "      <td>0.008340</td>\n",
       "      <td>0.013375</td>\n",
       "      <td>-0.001177</td>\n",
       "    </tr>\n",
       "    <tr>\n",
       "      <td>Contract_period</td>\n",
       "      <td>0.000502</td>\n",
       "      <td>0.150233</td>\n",
       "      <td>0.306166</td>\n",
       "      <td>0.244552</td>\n",
       "      <td>-0.006893</td>\n",
       "      <td>1.000000</td>\n",
       "      <td>0.169991</td>\n",
       "      <td>0.138249</td>\n",
       "      <td>0.111445</td>\n",
       "      <td>0.973064</td>\n",
       "      <td>0.170725</td>\n",
       "      <td>0.096211</td>\n",
       "      <td>0.159407</td>\n",
       "      <td>-0.389984</td>\n",
       "    </tr>\n",
       "    <tr>\n",
       "      <td>Group_visits</td>\n",
       "      <td>0.017879</td>\n",
       "      <td>0.154728</td>\n",
       "      <td>0.022710</td>\n",
       "      <td>0.120170</td>\n",
       "      <td>-0.010099</td>\n",
       "      <td>0.169991</td>\n",
       "      <td>1.000000</td>\n",
       "      <td>0.080934</td>\n",
       "      <td>0.032079</td>\n",
       "      <td>0.163703</td>\n",
       "      <td>0.075853</td>\n",
       "      <td>0.056695</td>\n",
       "      <td>0.075923</td>\n",
       "      <td>-0.175325</td>\n",
       "    </tr>\n",
       "    <tr>\n",
       "      <td>Age</td>\n",
       "      <td>0.013807</td>\n",
       "      <td>0.058358</td>\n",
       "      <td>0.047480</td>\n",
       "      <td>0.050113</td>\n",
       "      <td>-0.011403</td>\n",
       "      <td>0.138249</td>\n",
       "      <td>0.080934</td>\n",
       "      <td>1.000000</td>\n",
       "      <td>0.080240</td>\n",
       "      <td>0.134511</td>\n",
       "      <td>0.164693</td>\n",
       "      <td>0.119953</td>\n",
       "      <td>0.183095</td>\n",
       "      <td>-0.404735</td>\n",
       "    </tr>\n",
       "    <tr>\n",
       "      <td>Avg_additional_charges_total</td>\n",
       "      <td>-0.009334</td>\n",
       "      <td>0.040761</td>\n",
       "      <td>0.022941</td>\n",
       "      <td>0.036898</td>\n",
       "      <td>0.009279</td>\n",
       "      <td>0.111445</td>\n",
       "      <td>0.032079</td>\n",
       "      <td>0.080240</td>\n",
       "      <td>1.000000</td>\n",
       "      <td>0.113958</td>\n",
       "      <td>0.079028</td>\n",
       "      <td>0.044426</td>\n",
       "      <td>0.079570</td>\n",
       "      <td>-0.198697</td>\n",
       "    </tr>\n",
       "    <tr>\n",
       "      <td>Month_to_end_contract</td>\n",
       "      <td>-0.001281</td>\n",
       "      <td>0.143961</td>\n",
       "      <td>0.294632</td>\n",
       "      <td>0.239553</td>\n",
       "      <td>-0.011196</td>\n",
       "      <td>0.973064</td>\n",
       "      <td>0.163703</td>\n",
       "      <td>0.134511</td>\n",
       "      <td>0.113958</td>\n",
       "      <td>1.000000</td>\n",
       "      <td>0.161078</td>\n",
       "      <td>0.085387</td>\n",
       "      <td>0.147605</td>\n",
       "      <td>-0.381393</td>\n",
       "    </tr>\n",
       "    <tr>\n",
       "      <td>Lifetime</td>\n",
       "      <td>0.013579</td>\n",
       "      <td>0.070921</td>\n",
       "      <td>0.061229</td>\n",
       "      <td>0.072721</td>\n",
       "      <td>-0.018801</td>\n",
       "      <td>0.170725</td>\n",
       "      <td>0.075853</td>\n",
       "      <td>0.164693</td>\n",
       "      <td>0.079028</td>\n",
       "      <td>0.161078</td>\n",
       "      <td>1.000000</td>\n",
       "      <td>0.112338</td>\n",
       "      <td>0.181975</td>\n",
       "      <td>-0.438220</td>\n",
       "    </tr>\n",
       "    <tr>\n",
       "      <td>Avg_class_frequency_total</td>\n",
       "      <td>0.014620</td>\n",
       "      <td>0.043127</td>\n",
       "      <td>0.024938</td>\n",
       "      <td>0.028063</td>\n",
       "      <td>0.008340</td>\n",
       "      <td>0.096211</td>\n",
       "      <td>0.056695</td>\n",
       "      <td>0.119953</td>\n",
       "      <td>0.044426</td>\n",
       "      <td>0.085387</td>\n",
       "      <td>0.112338</td>\n",
       "      <td>1.000000</td>\n",
       "      <td>0.952739</td>\n",
       "      <td>-0.249715</td>\n",
       "    </tr>\n",
       "    <tr>\n",
       "      <td>Avg_class_frequency_current_month</td>\n",
       "      <td>0.009156</td>\n",
       "      <td>0.062664</td>\n",
       "      <td>0.045561</td>\n",
       "      <td>0.053768</td>\n",
       "      <td>0.013375</td>\n",
       "      <td>0.159407</td>\n",
       "      <td>0.075923</td>\n",
       "      <td>0.183095</td>\n",
       "      <td>0.079570</td>\n",
       "      <td>0.147605</td>\n",
       "      <td>0.181975</td>\n",
       "      <td>0.952739</td>\n",
       "      <td>1.000000</td>\n",
       "      <td>-0.412348</td>\n",
       "    </tr>\n",
       "    <tr>\n",
       "      <td>Churn</td>\n",
       "      <td>0.000708</td>\n",
       "      <td>-0.128098</td>\n",
       "      <td>-0.157986</td>\n",
       "      <td>-0.162233</td>\n",
       "      <td>-0.001177</td>\n",
       "      <td>-0.389984</td>\n",
       "      <td>-0.175325</td>\n",
       "      <td>-0.404735</td>\n",
       "      <td>-0.198697</td>\n",
       "      <td>-0.381393</td>\n",
       "      <td>-0.438220</td>\n",
       "      <td>-0.249715</td>\n",
       "      <td>-0.412348</td>\n",
       "      <td>1.000000</td>\n",
       "    </tr>\n",
       "  </tbody>\n",
       "</table>\n",
       "</div>"
      ],
      "text/plain": [
       "                                     gender  Near_Location   Partner  \\\n",
       "gender                             1.000000  0.006699      -0.010463   \n",
       "Near_Location                      0.006699  1.000000      -0.005119   \n",
       "Partner                           -0.010463 -0.005119       1.000000   \n",
       "Promo_friends                     -0.005033  0.210964       0.451960   \n",
       "Phone                             -0.008542 -0.015763       0.009970   \n",
       "Contract_period                    0.000502  0.150233       0.306166   \n",
       "Group_visits                       0.017879  0.154728       0.022710   \n",
       "Age                                0.013807  0.058358       0.047480   \n",
       "Avg_additional_charges_total      -0.009334  0.040761       0.022941   \n",
       "Month_to_end_contract             -0.001281  0.143961       0.294632   \n",
       "Lifetime                           0.013579  0.070921       0.061229   \n",
       "Avg_class_frequency_total          0.014620  0.043127       0.024938   \n",
       "Avg_class_frequency_current_month  0.009156  0.062664       0.045561   \n",
       "Churn                              0.000708 -0.128098      -0.157986   \n",
       "\n",
       "                                   Promo_friends     Phone  Contract_period  \\\n",
       "gender                            -0.005033      -0.008542  0.000502          \n",
       "Near_Location                      0.210964      -0.015763  0.150233          \n",
       "Partner                            0.451960       0.009970  0.306166          \n",
       "Promo_friends                      1.000000       0.001982  0.244552          \n",
       "Phone                              0.001982       1.000000 -0.006893          \n",
       "Contract_period                    0.244552      -0.006893  1.000000          \n",
       "Group_visits                       0.120170      -0.010099  0.169991          \n",
       "Age                                0.050113      -0.011403  0.138249          \n",
       "Avg_additional_charges_total       0.036898       0.009279  0.111445          \n",
       "Month_to_end_contract              0.239553      -0.011196  0.973064          \n",
       "Lifetime                           0.072721      -0.018801  0.170725          \n",
       "Avg_class_frequency_total          0.028063       0.008340  0.096211          \n",
       "Avg_class_frequency_current_month  0.053768       0.013375  0.159407          \n",
       "Churn                             -0.162233      -0.001177 -0.389984          \n",
       "\n",
       "                                   Group_visits       Age  \\\n",
       "gender                             0.017879      0.013807   \n",
       "Near_Location                      0.154728      0.058358   \n",
       "Partner                            0.022710      0.047480   \n",
       "Promo_friends                      0.120170      0.050113   \n",
       "Phone                             -0.010099     -0.011403   \n",
       "Contract_period                    0.169991      0.138249   \n",
       "Group_visits                       1.000000      0.080934   \n",
       "Age                                0.080934      1.000000   \n",
       "Avg_additional_charges_total       0.032079      0.080240   \n",
       "Month_to_end_contract              0.163703      0.134511   \n",
       "Lifetime                           0.075853      0.164693   \n",
       "Avg_class_frequency_total          0.056695      0.119953   \n",
       "Avg_class_frequency_current_month  0.075923      0.183095   \n",
       "Churn                             -0.175325     -0.404735   \n",
       "\n",
       "                                   Avg_additional_charges_total  \\\n",
       "gender                            -0.009334                       \n",
       "Near_Location                      0.040761                       \n",
       "Partner                            0.022941                       \n",
       "Promo_friends                      0.036898                       \n",
       "Phone                              0.009279                       \n",
       "Contract_period                    0.111445                       \n",
       "Group_visits                       0.032079                       \n",
       "Age                                0.080240                       \n",
       "Avg_additional_charges_total       1.000000                       \n",
       "Month_to_end_contract              0.113958                       \n",
       "Lifetime                           0.079028                       \n",
       "Avg_class_frequency_total          0.044426                       \n",
       "Avg_class_frequency_current_month  0.079570                       \n",
       "Churn                             -0.198697                       \n",
       "\n",
       "                                   Month_to_end_contract  Lifetime  \\\n",
       "gender                            -0.001281               0.013579   \n",
       "Near_Location                      0.143961               0.070921   \n",
       "Partner                            0.294632               0.061229   \n",
       "Promo_friends                      0.239553               0.072721   \n",
       "Phone                             -0.011196              -0.018801   \n",
       "Contract_period                    0.973064               0.170725   \n",
       "Group_visits                       0.163703               0.075853   \n",
       "Age                                0.134511               0.164693   \n",
       "Avg_additional_charges_total       0.113958               0.079028   \n",
       "Month_to_end_contract              1.000000               0.161078   \n",
       "Lifetime                           0.161078               1.000000   \n",
       "Avg_class_frequency_total          0.085387               0.112338   \n",
       "Avg_class_frequency_current_month  0.147605               0.181975   \n",
       "Churn                             -0.381393              -0.438220   \n",
       "\n",
       "                                   Avg_class_frequency_total  \\\n",
       "gender                             0.014620                    \n",
       "Near_Location                      0.043127                    \n",
       "Partner                            0.024938                    \n",
       "Promo_friends                      0.028063                    \n",
       "Phone                              0.008340                    \n",
       "Contract_period                    0.096211                    \n",
       "Group_visits                       0.056695                    \n",
       "Age                                0.119953                    \n",
       "Avg_additional_charges_total       0.044426                    \n",
       "Month_to_end_contract              0.085387                    \n",
       "Lifetime                           0.112338                    \n",
       "Avg_class_frequency_total          1.000000                    \n",
       "Avg_class_frequency_current_month  0.952739                    \n",
       "Churn                             -0.249715                    \n",
       "\n",
       "                                   Avg_class_frequency_current_month     Churn  \n",
       "gender                             0.009156                           0.000708  \n",
       "Near_Location                      0.062664                          -0.128098  \n",
       "Partner                            0.045561                          -0.157986  \n",
       "Promo_friends                      0.053768                          -0.162233  \n",
       "Phone                              0.013375                          -0.001177  \n",
       "Contract_period                    0.159407                          -0.389984  \n",
       "Group_visits                       0.075923                          -0.175325  \n",
       "Age                                0.183095                          -0.404735  \n",
       "Avg_additional_charges_total       0.079570                          -0.198697  \n",
       "Month_to_end_contract              0.147605                          -0.381393  \n",
       "Lifetime                           0.181975                          -0.438220  \n",
       "Avg_class_frequency_total          0.952739                          -0.249715  \n",
       "Avg_class_frequency_current_month  1.000000                          -0.412348  \n",
       "Churn                             -0.412348                           1.000000  "
      ]
     },
     "execution_count": 8,
     "metadata": {},
     "output_type": "execute_result"
    }
   ],
   "source": [
    "corr_gym = gym.corr()\n",
    "corr_gym"
   ]
  },
  {
   "cell_type": "code",
   "execution_count": 9,
   "metadata": {},
   "outputs": [
    {
     "data": {
      "image/png": "[encoded data removed]",
      "text/plain": [
       "<Figure size 1080x1080 with 2 Axes>"
      ]
     },
     "metadata": {
      "needs_background": "light"
     },
     "output_type": "display_data"
    }
   ],
   "source": [
    "plt.figure(figsize=(15,15)) \n",
    "sns.heatmap(corr_gym, annot=True, fmt='.2f', cmap= 'coolwarm', linecolor='white', vmax=1.1, linewidths=0.5, square=True);"
   ]
  },
  {
   "cell_type": "markdown",
   "metadata": {},
   "source": [
    "Видим высокую корреляцюя у параметров **Contract_period - Month_to_end_contract** (длительность текущего действующего абонемента и срок до окончания текущего действующего абонемента) клиенты надавно купили абонементы<br><br>\n",
    "И **Avg_class_frequency_total - Avg_class_frequency_current_month** (чсредняя частота посещений в неделю за все время и средняя частота посещений в неделю за предыдущий месяц).<br><br>\n",
    "Делаем вывод, что если фитнес-центр находится далеко,клиент не участвует в партнерской программе, редко посещает групповые занятия, оформляет абонемент на месяц или редко посещает зал, то он с большей вероятностью уйдёт.\n",
    "\n",
    "В данных есть две пары сильно скоррелированных признаков. Одну переменную из пары стоит удалять, иначе она будет доминировать при обучении. Удаляем сильно коррелирующие признаки **'Month_to_end_contract', 'Avg_class_frequency_current_month'**"
   ]
  },
  {
   "cell_type": "code",
   "execution_count": 10,
   "metadata": {},
   "outputs": [],
   "source": [
    "gym_drop = gym.drop(['Month_to_end_contract', 'Avg_class_frequency_current_month'], axis=1)"
   ]
  },
  {
   "cell_type": "code",
   "execution_count": 11,
   "metadata": {},
   "outputs": [
    {
     "data": {
      "image/png": "[encoded data removed]",
      "text/plain": [
       "<Figure size 1080x1080 with 2 Axes>"
      ]
     },
     "metadata": {
      "needs_background": "light"
     },
     "output_type": "display_data"
    }
   ],
   "source": [
    "plt.figure(figsize=(15,15)) \n",
    "sns.heatmap(gym_drop.corr(), annot=True, fmt='.2f', cmap= 'coolwarm', linecolor='white', vmax=1.1, linewidths=0.5, square=True);"
   ]
  },
  {
   "cell_type": "markdown",
   "metadata": {},
   "source": [
    "## Постройте модель прогнозирования оттока клиентов"
   ]
  },
  {
   "cell_type": "markdown",
   "metadata": {},
   "source": [
    "Для решения задачи бинарной классификации, используем обучение с учителем<br>\n",
    "Сравним несколько возможных моделей. Для обучения будем использовать <b>LogisticRegression</b> и <b>RandomForestClassifier</b>."
   ]
  },
  {
   "cell_type": "code",
   "execution_count": 12,
   "metadata": {},
   "outputs": [],
   "source": [
    "#разделим датасет на признаки (матрица X) и целевую переменную (вектор y)\n",
    "X = gym_drop.drop('Churn', axis=1)\n",
    "y = gym_drop['Churn']\n",
    "\n",
    "# разделим модель на обучающую и валидационную выборку\n",
    "X_train, X_test, y_train, y_test = train_test_split(X, y, test_size=0.2, random_state=0)\n",
    "\n",
    "models = [LogisticRegression(random_state=0, solver='liblinear'), RandomForestClassifier(random_state=0, n_estimators = 100)]"
   ]
  },
  {
   "cell_type": "code",
   "execution_count": 13,
   "metadata": {},
   "outputs": [],
   "source": [
    "def make_prediction(m, X_train, X_test, y_train, y_test):\n",
    "        \n",
    "    # обучение модели\n",
    "    model = m\n",
    "    model.fit(X_train, y_train)    \n",
    "    # проверка модели на тестовой выборке\n",
    "    y_pred = model.predict(X_test)\n",
    "    \n",
    "    # расчёт основных метрик\n",
    "    print(model.__class__.__name__)\n",
    "    print('Accuracy: {:.2f}'.format(accuracy_score(y_test, y_pred)))\n",
    "    print('Precision: {:.2f}'.format(precision_score(y_test, y_pred)))\n",
    "    print('Recall: {:.2f}\\n'.format(recall_score(y_test, y_pred)))"
   ]
  },
  {
   "cell_type": "code",
   "execution_count": 14,
   "metadata": {},
   "outputs": [
    {
     "name": "stdout",
     "output_type": "stream",
     "text": [
      "LogisticRegression\n",
      "Accuracy: 0.88\n",
      "Precision: 0.76\n",
      "Recall: 0.77\n",
      "\n"
     ]
    },
    {
     "name": "stderr",
     "output_type": "stream",
     "text": [
      "/Users/aignatkin/opt/anaconda3/envs/YandexPraktikum/lib/python3.7/site-packages/sklearn/utils/fixes.py:223: DeprecationWarning:\n",
      "\n",
      "distutils Version classes are deprecated. Use packaging.version instead.\n",
      "\n"
     ]
    },
    {
     "name": "stdout",
     "output_type": "stream",
     "text": [
      "RandomForestClassifier\n",
      "Accuracy: 0.89\n",
      "Precision: 0.78\n",
      "Recall: 0.77\n",
      "\n"
     ]
    },
    {
     "name": "stderr",
     "output_type": "stream",
     "text": [
      "/Users/aignatkin/opt/anaconda3/envs/YandexPraktikum/lib/python3.7/site-packages/sklearn/utils/fixes.py:223: DeprecationWarning:\n",
      "\n",
      "distutils Version classes are deprecated. Use packaging.version instead.\n",
      "\n"
     ]
    }
   ],
   "source": [
    "for m in models:\n",
    "    make_prediction(m, X_train, X_test, y_train, y_test)"
   ]
  },
  {
   "cell_type": "markdown",
   "metadata": {},
   "source": [
    " Модель **RandomForestClassifier** показала результаты немного лучше"
   ]
  },
  {
   "cell_type": "markdown",
   "metadata": {},
   "source": [
    "## Сделайте кластеризацию клиентов"
   ]
  },
  {
   "cell_type": "markdown",
   "metadata": {},
   "source": [
    "Стандартизируем данные"
   ]
  },
  {
   "cell_type": "code",
   "execution_count": 15,
   "metadata": {},
   "outputs": [],
   "source": [
    "# стандартизация данных перед работой с алгоритмами\n",
    "sc = StandardScaler()\n",
    "X_sc = sc.fit_transform(gym_drop.drop('Churn', axis=1))"
   ]
  },
  {
   "cell_type": "code",
   "execution_count": 16,
   "metadata": {},
   "outputs": [],
   "source": [
    "linked = linkage(X_sc, method = 'ward')"
   ]
  },
  {
   "cell_type": "markdown",
   "metadata": {},
   "source": [
    "Визуализируем дендрограмму"
   ]
  },
  {
   "cell_type": "code",
   "execution_count": 17,
   "metadata": {
    "scrolled": false
   },
   "outputs": [
    {
     "data": {
      "image/png": "[encoded data removed]",
      "text/plain": [
       "<Figure size 1080x720 with 1 Axes>"
      ]
     },
     "metadata": {
      "needs_background": "light"
     },
     "output_type": "display_data"
    }
   ],
   "source": [
    "plt.figure(figsize=(15, 10))  \n",
    "dendrogram(linked, orientation='top')\n",
    "plt.show() "
   ]
  },
  {
   "cell_type": "markdown",
   "metadata": {},
   "source": [
    "На основании полученного графика можно выделить 4 кластера - число цветов на графике.\n",
    "\n",
    "Согласно заданию, число кластеров принимаем **n=5**   "
   ]
  },
  {
   "cell_type": "code",
   "execution_count": 18,
   "metadata": {},
   "outputs": [],
   "source": [
    "model = KMeans(n_clusters=5, random_state=0)\n",
    "labels = model.fit_predict(X_sc)"
   ]
  },
  {
   "cell_type": "code",
   "execution_count": 19,
   "metadata": {},
   "outputs": [
    {
     "data": {
      "text/html": [
       "<div>\n",
       "<style scoped>\n",
       "    .dataframe tbody tr th:only-of-type {\n",
       "        vertical-align: middle;\n",
       "    }\n",
       "\n",
       "    .dataframe tbody tr th {\n",
       "        vertical-align: top;\n",
       "    }\n",
       "\n",
       "    .dataframe thead th {\n",
       "        text-align: right;\n",
       "    }\n",
       "</style>\n",
       "<table border=\"1\" class=\"dataframe\">\n",
       "  <thead>\n",
       "    <tr style=\"text-align: right;\">\n",
       "      <th></th>\n",
       "      <th>gender</th>\n",
       "      <th>Near_Location</th>\n",
       "      <th>Partner</th>\n",
       "      <th>Promo_friends</th>\n",
       "      <th>Phone</th>\n",
       "      <th>Contract_period</th>\n",
       "      <th>Group_visits</th>\n",
       "      <th>Age</th>\n",
       "      <th>Avg_additional_charges_total</th>\n",
       "      <th>Month_to_end_contract</th>\n",
       "      <th>Lifetime</th>\n",
       "      <th>Avg_class_frequency_total</th>\n",
       "      <th>Avg_class_frequency_current_month</th>\n",
       "      <th>Churn</th>\n",
       "    </tr>\n",
       "    <tr>\n",
       "      <th>cluster_km</th>\n",
       "      <th></th>\n",
       "      <th></th>\n",
       "      <th></th>\n",
       "      <th></th>\n",
       "      <th></th>\n",
       "      <th></th>\n",
       "      <th></th>\n",
       "      <th></th>\n",
       "      <th></th>\n",
       "      <th></th>\n",
       "      <th></th>\n",
       "      <th></th>\n",
       "      <th></th>\n",
       "      <th></th>\n",
       "    </tr>\n",
       "  </thead>\n",
       "  <tbody>\n",
       "    <tr>\n",
       "      <td>0</td>\n",
       "      <td>0.499109</td>\n",
       "      <td>0.000000</td>\n",
       "      <td>0.488414</td>\n",
       "      <td>0.076649</td>\n",
       "      <td>1.0</td>\n",
       "      <td>3.032086</td>\n",
       "      <td>0.235294</td>\n",
       "      <td>28.721925</td>\n",
       "      <td>137.540009</td>\n",
       "      <td>2.853832</td>\n",
       "      <td>3.060606</td>\n",
       "      <td>1.770413</td>\n",
       "      <td>1.606619</td>\n",
       "      <td>0.399287</td>\n",
       "    </tr>\n",
       "    <tr>\n",
       "      <td>1</td>\n",
       "      <td>0.488571</td>\n",
       "      <td>0.995238</td>\n",
       "      <td>0.955238</td>\n",
       "      <td>0.892381</td>\n",
       "      <td>1.0</td>\n",
       "      <td>7.660952</td>\n",
       "      <td>0.458095</td>\n",
       "      <td>29.543810</td>\n",
       "      <td>155.861428</td>\n",
       "      <td>6.988571</td>\n",
       "      <td>4.380952</td>\n",
       "      <td>1.978963</td>\n",
       "      <td>1.933736</td>\n",
       "      <td>0.120952</td>\n",
       "    </tr>\n",
       "    <tr>\n",
       "      <td>2</td>\n",
       "      <td>0.505300</td>\n",
       "      <td>1.000000</td>\n",
       "      <td>0.238516</td>\n",
       "      <td>0.059187</td>\n",
       "      <td>1.0</td>\n",
       "      <td>2.819788</td>\n",
       "      <td>0.000000</td>\n",
       "      <td>28.770318</td>\n",
       "      <td>143.383993</td>\n",
       "      <td>2.650177</td>\n",
       "      <td>3.343640</td>\n",
       "      <td>1.800647</td>\n",
       "      <td>1.645965</td>\n",
       "      <td>0.381625</td>\n",
       "    </tr>\n",
       "    <tr>\n",
       "      <td>3</td>\n",
       "      <td>0.544202</td>\n",
       "      <td>1.000000</td>\n",
       "      <td>0.250287</td>\n",
       "      <td>0.079219</td>\n",
       "      <td>1.0</td>\n",
       "      <td>4.528129</td>\n",
       "      <td>1.000000</td>\n",
       "      <td>29.536165</td>\n",
       "      <td>148.088897</td>\n",
       "      <td>4.165327</td>\n",
       "      <td>3.761194</td>\n",
       "      <td>1.941342</td>\n",
       "      <td>1.845911</td>\n",
       "      <td>0.200918</td>\n",
       "    </tr>\n",
       "    <tr>\n",
       "      <td>4</td>\n",
       "      <td>0.523316</td>\n",
       "      <td>0.862694</td>\n",
       "      <td>0.471503</td>\n",
       "      <td>0.305699</td>\n",
       "      <td>0.0</td>\n",
       "      <td>4.777202</td>\n",
       "      <td>0.427461</td>\n",
       "      <td>29.297927</td>\n",
       "      <td>144.208179</td>\n",
       "      <td>4.466321</td>\n",
       "      <td>3.940415</td>\n",
       "      <td>1.854211</td>\n",
       "      <td>1.723967</td>\n",
       "      <td>0.266839</td>\n",
       "    </tr>\n",
       "  </tbody>\n",
       "</table>\n",
       "</div>"
      ],
      "text/plain": [
       "              gender  Near_Location   Partner  Promo_friends  Phone  \\\n",
       "cluster_km                                                            \n",
       "0           0.499109  0.000000       0.488414  0.076649       1.0     \n",
       "1           0.488571  0.995238       0.955238  0.892381       1.0     \n",
       "2           0.505300  1.000000       0.238516  0.059187       1.0     \n",
       "3           0.544202  1.000000       0.250287  0.079219       1.0     \n",
       "4           0.523316  0.862694       0.471503  0.305699       0.0     \n",
       "\n",
       "            Contract_period  Group_visits        Age  \\\n",
       "cluster_km                                             \n",
       "0           3.032086         0.235294      28.721925   \n",
       "1           7.660952         0.458095      29.543810   \n",
       "2           2.819788         0.000000      28.770318   \n",
       "3           4.528129         1.000000      29.536165   \n",
       "4           4.777202         0.427461      29.297927   \n",
       "\n",
       "            Avg_additional_charges_total  Month_to_end_contract  Lifetime  \\\n",
       "cluster_km                                                                  \n",
       "0           137.540009                    2.853832               3.060606   \n",
       "1           155.861428                    6.988571               4.380952   \n",
       "2           143.383993                    2.650177               3.343640   \n",
       "3           148.088897                    4.165327               3.761194   \n",
       "4           144.208179                    4.466321               3.940415   \n",
       "\n",
       "            Avg_class_frequency_total  Avg_class_frequency_current_month  \\\n",
       "cluster_km                                                                 \n",
       "0           1.770413                   1.606619                            \n",
       "1           1.978963                   1.933736                            \n",
       "2           1.800647                   1.645965                            \n",
       "3           1.941342                   1.845911                            \n",
       "4           1.854211                   1.723967                            \n",
       "\n",
       "               Churn  \n",
       "cluster_km            \n",
       "0           0.399287  \n",
       "1           0.120952  \n",
       "2           0.381625  \n",
       "3           0.200918  \n",
       "4           0.266839  "
      ]
     },
     "execution_count": 19,
     "metadata": {},
     "output_type": "execute_result"
    }
   ],
   "source": [
    "gym['cluster_km'] = labels\n",
    "gym.groupby('cluster_km').mean()"
   ]
  },
  {
   "cell_type": "markdown",
   "metadata": {},
   "source": [
    "В 0 кластере находятся клиенты, которые живет далеко покупают короткие абонементы, редко посещают групповые занятия.\n",
    "\n",
    "В 1 кластере клиенты чаще всего приходят по партнерской или промо-акции, покупают самые длительные абонементы, чаще всех ходят в зал и на групповые занятия, больше всех тратят на доп услуги. Фитнес-центр находится рядом с работой или домом.  \n",
    "\n",
    "Во 2 кластере находятся клиенты у которых фитнес-центр находится рядом с работой или домом, покупают короткие абонементы(скорее всего на пробу). Достаточно редко посещают фитнес-центр и не посещают групповые занятия.\n",
    "\n",
    "В 3 кластере находятся клиенты у которых фитнес-центр находится рядом с работой или домом, покупают  длительные абонементы, часто ходят в зал и на групповые занятия, много тратят на доп услуги. \n",
    "\n",
    "В 4 кластере находятся клиенты многие из которых приходят по партнерской или промо-акции. У многих Фитнес-центр находится рядом с работой или домом. Хорошо посещают групповые занятия. И почему-то не оставляют контактный телефон.\n"
   ]
  },
  {
   "cell_type": "markdown",
   "metadata": {},
   "source": [
    "Построим гистограммы параметров по кластерам."
   ]
  },
  {
   "cell_type": "code",
   "execution_count": 21,
   "metadata": {
    "scrolled": false
   },
   "outputs": [
    {
     "data": {
      "image/png": "[encoded data removed]",
      "text/plain": [
       "<Figure size 504x360 with 1 Axes>"
      ]
     },
     "metadata": {
      "needs_background": "light"
     },
     "output_type": "display_data"
    },
    {
     "data": {
      "image/png": "[encoded data removed]",
      "text/plain": [
       "<Figure size 504x360 with 1 Axes>"
      ]
     },
     "metadata": {
      "needs_background": "light"
     },
     "output_type": "display_data"
    },
    {
     "data": {
      "image/png": "[encoded data removed]",
      "text/plain": [
       "<Figure size 504x360 with 1 Axes>"
      ]
     },
     "metadata": {
      "needs_background": "light"
     },
     "output_type": "display_data"
    },
    {
     "data": {
      "image/png": "[encoded data removed]",
      "text/plain": [
       "<Figure size 504x360 with 1 Axes>"
      ]
     },
     "metadata": {
      "needs_background": "light"
     },
     "output_type": "display_data"
    },
    {
     "data": {
      "image/png": "[encoded data removed]",
      "text/plain": [
       "<Figure size 504x360 with 1 Axes>"
      ]
     },
     "metadata": {
      "needs_background": "light"
     },
     "output_type": "display_data"
    },
    {
     "data": {
      "image/png": "[encoded data removed]",
      "text/plain": [
       "<Figure size 504x360 with 1 Axes>"
      ]
     },
     "metadata": {
      "needs_background": "light"
     },
     "output_type": "display_data"
    },
    {
     "data": {
      "image/png": "[encoded data removed]",
      "text/plain": [
       "<Figure size 504x360 with 1 Axes>"
      ]
     },
     "metadata": {
      "needs_background": "light"
     },
     "output_type": "display_data"
    },
    {
     "data": {
      "image/png": "[encoded data removed]",
      "text/plain": [
       "<Figure size 504x360 with 1 Axes>"
      ]
     },
     "metadata": {
      "needs_background": "light"
     },
     "output_type": "display_data"
    }
   ],
   "source": [
    "data1 = ['gender','Near_Location','Partner','Promo_friends','Phone','Contract_period','Group_visits','Churn']\n",
    "\n",
    "for i, el in enumerate(data1):\n",
    "    fig = plt.figure(figsize=(7, 5))\n",
    "    sns.countplot(data = gym, x = el, hue = 'cluster_km');\n",
    "    plt.xlabel(el)\n",
    "    plt.show()"
   ]
  },
  {
   "cell_type": "code",
   "execution_count": 22,
   "metadata": {
    "scrolled": false
   },
   "outputs": [
    {
     "data": {
      "image/png": "[encoded data removed]",
      "text/plain": [
       "<Figure size 504x360 with 1 Axes>"
      ]
     },
     "metadata": {
      "needs_background": "light"
     },
     "output_type": "display_data"
    },
    {
     "data": {
      "image/png": "[encoded data removed]",
      "text/plain": [
       "<Figure size 504x360 with 1 Axes>"
      ]
     },
     "metadata": {
      "needs_background": "light"
     },
     "output_type": "display_data"
    },
    {
     "data": {
      "image/png": "[encoded data removed]",
      "text/plain": [
       "<Figure size 504x360 with 1 Axes>"
      ]
     },
     "metadata": {
      "needs_background": "light"
     },
     "output_type": "display_data"
    },
    {
     "data": {
      "image/png": "[encoded data removed]",
      "text/plain": [
       "<Figure size 504x360 with 1 Axes>"
      ]
     },
     "metadata": {
      "needs_background": "light"
     },
     "output_type": "display_data"
    },
    {
     "data": {
      "image/png": "[encoded data removed]",
      "text/plain": [
       "<Figure size 504x360 with 1 Axes>"
      ]
     },
     "metadata": {
      "needs_background": "light"
     },
     "output_type": "display_data"
    },
    {
     "data": {
      "image/png": "[encoded data removed]",
      "text/plain": [
       "<Figure size 504x360 with 1 Axes>"
      ]
     },
     "metadata": {
      "needs_background": "light"
     },
     "output_type": "display_data"
    }
   ],
   "source": [
    "data2 = ['Age','Avg_additional_charges_total','Month_to_end_contract','Lifetime','Avg_class_frequency_total','Avg_class_frequency_current_month']\n",
    "\n",
    "for i, el in enumerate(data2):\n",
    "    fig = plt.figure(figsize=(7, 5))\n",
    "    sns.boxplot(x ='cluster_km',y = el, data = gym);\n",
    "    plt.xlabel(el)\n",
    "    plt.show()"
   ]
  },
  {
   "cell_type": "markdown",
   "metadata": {},
   "source": [
    "Посчитаем долю оттока для каждого кластера."
   ]
  },
  {
   "cell_type": "code",
   "execution_count": 23,
   "metadata": {
    "scrolled": true
   },
   "outputs": [
    {
     "data": {
      "text/html": [
       "<div>\n",
       "<style scoped>\n",
       "    .dataframe tbody tr th:only-of-type {\n",
       "        vertical-align: middle;\n",
       "    }\n",
       "\n",
       "    .dataframe tbody tr th {\n",
       "        vertical-align: top;\n",
       "    }\n",
       "\n",
       "    .dataframe thead th {\n",
       "        text-align: right;\n",
       "    }\n",
       "</style>\n",
       "<table border=\"1\" class=\"dataframe\">\n",
       "  <thead>\n",
       "    <tr style=\"text-align: right;\">\n",
       "      <th></th>\n",
       "      <th>cluster_km</th>\n",
       "      <th>Churn</th>\n",
       "    </tr>\n",
       "  </thead>\n",
       "  <tbody>\n",
       "    <tr>\n",
       "      <td>0</td>\n",
       "      <td>0</td>\n",
       "      <td>0.399287</td>\n",
       "    </tr>\n",
       "    <tr>\n",
       "      <td>1</td>\n",
       "      <td>1</td>\n",
       "      <td>0.120952</td>\n",
       "    </tr>\n",
       "    <tr>\n",
       "      <td>2</td>\n",
       "      <td>2</td>\n",
       "      <td>0.381625</td>\n",
       "    </tr>\n",
       "    <tr>\n",
       "      <td>3</td>\n",
       "      <td>3</td>\n",
       "      <td>0.200918</td>\n",
       "    </tr>\n",
       "    <tr>\n",
       "      <td>4</td>\n",
       "      <td>4</td>\n",
       "      <td>0.266839</td>\n",
       "    </tr>\n",
       "  </tbody>\n",
       "</table>\n",
       "</div>"
      ],
      "text/plain": [
       "   cluster_km     Churn\n",
       "0  0           0.399287\n",
       "1  1           0.120952\n",
       "2  2           0.381625\n",
       "3  3           0.200918\n",
       "4  4           0.266839"
      ]
     },
     "execution_count": 23,
     "metadata": {},
     "output_type": "execute_result"
    }
   ],
   "source": [
    "gym.groupby('cluster_km')['Churn'].mean().reset_index()"
   ]
  },
  {
   "cell_type": "markdown",
   "metadata": {},
   "source": [
    "Больше жалающих покинуть фитнес-центр в кластерах 0 и 2.<br>\n",
    "В 1 кластерк меньше всего желающих уйти "
   ]
  },
  {
   "cell_type": "markdown",
   "metadata": {},
   "source": [
    "## Общий вывод"
   ]
  },
  {
   "cell_type": "markdown",
   "metadata": {},
   "source": [
    "Модель прогнозирования оттока пользователей, обученная с помощью  **RandomForestClassifier** показала результаты лучше чем  алгоритм линейной регрессии. Доля правильных ответов (accuracy), точность (precision) и полнота (recall) у нее выше.\n",
    "\n",
    "Было выполнено деление на 5 кластеров: склонных к уходу больше всего в 0 и 2 кластерах. Самые лояльные клиенты находятся в 1 кластере.\n",
    "\n",
    "Часть клиентов (0 и 2 кластер) склонных к оттоку оформляют абонемент на короткий срок в среднем на 3 месяца, реже других ходят в зал и на групповын занятия.\n",
    "\n",
    "**Рекомендации по работе с клиентами:**\n",
    "\n",
    "1. Можно запустить предложение о покупке абонементов на 2 или 3 месяца по льготной цене для новых клиентов.\n",
    "\n",
    "2. Можно запустить программу \"Приведи друга\" и давать бонусы за привод друга 3 месяца занятий бесплатно, если друг останется более 3 месяцев.\n",
    "\n",
    "3. Сделать скидки на абонементы длительностью более 6 месяцев."
   ]
  }
 ],
 "metadata": {
  "ExecuteTimeLog": [
   {
    "duration": 1864,
    "start_time": "2021-06-10T15:00:38.070Z"
   },
   {
    "duration": 20,
    "start_time": "2021-06-10T15:00:39.937Z"
   },
   {
    "duration": 9,
    "start_time": "2021-06-10T15:00:39.960Z"
   },
   {
    "duration": 24,
    "start_time": "2021-06-10T15:00:39.972Z"
   },
   {
    "duration": 34,
    "start_time": "2021-06-10T15:00:39.998Z"
   },
   {
    "duration": 14,
    "start_time": "2021-06-10T15:00:40.035Z"
   },
   {
    "duration": 32,
    "start_time": "2021-06-10T15:00:40.052Z"
   },
   {
    "duration": 43,
    "start_time": "2021-06-10T15:00:40.089Z"
   },
   {
    "duration": 39,
    "start_time": "2021-06-10T15:00:40.135Z"
   },
   {
    "duration": 6,
    "start_time": "2021-06-10T15:00:40.177Z"
   },
   {
    "duration": 57,
    "start_time": "2021-06-10T15:00:40.186Z"
   },
   {
    "duration": 832,
    "start_time": "2021-06-10T15:00:40.245Z"
   },
   {
    "duration": 166,
    "start_time": "2021-06-10T15:00:41.080Z"
   },
   {
    "duration": 17,
    "start_time": "2021-06-10T15:00:41.249Z"
   },
   {
    "duration": 30,
    "start_time": "2021-06-10T15:00:41.269Z"
   },
   {
    "duration": 40,
    "start_time": "2021-06-10T15:00:41.301Z"
   },
   {
    "duration": 9,
    "start_time": "2021-06-10T15:00:41.344Z"
   },
   {
    "duration": 26,
    "start_time": "2021-06-10T15:00:41.356Z"
   },
   {
    "duration": 47,
    "start_time": "2021-06-10T15:00:41.385Z"
   },
   {
    "duration": 22,
    "start_time": "2021-06-10T15:00:41.435Z"
   },
   {
    "duration": 68,
    "start_time": "2021-06-10T15:00:41.460Z"
   },
   {
    "duration": 13,
    "start_time": "2021-06-10T15:00:41.532Z"
   },
   {
    "duration": 8,
    "start_time": "2021-06-10T15:00:41.554Z"
   },
   {
    "duration": 431,
    "start_time": "2021-06-10T15:00:41.565Z"
   },
   {
    "duration": 4,
    "start_time": "2021-06-10T15:00:41.999Z"
   },
   {
    "duration": 129,
    "start_time": "2021-06-10T15:00:42.006Z"
   },
   {
    "duration": 9,
    "start_time": "2021-06-10T15:00:42.138Z"
   },
   {
    "duration": 21,
    "start_time": "2021-06-10T15:00:42.149Z"
   },
   {
    "duration": 82,
    "start_time": "2021-06-10T15:00:42.173Z"
   },
   {
    "duration": 11,
    "start_time": "2021-06-10T15:00:42.257Z"
   },
   {
    "duration": 58,
    "start_time": "2021-06-10T15:00:42.270Z"
   },
   {
    "duration": 12,
    "start_time": "2021-06-10T15:00:42.330Z"
   },
   {
    "duration": 54,
    "start_time": "2021-06-10T15:00:42.345Z"
   },
   {
    "duration": 25,
    "start_time": "2021-06-10T15:00:42.402Z"
   },
   {
    "duration": 29,
    "start_time": "2021-06-10T15:00:42.430Z"
   },
   {
    "duration": 21,
    "start_time": "2021-06-10T15:00:42.463Z"
   },
   {
    "duration": 55,
    "start_time": "2021-06-10T15:00:42.486Z"
   },
   {
    "duration": 12,
    "start_time": "2021-06-10T15:00:42.544Z"
   },
   {
    "duration": 8,
    "start_time": "2021-06-10T15:00:42.558Z"
   },
   {
    "duration": 9,
    "start_time": "2021-06-10T15:00:42.570Z"
   },
   {
    "duration": 55,
    "start_time": "2021-06-10T15:00:42.581Z"
   },
   {
    "duration": 370,
    "start_time": "2021-06-10T15:00:42.638Z"
   },
   {
    "duration": 85,
    "start_time": "2021-06-10T15:00:43.011Z"
   },
   {
    "duration": 53,
    "start_time": "2021-06-10T15:00:43.099Z"
   },
   {
    "duration": 540,
    "start_time": "2021-06-10T15:00:43.155Z"
   },
   {
    "duration": 48,
    "start_time": "2021-06-10T15:00:43.698Z"
   },
   {
    "duration": 578,
    "start_time": "2021-06-10T15:00:43.749Z"
   },
   {
    "duration": 28,
    "start_time": "2021-06-10T15:00:44.331Z"
   },
   {
    "duration": 513,
    "start_time": "2021-06-10T15:00:44.362Z"
   },
   {
    "duration": 27,
    "start_time": "2021-06-10T15:00:44.878Z"
   },
   {
    "duration": 536,
    "start_time": "2021-06-10T15:00:44.907Z"
   },
   {
    "duration": 29,
    "start_time": "2021-06-10T15:00:45.446Z"
   },
   {
    "duration": 590,
    "start_time": "2021-06-10T15:00:45.478Z"
   },
   {
    "duration": 30,
    "start_time": "2021-06-10T15:00:46.070Z"
   },
   {
    "duration": 25,
    "start_time": "2021-06-10T15:00:46.102Z"
   },
   {
    "duration": 12,
    "start_time": "2021-06-10T15:00:46.131Z"
   },
   {
    "duration": 11,
    "start_time": "2021-06-10T15:00:46.145Z"
   },
   {
    "duration": 9,
    "start_time": "2021-06-10T15:00:46.158Z"
   },
   {
    "duration": 56,
    "start_time": "2021-06-10T15:00:46.169Z"
   },
   {
    "duration": 10,
    "start_time": "2021-06-10T15:00:46.228Z"
   },
   {
    "duration": 190,
    "start_time": "2021-06-10T15:00:46.241Z"
   },
   {
    "duration": 305,
    "start_time": "2021-06-10T15:00:46.433Z"
   },
   {
    "duration": 487,
    "start_time": "2021-06-10T15:10:19.089Z"
   },
   {
    "duration": 6,
    "start_time": "2021-06-10T15:10:23.105Z"
   },
   {
    "duration": 28,
    "start_time": "2021-06-10T15:11:21.759Z"
   },
   {
    "duration": 10,
    "start_time": "2021-06-10T15:11:47.582Z"
   },
   {
    "duration": 77,
    "start_time": "2021-06-10T15:13:01.319Z"
   },
   {
    "duration": 117,
    "start_time": "2021-07-02T15:21:10.959Z"
   },
   {
    "duration": 97,
    "start_time": "2021-07-02T15:28:14.754Z"
   },
   {
    "duration": 1332,
    "start_time": "2021-08-17T01:52:44.081Z"
   },
   {
    "duration": 316,
    "start_time": "2021-08-17T01:52:45.416Z"
   },
   {
    "duration": 10,
    "start_time": "2021-08-17T01:52:45.735Z"
   },
   {
    "duration": 19,
    "start_time": "2021-08-17T01:52:45.748Z"
   },
   {
    "duration": 17,
    "start_time": "2021-08-17T01:52:45.770Z"
   },
   {
    "duration": 15,
    "start_time": "2021-08-17T01:52:45.790Z"
   },
   {
    "duration": 20,
    "start_time": "2021-08-17T01:52:45.808Z"
   },
   {
    "duration": 19,
    "start_time": "2021-08-17T01:52:45.831Z"
   },
   {
    "duration": 17,
    "start_time": "2021-08-17T01:52:45.853Z"
   },
   {
    "duration": 8,
    "start_time": "2021-08-17T01:52:45.882Z"
   },
   {
    "duration": 22,
    "start_time": "2021-08-17T01:52:45.892Z"
   },
   {
    "duration": 295,
    "start_time": "2021-08-17T01:52:45.916Z"
   },
   {
    "duration": 10,
    "start_time": "2021-08-17T01:52:46.214Z"
   },
   {
    "duration": 264,
    "start_time": "2021-08-17T01:52:46.227Z"
   },
   {
    "duration": 9,
    "start_time": "2021-08-17T01:52:46.494Z"
   },
   {
    "duration": 15,
    "start_time": "2021-08-17T01:52:46.506Z"
   },
   {
    "duration": 770,
    "start_time": "2021-08-17T01:52:46.524Z"
   },
   {
    "duration": 627,
    "start_time": "2021-08-17T01:52:47.296Z"
   },
   {
    "duration": 17,
    "start_time": "2021-08-17T01:52:47.926Z"
   },
   {
    "duration": 697,
    "start_time": "2021-08-17T01:52:47.946Z"
   },
   {
    "duration": 641,
    "start_time": "2021-08-17T01:52:48.645Z"
   },
   {
    "duration": 16,
    "start_time": "2021-08-17T01:52:49.289Z"
   },
   {
    "duration": 716,
    "start_time": "2021-08-17T01:52:49.311Z"
   },
   {
    "duration": 16,
    "start_time": "2021-08-17T01:52:50.030Z"
   },
   {
    "duration": 490,
    "start_time": "2021-08-17T01:52:50.049Z"
   },
   {
    "duration": 8,
    "start_time": "2021-08-17T01:52:50.542Z"
   },
   {
    "duration": 324,
    "start_time": "2021-08-17T01:52:50.553Z"
   },
   {
    "duration": 490,
    "start_time": "2021-08-17T01:52:50.882Z"
   },
   {
    "duration": 6,
    "start_time": "2021-08-17T01:52:51.382Z"
   },
   {
    "duration": 8,
    "start_time": "2021-08-17T01:52:51.390Z"
   },
   {
    "duration": 15,
    "start_time": "2021-08-17T01:52:51.400Z"
   },
   {
    "duration": 10,
    "start_time": "2021-08-17T01:52:51.418Z"
   },
   {
    "duration": 10,
    "start_time": "2021-08-17T01:52:51.430Z"
   },
   {
    "duration": 7,
    "start_time": "2021-08-17T01:52:51.442Z"
   },
   {
    "duration": 5,
    "start_time": "2021-08-17T01:52:51.482Z"
   },
   {
    "duration": 12,
    "start_time": "2021-08-17T01:52:51.490Z"
   },
   {
    "duration": 11,
    "start_time": "2021-08-17T01:52:51.504Z"
   },
   {
    "duration": 10,
    "start_time": "2021-08-17T01:52:51.517Z"
   },
   {
    "duration": 58,
    "start_time": "2021-08-17T01:52:51.529Z"
   },
   {
    "duration": 12,
    "start_time": "2021-08-17T01:52:51.589Z"
   },
   {
    "duration": 10,
    "start_time": "2021-08-17T01:52:51.603Z"
   },
   {
    "duration": 10,
    "start_time": "2021-08-17T01:52:51.616Z"
   },
   {
    "duration": 6,
    "start_time": "2021-08-17T01:52:51.628Z"
   },
   {
    "duration": 59,
    "start_time": "2021-08-17T01:52:51.637Z"
   },
   {
    "duration": 18,
    "start_time": "2021-08-17T01:52:51.698Z"
   },
   {
    "duration": 12,
    "start_time": "2021-08-17T01:59:15.459Z"
   },
   {
    "duration": 440,
    "start_time": "2021-08-17T02:12:31.562Z"
   },
   {
    "duration": 4,
    "start_time": "2021-08-17T02:12:41.325Z"
   },
   {
    "duration": 5,
    "start_time": "2021-08-17T02:12:47.159Z"
   },
   {
    "duration": 1599,
    "start_time": "2021-08-28T20:17:28.705Z"
   },
   {
    "duration": 195,
    "start_time": "2021-08-28T20:17:30.306Z"
   },
   {
    "duration": 4,
    "start_time": "2021-08-28T20:17:30.504Z"
   },
   {
    "duration": 23,
    "start_time": "2021-08-28T20:17:30.510Z"
   },
   {
    "duration": 4,
    "start_time": "2021-08-28T20:17:30.535Z"
   },
   {
    "duration": 76,
    "start_time": "2021-08-28T20:17:30.541Z"
   },
   {
    "duration": 66,
    "start_time": "2021-08-28T20:17:30.619Z"
   },
   {
    "duration": 32,
    "start_time": "2021-08-28T20:17:30.689Z"
   },
   {
    "duration": 19,
    "start_time": "2021-08-28T20:17:30.723Z"
   },
   {
    "duration": 3,
    "start_time": "2021-08-28T20:17:30.744Z"
   },
   {
    "duration": 51,
    "start_time": "2021-08-28T20:17:30.749Z"
   },
   {
    "duration": 28,
    "start_time": "2021-08-28T20:17:30.802Z"
   },
   {
    "duration": 7,
    "start_time": "2021-08-28T20:17:30.832Z"
   },
   {
    "duration": 13,
    "start_time": "2021-08-28T20:17:30.840Z"
   },
   {
    "duration": 412,
    "start_time": "2021-08-28T20:17:30.855Z"
   },
   {
    "duration": 19,
    "start_time": "2021-08-28T20:17:31.269Z"
   },
   {
    "duration": 13,
    "start_time": "2021-08-28T20:17:31.289Z"
   },
   {
    "duration": 29,
    "start_time": "2021-08-28T20:17:31.303Z"
   },
   {
    "duration": 21,
    "start_time": "2021-08-28T20:17:31.333Z"
   },
   {
    "duration": 33,
    "start_time": "2021-08-28T20:17:31.355Z"
   },
   {
    "duration": 23,
    "start_time": "2021-08-28T20:17:31.389Z"
   },
   {
    "duration": 59,
    "start_time": "2021-08-28T20:17:31.413Z"
   },
   {
    "duration": 20,
    "start_time": "2021-08-28T20:17:31.476Z"
   },
   {
    "duration": 513,
    "start_time": "2021-08-28T20:17:31.497Z"
   },
   {
    "duration": 5,
    "start_time": "2021-08-28T20:17:32.012Z"
   },
   {
    "duration": 12,
    "start_time": "2021-08-28T20:17:32.019Z"
   },
   {
    "duration": 11,
    "start_time": "2021-08-28T20:17:32.032Z"
   },
   {
    "duration": 51,
    "start_time": "2021-08-28T20:17:32.044Z"
   },
   {
    "duration": 99,
    "start_time": "2021-08-28T20:17:32.097Z"
   },
   {
    "duration": 5,
    "start_time": "2021-08-28T20:17:32.198Z"
   },
   {
    "duration": 31,
    "start_time": "2021-08-28T20:17:32.205Z"
   },
   {
    "duration": 69,
    "start_time": "2021-08-28T20:17:32.238Z"
   },
   {
    "duration": 3,
    "start_time": "2021-08-28T20:17:32.308Z"
   },
   {
    "duration": 10,
    "start_time": "2021-08-28T20:17:32.313Z"
   },
   {
    "duration": 21,
    "start_time": "2021-08-28T20:17:32.325Z"
   },
   {
    "duration": 231,
    "start_time": "2021-08-28T20:17:32.348Z"
   },
   {
    "duration": 21,
    "start_time": "2021-08-28T20:17:32.584Z"
   },
   {
    "duration": 6,
    "start_time": "2021-08-28T20:17:32.606Z"
   },
   {
    "duration": 16,
    "start_time": "2021-08-28T20:17:32.614Z"
   },
   {
    "duration": 7,
    "start_time": "2021-08-28T20:17:32.631Z"
   },
   {
    "duration": 12,
    "start_time": "2021-08-28T20:17:32.640Z"
   },
   {
    "duration": 48,
    "start_time": "2021-08-28T20:17:32.654Z"
   },
   {
    "duration": 14,
    "start_time": "2021-08-28T20:17:32.704Z"
   },
   {
    "duration": 12,
    "start_time": "2021-08-28T20:17:32.719Z"
   },
   {
    "duration": 11,
    "start_time": "2021-08-28T20:17:32.732Z"
   },
   {
    "duration": 6,
    "start_time": "2021-08-28T20:25:30.785Z"
   },
   {
    "duration": 185,
    "start_time": "2021-08-28T20:25:30.793Z"
   },
   {
    "duration": 4,
    "start_time": "2021-08-28T20:25:30.986Z"
   },
   {
    "duration": 22,
    "start_time": "2021-08-28T20:25:30.992Z"
   },
   {
    "duration": 7,
    "start_time": "2021-08-28T20:25:31.015Z"
   },
   {
    "duration": 45,
    "start_time": "2021-08-28T20:25:31.023Z"
   },
   {
    "duration": 50,
    "start_time": "2021-08-28T20:25:31.084Z"
   },
   {
    "duration": 25,
    "start_time": "2021-08-28T20:25:31.137Z"
   },
   {
    "duration": 38,
    "start_time": "2021-08-28T20:25:31.164Z"
   },
   {
    "duration": 4,
    "start_time": "2021-08-28T20:25:31.204Z"
   },
   {
    "duration": 31,
    "start_time": "2021-08-28T20:25:31.210Z"
   },
   {
    "duration": 9,
    "start_time": "2021-08-28T20:25:31.243Z"
   },
   {
    "duration": 13,
    "start_time": "2021-08-28T20:25:31.254Z"
   },
   {
    "duration": 16,
    "start_time": "2021-08-28T20:25:31.269Z"
   },
   {
    "duration": 401,
    "start_time": "2021-08-28T20:25:31.287Z"
   },
   {
    "duration": 18,
    "start_time": "2021-08-28T20:25:31.690Z"
   },
   {
    "duration": 3,
    "start_time": "2021-08-28T20:25:31.710Z"
   },
   {
    "duration": 10,
    "start_time": "2021-08-28T20:25:31.714Z"
   },
   {
    "duration": 6,
    "start_time": "2021-08-28T20:25:31.725Z"
   },
   {
    "duration": 55,
    "start_time": "2021-08-28T20:25:31.732Z"
   },
   {
    "duration": 26,
    "start_time": "2021-08-28T20:25:31.789Z"
   },
   {
    "duration": 52,
    "start_time": "2021-08-28T20:25:31.817Z"
   },
   {
    "duration": 14,
    "start_time": "2021-08-28T20:25:31.885Z"
   },
   {
    "duration": 124,
    "start_time": "2021-08-28T20:25:31.902Z"
   },
   {
    "duration": 6,
    "start_time": "2021-08-28T20:25:32.028Z"
   },
   {
    "duration": 15,
    "start_time": "2021-08-28T20:25:32.035Z"
   },
   {
    "duration": 10,
    "start_time": "2021-08-28T20:25:32.052Z"
   },
   {
    "duration": 23,
    "start_time": "2021-08-28T20:25:32.063Z"
   },
   {
    "duration": 31,
    "start_time": "2021-08-28T20:25:32.088Z"
   },
   {
    "duration": 3,
    "start_time": "2021-08-28T20:25:32.121Z"
   },
   {
    "duration": 33,
    "start_time": "2021-08-28T20:25:32.126Z"
   },
   {
    "duration": 46,
    "start_time": "2021-08-28T20:25:32.161Z"
   },
   {
    "duration": 3,
    "start_time": "2021-08-28T20:25:32.208Z"
   },
   {
    "duration": 10,
    "start_time": "2021-08-28T20:25:32.212Z"
   },
   {
    "duration": 30,
    "start_time": "2021-08-28T20:25:32.223Z"
   },
   {
    "duration": 129,
    "start_time": "2021-08-28T20:25:32.255Z"
   },
   {
    "duration": 21,
    "start_time": "2021-08-28T20:25:32.386Z"
   },
   {
    "duration": 8,
    "start_time": "2021-08-28T20:25:32.409Z"
   },
   {
    "duration": 23,
    "start_time": "2021-08-28T20:25:32.419Z"
   },
   {
    "duration": 7,
    "start_time": "2021-08-28T20:25:32.444Z"
   },
   {
    "duration": 15,
    "start_time": "2021-08-28T20:25:32.452Z"
   },
   {
    "duration": 15,
    "start_time": "2021-08-28T20:25:32.486Z"
   },
   {
    "duration": 13,
    "start_time": "2021-08-28T20:25:32.504Z"
   },
   {
    "duration": 16,
    "start_time": "2021-08-28T20:25:32.518Z"
   },
   {
    "duration": 14,
    "start_time": "2021-08-28T20:25:32.535Z"
   },
   {
    "duration": 1542,
    "start_time": "2021-08-28T20:53:15.762Z"
   },
   {
    "duration": 174,
    "start_time": "2021-08-28T20:53:17.306Z"
   },
   {
    "duration": 4,
    "start_time": "2021-08-28T20:53:17.484Z"
   },
   {
    "duration": 18,
    "start_time": "2021-08-28T20:53:17.491Z"
   },
   {
    "duration": 4,
    "start_time": "2021-08-28T20:53:17.510Z"
   },
   {
    "duration": 50,
    "start_time": "2021-08-28T20:53:17.515Z"
   },
   {
    "duration": 58,
    "start_time": "2021-08-28T20:53:17.585Z"
   },
   {
    "duration": 44,
    "start_time": "2021-08-28T20:53:17.646Z"
   },
   {
    "duration": 25,
    "start_time": "2021-08-28T20:53:17.692Z"
   },
   {
    "duration": 4,
    "start_time": "2021-08-28T20:53:17.719Z"
   },
   {
    "duration": 22,
    "start_time": "2021-08-28T20:53:17.725Z"
   },
   {
    "duration": 4,
    "start_time": "2021-08-28T20:53:17.749Z"
   },
   {
    "duration": 31,
    "start_time": "2021-08-28T20:53:17.755Z"
   },
   {
    "duration": 6,
    "start_time": "2021-08-28T20:53:17.787Z"
   },
   {
    "duration": 407,
    "start_time": "2021-08-28T20:53:17.795Z"
   },
   {
    "duration": 15,
    "start_time": "2021-08-28T20:53:18.204Z"
   },
   {
    "duration": 3,
    "start_time": "2021-08-28T20:53:18.220Z"
   },
   {
    "duration": 14,
    "start_time": "2021-08-28T20:53:18.225Z"
   },
   {
    "duration": 13,
    "start_time": "2021-08-28T20:53:18.241Z"
   },
   {
    "duration": 56,
    "start_time": "2021-08-28T20:53:18.257Z"
   },
   {
    "duration": 38,
    "start_time": "2021-08-28T20:53:18.315Z"
   },
   {
    "duration": 76,
    "start_time": "2021-08-28T20:53:18.355Z"
   },
   {
    "duration": 13,
    "start_time": "2021-08-28T20:53:18.435Z"
   },
   {
    "duration": 558,
    "start_time": "2021-08-28T20:53:18.450Z"
   },
   {
    "duration": 6,
    "start_time": "2021-08-28T20:53:19.010Z"
   },
   {
    "duration": 20,
    "start_time": "2021-08-28T20:53:19.017Z"
   },
   {
    "duration": 7,
    "start_time": "2021-08-28T20:53:19.038Z"
   },
   {
    "duration": 13,
    "start_time": "2021-08-28T20:53:19.085Z"
   },
   {
    "duration": 31,
    "start_time": "2021-08-28T20:53:19.100Z"
   },
   {
    "duration": 52,
    "start_time": "2021-08-28T20:53:19.133Z"
   },
   {
    "duration": 32,
    "start_time": "2021-08-28T20:53:19.188Z"
   },
   {
    "duration": 23,
    "start_time": "2021-08-28T20:53:19.222Z"
   },
   {
    "duration": 40,
    "start_time": "2021-08-28T20:53:19.246Z"
   },
   {
    "duration": 15,
    "start_time": "2021-08-28T20:53:19.288Z"
   },
   {
    "duration": 25,
    "start_time": "2021-08-28T20:53:19.304Z"
   },
   {
    "duration": 235,
    "start_time": "2021-08-28T20:53:19.330Z"
   },
   {
    "duration": 19,
    "start_time": "2021-08-28T20:53:19.567Z"
   },
   {
    "duration": 6,
    "start_time": "2021-08-28T20:53:19.588Z"
   },
   {
    "duration": 19,
    "start_time": "2021-08-28T20:53:19.597Z"
   },
   {
    "duration": 7,
    "start_time": "2021-08-28T20:53:19.617Z"
   },
   {
    "duration": 12,
    "start_time": "2021-08-28T20:53:19.625Z"
   },
   {
    "duration": 13,
    "start_time": "2021-08-28T20:53:19.638Z"
   },
   {
    "duration": 44,
    "start_time": "2021-08-28T20:53:19.653Z"
   },
   {
    "duration": 22,
    "start_time": "2021-08-28T20:53:19.699Z"
   },
   {
    "duration": 11,
    "start_time": "2021-08-28T20:53:19.723Z"
   },
   {
    "duration": 5,
    "start_time": "2021-08-28T21:14:35.038Z"
   },
   {
    "duration": 14,
    "start_time": "2021-08-28T21:14:36.172Z"
   },
   {
    "duration": 5,
    "start_time": "2021-08-28T21:14:53.981Z"
   },
   {
    "duration": 15,
    "start_time": "2021-08-28T21:14:55.686Z"
   },
   {
    "duration": 4,
    "start_time": "2021-08-30T15:57:10.457Z"
   },
   {
    "duration": 4,
    "start_time": "2021-08-30T15:57:12.824Z"
   },
   {
    "duration": 74540,
    "start_time": "2021-08-30T15:59:17.842Z"
   },
   {
    "duration": 24948,
    "start_time": "2021-08-30T16:13:34.977Z"
   },
   {
    "duration": 11,
    "start_time": "2021-08-30T16:14:07.184Z"
   },
   {
    "duration": 22,
    "start_time": "2021-08-30T16:14:07.198Z"
   },
   {
    "duration": 335,
    "start_time": "2021-08-30T16:14:07.223Z"
   },
   {
    "duration": 31,
    "start_time": "2021-08-30T16:14:07.562Z"
   },
   {
    "duration": 7,
    "start_time": "2021-08-30T16:14:07.597Z"
   },
   {
    "duration": 107,
    "start_time": "2021-08-30T16:14:07.606Z"
   },
   {
    "duration": 104,
    "start_time": "2021-08-30T16:14:07.716Z"
   },
   {
    "duration": 38,
    "start_time": "2021-08-30T16:14:07.824Z"
   },
   {
    "duration": 28,
    "start_time": "2021-08-30T16:14:07.882Z"
   },
   {
    "duration": 6,
    "start_time": "2021-08-30T16:14:07.912Z"
   },
   {
    "duration": 35,
    "start_time": "2021-08-30T16:14:07.920Z"
   },
   {
    "duration": 42,
    "start_time": "2021-08-30T16:14:07.957Z"
   },
   {
    "duration": 7,
    "start_time": "2021-08-30T16:14:08.002Z"
   },
   {
    "duration": 8,
    "start_time": "2021-08-30T16:14:08.012Z"
   },
   {
    "duration": 804,
    "start_time": "2021-08-30T16:14:08.022Z"
   },
   {
    "duration": 23,
    "start_time": "2021-08-30T16:14:08.829Z"
   },
   {
    "duration": 5,
    "start_time": "2021-08-30T16:14:08.855Z"
   },
   {
    "duration": 43,
    "start_time": "2021-08-30T16:14:08.862Z"
   },
   {
    "duration": 10,
    "start_time": "2021-08-30T16:14:08.907Z"
   },
   {
    "duration": 81,
    "start_time": "2021-08-30T16:14:08.920Z"
   },
   {
    "duration": 28,
    "start_time": "2021-08-30T16:14:09.004Z"
   },
   {
    "duration": 101,
    "start_time": "2021-08-30T16:14:09.034Z"
   },
   {
    "duration": 11,
    "start_time": "2021-08-30T16:14:09.140Z"
   },
   {
    "duration": 8,
    "start_time": "2021-08-30T16:14:09.154Z"
   },
   {
    "duration": 866,
    "start_time": "2021-08-30T16:14:09.164Z"
   },
   {
    "duration": 8,
    "start_time": "2021-08-30T16:14:10.033Z"
   },
   {
    "duration": 39,
    "start_time": "2021-08-30T16:14:10.044Z"
   },
   {
    "duration": 8,
    "start_time": "2021-08-30T16:14:10.086Z"
   },
   {
    "duration": 11,
    "start_time": "2021-08-30T16:14:10.097Z"
   },
   {
    "duration": 108,
    "start_time": "2021-08-30T16:14:10.111Z"
   },
   {
    "duration": 5,
    "start_time": "2021-08-30T16:14:10.221Z"
   },
   {
    "duration": 96,
    "start_time": "2021-08-30T16:14:10.228Z"
   },
   {
    "duration": 88,
    "start_time": "2021-08-30T16:14:10.327Z"
   },
   {
    "duration": 3,
    "start_time": "2021-08-30T16:14:10.417Z"
   },
   {
    "duration": 7,
    "start_time": "2021-08-30T16:14:10.423Z"
   },
   {
    "duration": 12,
    "start_time": "2021-08-30T16:14:10.433Z"
   },
   {
    "duration": 67,
    "start_time": "2021-08-30T16:14:10.448Z"
   },
   {
    "duration": 210,
    "start_time": "2021-08-30T16:14:10.518Z"
   },
   {
    "duration": 26,
    "start_time": "2021-08-30T16:14:10.730Z"
   },
   {
    "duration": 27,
    "start_time": "2021-08-30T16:14:10.759Z"
   },
   {
    "duration": 31,
    "start_time": "2021-08-30T16:14:10.789Z"
   },
   {
    "duration": 9,
    "start_time": "2021-08-30T16:14:10.822Z"
   },
   {
    "duration": 58,
    "start_time": "2021-08-30T16:14:10.835Z"
   },
   {
    "duration": 18,
    "start_time": "2021-08-30T16:14:10.897Z"
   },
   {
    "duration": 21,
    "start_time": "2021-08-30T16:14:10.918Z"
   },
   {
    "duration": 64,
    "start_time": "2021-08-30T16:14:10.942Z"
   },
   {
    "duration": 33,
    "start_time": "2021-08-30T16:14:11.009Z"
   },
   {
    "duration": 1183,
    "start_time": "2021-08-30T16:14:11.045Z"
   },
   {
    "duration": -27,
    "start_time": "2021-08-30T16:14:12.258Z"
   },
   {
    "duration": 3,
    "start_time": "2021-11-29T08:21:40.609Z"
   },
   {
    "duration": 1718,
    "start_time": "2021-11-29T08:21:40.615Z"
   },
   {
    "duration": 3,
    "start_time": "2021-11-29T08:21:42.335Z"
   },
   {
    "duration": 91,
    "start_time": "2021-11-29T08:21:42.341Z"
   },
   {
    "duration": 8,
    "start_time": "2021-11-29T08:21:42.434Z"
   },
   {
    "duration": 45,
    "start_time": "2021-11-29T08:21:42.444Z"
   },
   {
    "duration": 15,
    "start_time": "2021-11-29T08:21:42.491Z"
   },
   {
    "duration": 3999,
    "start_time": "2021-11-29T08:21:42.508Z"
   },
   {
    "duration": 21,
    "start_time": "2021-11-29T08:21:46.510Z"
   },
   {
    "duration": 1272,
    "start_time": "2021-11-29T08:21:46.533Z"
   },
   {
    "duration": 9,
    "start_time": "2021-11-29T08:21:47.807Z"
   },
   {
    "duration": 5,
    "start_time": "2021-11-29T08:21:47.818Z"
   },
   {
    "duration": 201,
    "start_time": "2021-11-29T08:21:47.825Z"
   },
   {
    "duration": 6,
    "start_time": "2021-11-29T08:21:48.028Z"
   },
   {
    "duration": 561,
    "start_time": "2021-11-29T08:21:48.036Z"
   },
   {
    "duration": 87658,
    "start_time": "2021-11-29T08:21:48.599Z"
   },
   {
    "duration": 1941,
    "start_time": "2021-11-29T08:23:16.259Z"
   },
   {
    "duration": 19,
    "start_time": "2021-11-29T08:23:18.202Z"
   },
   {
    "duration": 6096,
    "start_time": "2021-11-29T08:23:18.222Z"
   },
   {
    "duration": 9,
    "start_time": "2021-11-29T08:23:24.320Z"
   },
   {
    "duration": 402,
    "start_time": "2021-12-01T06:39:32.546Z"
   }
  ],
  "kernelspec": {
   "display_name": "Python 3",
   "language": "python",
   "name": "python3"
  },
  "language_info": {
   "codemirror_mode": {
    "name": "ipython",
    "version": 3
   },
   "file_extension": ".py",
   "mimetype": "text/x-python",
   "name": "python",
   "nbconvert_exporter": "python",
   "pygments_lexer": "ipython3",
   "version": "3.7.12"
  },
  "toc": {
   "base_numbering": 1,
   "nav_menu": {},
   "number_sections": true,
   "sideBar": true,
   "skip_h1_title": true,
   "title_cell": "Содержание",
   "title_sidebar": "Contents",
   "toc_cell": true,
   "toc_position": {
    "height": "886.969px",
    "left": "397px",
    "top": "182px",
    "width": "357.003px"
   },
   "toc_section_display": true,
   "toc_window_display": true
  },
  "varInspector": {
   "cols": {
    "lenName": 16,
    "lenType": 16,
    "lenVar": 40
   },
   "kernels_config": {
    "python": {
     "delete_cmd_postfix": "",
     "delete_cmd_prefix": "del ",
     "library": "var_list.py",
     "varRefreshCmd": "print(var_dic_list())"
    },
    "r": {
     "delete_cmd_postfix": ") ",
     "delete_cmd_prefix": "rm(",
     "library": "var_list.r",
     "varRefreshCmd": "cat(var_dic_list()) "
    }
   },
   "types_to_exclude": [
    "module",
    "function",
    "builtin_function_or_method",
    "instance",
    "_Feature"
   ],
   "window_display": false
  }
 },
 "nbformat": 4,
 "nbformat_minor": 2
}
