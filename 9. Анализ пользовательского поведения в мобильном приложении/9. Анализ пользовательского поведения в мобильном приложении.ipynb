{
 "cells": [
  {
   "cell_type": "markdown",
   "metadata": {
    "toc": true
   },
   "source": [
    "<h1>Содержание<span class=\"tocSkip\"></span></h1>\n",
    "<div class=\"toc\"><ul class=\"toc-item\"><li><span><a href=\"#Открываем-файл-с-данными-и-изучаем-общую-информацию\" data-toc-modified-id=\"Открываем-файл-с-данными-и-изучаем-общую-информацию-1\"><span class=\"toc-item-num\">1&nbsp;&nbsp;</span>Открываем файл с данными и изучаем общую информацию</a></span><ul class=\"toc-item\"><li><span><a href=\"#Импорт-библиотек\" data-toc-modified-id=\"Импорт-библиотек-1.1\"><span class=\"toc-item-num\">1.1&nbsp;&nbsp;</span>Импорт библиотек</a></span></li><li><span><a href=\"#Загружаем-данные\" data-toc-modified-id=\"Загружаем-данные-1.2\"><span class=\"toc-item-num\">1.2&nbsp;&nbsp;</span>Загружаем данные</a></span></li></ul></li><li><span><a href=\"#Подготовка-данных\" data-toc-modified-id=\"Подготовка-данных-2\"><span class=\"toc-item-num\">2&nbsp;&nbsp;</span>Подготовка данных</a></span><ul class=\"toc-item\"><li><span><a href=\"#Меняем-названия-столбцов\" data-toc-modified-id=\"Меняем-названия-столбцов-2.1\"><span class=\"toc-item-num\">2.1&nbsp;&nbsp;</span>Меняем названия столбцов</a></span></li><li><span><a href=\"#Смотрим-дубликаты\" data-toc-modified-id=\"Смотрим-дубликаты-2.2\"><span class=\"toc-item-num\">2.2&nbsp;&nbsp;</span>Смотрим дубликаты</a></span></li><li><span><a href=\"#Добавляем-столбец-даты-и-времени\" data-toc-modified-id=\"Добавляем-столбец-даты-и-времени-2.3\"><span class=\"toc-item-num\">2.3&nbsp;&nbsp;</span>Добавляем столбец даты и времени</a></span></li></ul></li><li><span><a href=\"#Изучите-и-проверьте-данные\" data-toc-modified-id=\"Изучите-и-проверьте-данные-3\"><span class=\"toc-item-num\">3&nbsp;&nbsp;</span>Изучите и проверьте данные</a></span><ul class=\"toc-item\"><li><span><a href=\"#Сколько-всего-событий-в-логе?\" data-toc-modified-id=\"Сколько-всего-событий-в-логе?-3.1\"><span class=\"toc-item-num\">3.1&nbsp;&nbsp;</span>Сколько всего событий в логе?</a></span></li><li><span><a href=\"#Сколько-всего-пользователей-в-логе?\" data-toc-modified-id=\"Сколько-всего-пользователей-в-логе?-3.2\"><span class=\"toc-item-num\">3.2&nbsp;&nbsp;</span>Сколько всего пользователей в логе?</a></span></li><li><span><a href=\"#Сколько-в-среднем-событий-приходится-на-пользователя?\" data-toc-modified-id=\"Сколько-в-среднем-событий-приходится-на-пользователя?-3.3\"><span class=\"toc-item-num\">3.3&nbsp;&nbsp;</span>Сколько в среднем событий приходится на пользователя?</a></span></li><li><span><a href=\"#Данными-за-какой-период-вы-располагаете?\" data-toc-modified-id=\"Данными-за-какой-период-вы-располагаете?-3.4\"><span class=\"toc-item-num\">3.4&nbsp;&nbsp;</span>Данными за какой период вы располагаете?</a></span></li><li><span><a href=\"#Много-ли-событий-и-пользователей-вы-потеряли,-отбросив-старые-данные?\" data-toc-modified-id=\"Много-ли-событий-и-пользователей-вы-потеряли,-отбросив-старые-данные?-3.5\"><span class=\"toc-item-num\">3.5&nbsp;&nbsp;</span>Много ли событий и пользователей вы потеряли, отбросив старые данные?</a></span></li><li><span><a href=\"#Проверьте,-что-у-вас-есть-пользователи-из-всех-трёх-экспериментальных-групп.\" data-toc-modified-id=\"Проверьте,-что-у-вас-есть-пользователи-из-всех-трёх-экспериментальных-групп.-3.6\"><span class=\"toc-item-num\">3.6&nbsp;&nbsp;</span>Проверьте, что у вас есть пользователи из всех трёх экспериментальных групп.</a></span></li></ul></li><li><span><a href=\"#Изучите-воронку-событий\" data-toc-modified-id=\"Изучите-воронку-событий-4\"><span class=\"toc-item-num\">4&nbsp;&nbsp;</span>Изучите воронку событий</a></span><ul class=\"toc-item\"><li><span><a href=\"#Посмотрите,-какие-события-есть-в-логах,-как-часто-они-встречаются.\" data-toc-modified-id=\"Посмотрите,-какие-события-есть-в-логах,-как-часто-они-встречаются.-4.1\"><span class=\"toc-item-num\">4.1&nbsp;&nbsp;</span>Посмотрите, какие события есть в логах, как часто они встречаются.</a></span></li><li><span><a href=\"#Посчитайте,-сколько-пользователей-совершали-каждое-из-этих-событий.\" data-toc-modified-id=\"Посчитайте,-сколько-пользователей-совершали-каждое-из-этих-событий.-4.2\"><span class=\"toc-item-num\">4.2&nbsp;&nbsp;</span>Посчитайте, сколько пользователей совершали каждое из этих событий.</a></span></li><li><span><a href=\"#Предположите,-в-каком-порядке-происходят-события.\" data-toc-modified-id=\"Предположите,-в-каком-порядке-происходят-события.-4.3\"><span class=\"toc-item-num\">4.3&nbsp;&nbsp;</span>Предположите, в каком порядке происходят события.</a></span></li><li><span><a href=\"#По-воронке-событий-посчитайте,-какая-доля-пользователей-проходит-на-следующий-шаг-воронки-(от-числа-пользователей-на-предыдущем).\" data-toc-modified-id=\"По-воронке-событий-посчитайте,-какая-доля-пользователей-проходит-на-следующий-шаг-воронки-(от-числа-пользователей-на-предыдущем).-4.4\"><span class=\"toc-item-num\">4.4&nbsp;&nbsp;</span>По воронке событий посчитайте, какая доля пользователей проходит на следующий шаг воронки (от числа пользователей на предыдущем).</a></span></li><li><span><a href=\"#На-каком-шаге-теряете-больше-всего-пользователей?\" data-toc-modified-id=\"На-каком-шаге-теряете-больше-всего-пользователей?-4.5\"><span class=\"toc-item-num\">4.5&nbsp;&nbsp;</span>На каком шаге теряете больше всего пользователей?</a></span></li><li><span><a href=\"#Какая-доля-пользователей-доходит-от-первого-события-до-оплаты?\" data-toc-modified-id=\"Какая-доля-пользователей-доходит-от-первого-события-до-оплаты?-4.6\"><span class=\"toc-item-num\">4.6&nbsp;&nbsp;</span>Какая доля пользователей доходит от первого события до оплаты?</a></span></li></ul></li><li><span><a href=\"#Изучите-результаты-эксперимента\" data-toc-modified-id=\"Изучите-результаты-эксперимента-5\"><span class=\"toc-item-num\">5&nbsp;&nbsp;</span>Изучите результаты эксперимента</a></span><ul class=\"toc-item\"><li><span><a href=\"#Сколько-пользователей-в-каждой-экспериментальной-группе?\" data-toc-modified-id=\"Сколько-пользователей-в-каждой-экспериментальной-группе?-5.1\"><span class=\"toc-item-num\">5.1&nbsp;&nbsp;</span>Сколько пользователей в каждой экспериментальной группе?</a></span></li><li><span><a href=\"#Проверьте,-находят-ли-статистические-критерии-разницу-между-выборками-246-и-247.\" data-toc-modified-id=\"Проверьте,-находят-ли-статистические-критерии-разницу-между-выборками-246-и-247.-5.2\"><span class=\"toc-item-num\">5.2&nbsp;&nbsp;</span>Проверьте, находят ли статистические критерии разницу между выборками 246 и 247.</a></span></li><li><span><a href=\"#Выберите-самое-популярное-событие.\" data-toc-modified-id=\"Выберите-самое-популярное-событие.-5.3\"><span class=\"toc-item-num\">5.3&nbsp;&nbsp;</span>Выберите самое популярное событие.</a></span></li><li><span><a href=\"#Аналогично-поступите-с-группой-с-изменённым-шрифтом.-Сравните-результаты-с-каждой-из-контрольных-групп-в-отдельности-по-каждому-событию.-Сравните-результаты-с-объединённой-контрольной-группой.-Какие-выводы-из-эксперимента-можно-сделать?\" data-toc-modified-id=\"Аналогично-поступите-с-группой-с-изменённым-шрифтом.-Сравните-результаты-с-каждой-из-контрольных-групп-в-отдельности-по-каждому-событию.-Сравните-результаты-с-объединённой-контрольной-группой.-Какие-выводы-из-эксперимента-можно-сделать?-5.4\"><span class=\"toc-item-num\">5.4&nbsp;&nbsp;</span>Аналогично поступите с группой с изменённым шрифтом. Сравните результаты с каждой из контрольных групп в отдельности по каждому событию. Сравните результаты с объединённой контрольной группой. Какие выводы из эксперимента можно сделать?</a></span></li><li><span><a href=\"#Какой-уровень-значимости-вы-выбрали-при-проверке-статистических-гипотез-выше?-Посчитайте,-сколько-проверок-статистических-гипотез-вы-сделали.-При-уровне-значимости-0.1-каждый-десятый-раз-можно-получать-ложный-результат.-Какой-уровень-значимости-стоит-применить?-Если-вы-хотите-изменить-его,-проделайте-предыдущие-пункты-и-проверьте-свои-выводы.\" data-toc-modified-id=\"Какой-уровень-значимости-вы-выбрали-при-проверке-статистических-гипотез-выше?-Посчитайте,-сколько-проверок-статистических-гипотез-вы-сделали.-При-уровне-значимости-0.1-каждый-десятый-раз-можно-получать-ложный-результат.-Какой-уровень-значимости-стоит-применить?-Если-вы-хотите-изменить-его,-проделайте-предыдущие-пункты-и-проверьте-свои-выводы.-5.5\"><span class=\"toc-item-num\">5.5&nbsp;&nbsp;</span>Какой уровень значимости вы выбрали при проверке статистических гипотез выше? Посчитайте, сколько проверок статистических гипотез вы сделали. При уровне значимости 0.1 каждый десятый раз можно получать ложный результат. Какой уровень значимости стоит применить? Если вы хотите изменить его, проделайте предыдущие пункты и проверьте свои выводы.</a></span></li></ul></li><li><span><a href=\"#Общий-вывод\" data-toc-modified-id=\"Общий-вывод-6\"><span class=\"toc-item-num\">6&nbsp;&nbsp;</span>Общий вывод</a></span></li></ul></div>"
   ]
  },
  {
   "cell_type": "markdown",
   "metadata": {},
   "source": [
    "# Описание проекта\n"
   ]
  },
  {
   "cell_type": "markdown",
   "metadata": {},
   "source": [
    "Вы работаете в стартапе, который продаёт продукты питания. Нужно разобраться, как ведут себя пользователи вашего мобильного приложения.\n",
    "\n",
    "Изучите воронку продаж. Узнайте, как пользователи доходят до покупки. Сколько пользователей доходит до покупки, а сколько — «застревает» на предыдущих шагах? На каких именно?\n",
    "\n",
    "После этого исследуйте результаты A/A/B-эксперимента. Дизайнеры захотели поменять шрифты во всём приложении, а менеджеры испугались, что пользователям будет непривычно. Договорились принять решение по результатам A/A/B-теста. Пользователей разбили на 3 группы: 2 контрольные со старыми шрифтами и одну экспериментальную — с новыми. Выясните, какой шрифт лучше.\n",
    "\n",
    "Создание двух групп A вместо одной имеет определённые преимущества. Если две контрольные группы окажутся равны, вы можете быть уверены в точности проведенного тестирования. Если же между значениями A и A будут существенные различия, это поможет обнаружить факторы, которые привели к искажению результатов. Сравнение контрольных групп также помогает понять, сколько времени и данных потребуется для дальнейших тестов.\n",
    "\n",
    "В случае общей аналитики и A/A/B-эксперимента работайте с одними и теми же данными. В реальных проектах всегда идут эксперименты. Аналитики исследуют качество работы приложения по общим данным, не учитывая принадлежность пользователей к экспериментам.\n"
   ]
  },
  {
   "cell_type": "markdown",
   "metadata": {},
   "source": [
    "# Описание данных\n",
    "\n",
    "Каждая запись в логе — это действие пользователя, или событие.\n",
    "\n",
    "* `EventName` — название события;\n",
    "* `DeviceIDHash` — уникальный идентификатор пользователя;\n",
    "* `EventTimestamp` — время события;\n",
    "* `ExpId` — номер эксперимента: \n",
    "    * 246 и 247 — 2 контрольные со старыми шрифтами \n",
    "    * 248 — экспериментальная группа с новыми шрифтами.\n"
   ]
  },
  {
   "cell_type": "markdown",
   "metadata": {},
   "source": [
    "## Открываем файл с данными и изучаем общую информацию"
   ]
  },
  {
   "cell_type": "markdown",
   "metadata": {},
   "source": [
    "### Импорт библиотек"
   ]
  },
  {
   "cell_type": "code",
   "execution_count": 1,
   "metadata": {},
   "outputs": [],
   "source": [
    "# ! pip install -Uq matplotlib"
   ]
  },
  {
   "cell_type": "code",
   "execution_count": 2,
   "metadata": {
    "scrolled": false
   },
   "outputs": [],
   "source": [
    "import pandas as pd\n",
    "import os\n",
    "import matplotlib.pyplot as plt\n",
    "import seaborn as sns\n",
    "import numpy as np\n",
    "import math\n",
    "\n",
    "from plotly import graph_objects as go\n",
    "from scipy import stats as st\n",
    "\n",
    "from pandas.plotting import register_matplotlib_converters\n",
    "register_matplotlib_converters()\n",
    "%matplotlib inline\n",
    "\n",
    "pd.set_option('display.max_columns', 50) #устанавливаем максимальное число отображаемых колонок\n",
    "pd.set_option('display.max_rows', 100)\n",
    "pd.set_option('max_colwidth', 1)\n",
    "\n",
    "def load_csv_choose_path(file):\n",
    "    if os.path.exists(file):\n",
    "        db = pd.read_csv(file, sep = '\\t')\n",
    "    elif os.path.exists('/datasets/'+file):\n",
    "        db = pd.read_csv('/datasets/'+file, sep = '\\t')\n",
    "    else:\n",
    "        raise FileNotFoundError(file)\n",
    "    return db"
   ]
  },
  {
   "cell_type": "markdown",
   "metadata": {},
   "source": [
    "### Загружаем данные"
   ]
  },
  {
   "cell_type": "code",
   "execution_count": 3,
   "metadata": {
    "scrolled": false
   },
   "outputs": [
    {
     "data": {
      "text/html": [
       "<div>\n",
       "<style scoped>\n",
       "    .dataframe tbody tr th:only-of-type {\n",
       "        vertical-align: middle;\n",
       "    }\n",
       "\n",
       "    .dataframe tbody tr th {\n",
       "        vertical-align: top;\n",
       "    }\n",
       "\n",
       "    .dataframe thead th {\n",
       "        text-align: right;\n",
       "    }\n",
       "</style>\n",
       "<table border=\"1\" class=\"dataframe\">\n",
       "  <thead>\n",
       "    <tr style=\"text-align: right;\">\n",
       "      <th></th>\n",
       "      <th>EventName</th>\n",
       "      <th>DeviceIDHash</th>\n",
       "      <th>EventTimestamp</th>\n",
       "      <th>ExpId</th>\n",
       "    </tr>\n",
       "  </thead>\n",
       "  <tbody>\n",
       "    <tr>\n",
       "      <td>0</td>\n",
       "      <td>MainScreenAppear</td>\n",
       "      <td>4575588528974610257</td>\n",
       "      <td>1564029816</td>\n",
       "      <td>246</td>\n",
       "    </tr>\n",
       "    <tr>\n",
       "      <td>1</td>\n",
       "      <td>MainScreenAppear</td>\n",
       "      <td>7416695313311560658</td>\n",
       "      <td>1564053102</td>\n",
       "      <td>246</td>\n",
       "    </tr>\n",
       "    <tr>\n",
       "      <td>2</td>\n",
       "      <td>PaymentScreenSuccessful</td>\n",
       "      <td>3518123091307005509</td>\n",
       "      <td>1564054127</td>\n",
       "      <td>248</td>\n",
       "    </tr>\n",
       "    <tr>\n",
       "      <td>3</td>\n",
       "      <td>CartScreenAppear</td>\n",
       "      <td>3518123091307005509</td>\n",
       "      <td>1564054127</td>\n",
       "      <td>248</td>\n",
       "    </tr>\n",
       "    <tr>\n",
       "      <td>4</td>\n",
       "      <td>PaymentScreenSuccessful</td>\n",
       "      <td>6217807653094995999</td>\n",
       "      <td>1564055322</td>\n",
       "      <td>248</td>\n",
       "    </tr>\n",
       "  </tbody>\n",
       "</table>\n",
       "</div>"
      ],
      "text/plain": [
       "                 EventName         DeviceIDHash  EventTimestamp  ExpId\n",
       "0  MainScreenAppear         4575588528974610257  1564029816      246  \n",
       "1  MainScreenAppear         7416695313311560658  1564053102      246  \n",
       "2  PaymentScreenSuccessful  3518123091307005509  1564054127      248  \n",
       "3  CartScreenAppear         3518123091307005509  1564054127      248  \n",
       "4  PaymentScreenSuccessful  6217807653094995999  1564055322      248  "
      ]
     },
     "execution_count": 3,
     "metadata": {},
     "output_type": "execute_result"
    }
   ],
   "source": [
    "logs = load_csv_choose_path('logs_exp.csv')\n",
    "logs.head(5)"
   ]
  },
  {
   "cell_type": "code",
   "execution_count": 4,
   "metadata": {
    "scrolled": true
   },
   "outputs": [
    {
     "name": "stdout",
     "output_type": "stream",
     "text": [
      "<class 'pandas.core.frame.DataFrame'>\n",
      "RangeIndex: 244126 entries, 0 to 244125\n",
      "Data columns (total 4 columns):\n",
      "EventName         244126 non-null object\n",
      "DeviceIDHash      244126 non-null int64\n",
      "EventTimestamp    244126 non-null int64\n",
      "ExpId             244126 non-null int64\n",
      "dtypes: int64(3), object(1)\n",
      "memory usage: 7.5+ MB\n"
     ]
    }
   ],
   "source": [
    "logs.info()"
   ]
  },
  {
   "cell_type": "markdown",
   "metadata": {},
   "source": [
    "## Подготовка данных"
   ]
  },
  {
   "cell_type": "markdown",
   "metadata": {},
   "source": [
    "### Меняем названия столбцов"
   ]
  },
  {
   "cell_type": "code",
   "execution_count": 5,
   "metadata": {},
   "outputs": [
    {
     "data": {
      "text/plain": [
       "Index(['event_name', 'user_id', 'event_timestamp', 'exp_id'], dtype='object')"
      ]
     },
     "execution_count": 5,
     "metadata": {},
     "output_type": "execute_result"
    }
   ],
   "source": [
    "logs.columns = ['event_name', 'user_id', 'event_timestamp', 'exp_id']\n",
    "logs.columns"
   ]
  },
  {
   "cell_type": "markdown",
   "metadata": {},
   "source": [
    "### Смотрим дубликаты"
   ]
  },
  {
   "cell_type": "code",
   "execution_count": 6,
   "metadata": {},
   "outputs": [
    {
     "data": {
      "text/plain": [
       "413"
      ]
     },
     "execution_count": 6,
     "metadata": {},
     "output_type": "execute_result"
    }
   ],
   "source": [
    "logs.duplicated().sum()"
   ]
  },
  {
   "cell_type": "markdown",
   "metadata": {},
   "source": [
    "Найдено 413 дубликатов, удаляем."
   ]
  },
  {
   "cell_type": "code",
   "execution_count": 7,
   "metadata": {},
   "outputs": [],
   "source": [
    "logs = logs.drop_duplicates().reset_index(drop=True)"
   ]
  },
  {
   "cell_type": "markdown",
   "metadata": {},
   "source": [
    "### Добавляем столбец даты и времени"
   ]
  },
  {
   "cell_type": "code",
   "execution_count": 8,
   "metadata": {},
   "outputs": [
    {
     "data": {
      "text/html": [
       "<div>\n",
       "<style scoped>\n",
       "    .dataframe tbody tr th:only-of-type {\n",
       "        vertical-align: middle;\n",
       "    }\n",
       "\n",
       "    .dataframe tbody tr th {\n",
       "        vertical-align: top;\n",
       "    }\n",
       "\n",
       "    .dataframe thead th {\n",
       "        text-align: right;\n",
       "    }\n",
       "</style>\n",
       "<table border=\"1\" class=\"dataframe\">\n",
       "  <thead>\n",
       "    <tr style=\"text-align: right;\">\n",
       "      <th></th>\n",
       "      <th>event_name</th>\n",
       "      <th>user_id</th>\n",
       "      <th>event_timestamp</th>\n",
       "      <th>exp_id</th>\n",
       "      <th>datetime</th>\n",
       "      <th>date</th>\n",
       "    </tr>\n",
       "  </thead>\n",
       "  <tbody>\n",
       "    <tr>\n",
       "      <td>0</td>\n",
       "      <td>MainScreenAppear</td>\n",
       "      <td>4575588528974610257</td>\n",
       "      <td>1564029816</td>\n",
       "      <td>246</td>\n",
       "      <td>2019-07-25 04:43:36</td>\n",
       "      <td>2019-07-25</td>\n",
       "    </tr>\n",
       "    <tr>\n",
       "      <td>1</td>\n",
       "      <td>MainScreenAppear</td>\n",
       "      <td>7416695313311560658</td>\n",
       "      <td>1564053102</td>\n",
       "      <td>246</td>\n",
       "      <td>2019-07-25 11:11:42</td>\n",
       "      <td>2019-07-25</td>\n",
       "    </tr>\n",
       "    <tr>\n",
       "      <td>2</td>\n",
       "      <td>PaymentScreenSuccessful</td>\n",
       "      <td>3518123091307005509</td>\n",
       "      <td>1564054127</td>\n",
       "      <td>248</td>\n",
       "      <td>2019-07-25 11:28:47</td>\n",
       "      <td>2019-07-25</td>\n",
       "    </tr>\n",
       "    <tr>\n",
       "      <td>3</td>\n",
       "      <td>CartScreenAppear</td>\n",
       "      <td>3518123091307005509</td>\n",
       "      <td>1564054127</td>\n",
       "      <td>248</td>\n",
       "      <td>2019-07-25 11:28:47</td>\n",
       "      <td>2019-07-25</td>\n",
       "    </tr>\n",
       "    <tr>\n",
       "      <td>4</td>\n",
       "      <td>PaymentScreenSuccessful</td>\n",
       "      <td>6217807653094995999</td>\n",
       "      <td>1564055322</td>\n",
       "      <td>248</td>\n",
       "      <td>2019-07-25 11:48:42</td>\n",
       "      <td>2019-07-25</td>\n",
       "    </tr>\n",
       "  </tbody>\n",
       "</table>\n",
       "</div>"
      ],
      "text/plain": [
       "                event_name              user_id  event_timestamp  exp_id  \\\n",
       "0  MainScreenAppear         4575588528974610257  1564029816       246      \n",
       "1  MainScreenAppear         7416695313311560658  1564053102       246      \n",
       "2  PaymentScreenSuccessful  3518123091307005509  1564054127       248      \n",
       "3  CartScreenAppear         3518123091307005509  1564054127       248      \n",
       "4  PaymentScreenSuccessful  6217807653094995999  1564055322       248      \n",
       "\n",
       "             datetime       date  \n",
       "0 2019-07-25 04:43:36 2019-07-25  \n",
       "1 2019-07-25 11:11:42 2019-07-25  \n",
       "2 2019-07-25 11:28:47 2019-07-25  \n",
       "3 2019-07-25 11:28:47 2019-07-25  \n",
       "4 2019-07-25 11:48:42 2019-07-25  "
      ]
     },
     "execution_count": 8,
     "metadata": {},
     "output_type": "execute_result"
    }
   ],
   "source": [
    "logs['datetime'] = pd.to_datetime(logs['event_timestamp'], unit='s')\n",
    "logs['date'] = logs['datetime'].astype('datetime64[D]')\n",
    "logs.head()"
   ]
  },
  {
   "cell_type": "code",
   "execution_count": 9,
   "metadata": {},
   "outputs": [
    {
     "name": "stdout",
     "output_type": "stream",
     "text": [
      "<class 'pandas.core.frame.DataFrame'>\n",
      "RangeIndex: 243713 entries, 0 to 243712\n",
      "Data columns (total 6 columns):\n",
      "event_name         243713 non-null object\n",
      "user_id            243713 non-null int64\n",
      "event_timestamp    243713 non-null int64\n",
      "exp_id             243713 non-null int64\n",
      "datetime           243713 non-null datetime64[ns]\n",
      "date               243713 non-null datetime64[ns]\n",
      "dtypes: datetime64[ns](2), int64(3), object(1)\n",
      "memory usage: 11.2+ MB\n"
     ]
    }
   ],
   "source": [
    "logs.info()"
   ]
  },
  {
   "cell_type": "markdown",
   "metadata": {},
   "source": [
    "## Изучите и проверьте данные"
   ]
  },
  {
   "cell_type": "markdown",
   "metadata": {},
   "source": [
    "### Сколько всего событий в логе?"
   ]
  },
  {
   "cell_type": "code",
   "execution_count": 10,
   "metadata": {},
   "outputs": [
    {
     "data": {
      "text/plain": [
       "243713"
      ]
     },
     "execution_count": 10,
     "metadata": {},
     "output_type": "execute_result"
    }
   ],
   "source": [
    "logs.shape[0]"
   ]
  },
  {
   "cell_type": "code",
   "execution_count": 11,
   "metadata": {
    "scrolled": true
   },
   "outputs": [
    {
     "data": {
      "text/plain": [
       "MainScreenAppear           119101\n",
       "OffersScreenAppear         46808 \n",
       "CartScreenAppear           42668 \n",
       "PaymentScreenSuccessful    34118 \n",
       "Tutorial                   1018  \n",
       "Name: event_name, dtype: int64"
      ]
     },
     "execution_count": 11,
     "metadata": {},
     "output_type": "execute_result"
    }
   ],
   "source": [
    "logs['event_name'].value_counts()"
   ]
  },
  {
   "cell_type": "markdown",
   "metadata": {},
   "source": [
    "Всего событий 243713, 5 типов событий."
   ]
  },
  {
   "cell_type": "markdown",
   "metadata": {},
   "source": [
    "### Сколько всего пользователей в логе?"
   ]
  },
  {
   "cell_type": "code",
   "execution_count": 12,
   "metadata": {},
   "outputs": [
    {
     "name": "stdout",
     "output_type": "stream",
     "text": [
      "Всего пользователей в логе 7551.\n"
     ]
    }
   ],
   "source": [
    "print('Всего пользователей в логе %d.' % (logs['user_id'].nunique()))"
   ]
  },
  {
   "cell_type": "markdown",
   "metadata": {},
   "source": [
    "### Сколько в среднем событий приходится на пользователя?"
   ]
  },
  {
   "cell_type": "code",
   "execution_count": 13,
   "metadata": {},
   "outputs": [
    {
     "name": "stdout",
     "output_type": "stream",
     "text": [
      "Cобытий на пользователя 32.28\n"
     ]
    }
   ],
   "source": [
    "print('Cобытий на пользователя %.2f' % (logs.shape[0] / logs['user_id'].nunique()))"
   ]
  },
  {
   "cell_type": "markdown",
   "metadata": {},
   "source": [
    "### Данными за какой период вы располагаете? \n",
    "\n",
    "Найдите максимальную и минимальную дату.<br> \n",
    "Постройте гистограмму по дате и времени. Можно ли быть уверенным, что у вас одинаково полные данные за весь период? Технически в логи новых дней по некоторым пользователям могут «доезжать» события из прошлого — это может «перекашивать данные». Определите, с какого момента данные полные и отбросьте более старые. Данными за какой период времени вы располагаете на самом деле?"
   ]
  },
  {
   "cell_type": "code",
   "execution_count": 14,
   "metadata": {},
   "outputs": [
    {
     "name": "stdout",
     "output_type": "stream",
     "text": [
      "Данные за период с 2019-07-25 04:43:36 до 2019-08-07 21:15:17.\n"
     ]
    }
   ],
   "source": [
    "print('Данные за период с %s до %s.' % (logs['datetime'].min(), logs['datetime'].max()))"
   ]
  },
  {
   "cell_type": "code",
   "execution_count": 15,
   "metadata": {},
   "outputs": [
    {
     "data": {
      "image/png": "[encoded data removed]",
      "text/plain": [
       "<Figure size 1080x576 with 1 Axes>"
      ]
     },
     "metadata": {
      "needs_background": "light"
     },
     "output_type": "display_data"
    }
   ],
   "source": [
    "fig = plt.figure(figsize=(15,8))\n",
    "logs['datetime'].hist(bins=50)\n",
    "plt.xticks(rotation=45)\n",
    "plt.ylabel(\"Частота\")\n",
    "plt.xlabel(\"Дата\")\n",
    "plt.title('Гистограмма по дате')\n",
    "plt.show()"
   ]
  },
  {
   "cell_type": "markdown",
   "metadata": {},
   "source": [
    "По гистограмме видно, что данные начали поступать с 01.08.2019. Данные поступившие до 31.07.2019 относятся к ранним действиям пользователей и могут быть не актуальной информацией.<br>\n",
    "Соответственно мы располагаем данными за период с 01.08.2019 по 07.08.2019."
   ]
  },
  {
   "cell_type": "code",
   "execution_count": 16,
   "metadata": {},
   "outputs": [
    {
     "data": {
      "text/plain": [
       "Timestamp('2019-08-01 00:07:28')"
      ]
     },
     "execution_count": 16,
     "metadata": {},
     "output_type": "execute_result"
    }
   ],
   "source": [
    "logs_work = logs[logs['datetime'] > '2019-08-01']\n",
    "logs_work['datetime'].min()"
   ]
  },
  {
   "cell_type": "markdown",
   "metadata": {},
   "source": [
    "### Много ли событий и пользователей вы потеряли, отбросив старые данные?"
   ]
  },
  {
   "cell_type": "code",
   "execution_count": 17,
   "metadata": {},
   "outputs": [
    {
     "name": "stdout",
     "output_type": "stream",
     "text": [
      "Потеряно 2826 событий, что составляет 1.2%.\n"
     ]
    }
   ],
   "source": [
    "print('Потеряно %d событий, что составляет %.1f%%.' % ((logs.shape[0] - logs_work.shape[0]), \n",
    "        ((logs.shape[0] - logs_work.shape[0]) / logs.shape[0]*100)))"
   ]
  },
  {
   "cell_type": "code",
   "execution_count": 18,
   "metadata": {},
   "outputs": [
    {
     "name": "stdout",
     "output_type": "stream",
     "text": [
      "Потеряно пользователей 17, что составляет 0.2%.\n"
     ]
    }
   ],
   "source": [
    "print('Потеряно пользователей %d, что составляет %.1f%%.' % ((logs['user_id'].nunique() - logs_work['user_id'].nunique()),\n",
    "         ((logs['user_id'].nunique() - logs_work['user_id'].nunique()) / logs['user_id'].nunique()*100)))"
   ]
  },
  {
   "cell_type": "markdown",
   "metadata": {},
   "source": [
    "Отбросив старые данные мы удалили 1.2% событий и 0.2% пользователей, что не должно существенно повлиять на результат."
   ]
  },
  {
   "cell_type": "markdown",
   "metadata": {},
   "source": [
    "### Проверьте, что у вас есть пользователи из всех трёх экспериментальных групп."
   ]
  },
  {
   "cell_type": "code",
   "execution_count": 19,
   "metadata": {
    "scrolled": true
   },
   "outputs": [
    {
     "data": {
      "text/plain": [
       "248    84563\n",
       "246    79302\n",
       "247    77022\n",
       "Name: exp_id, dtype: int64"
      ]
     },
     "execution_count": 19,
     "metadata": {},
     "output_type": "execute_result"
    }
   ],
   "source": [
    "logs_work['exp_id'].value_counts()"
   ]
  },
  {
   "cell_type": "code",
   "execution_count": 20,
   "metadata": {},
   "outputs": [
    {
     "data": {
      "text/plain": [
       "exp_id\n",
       "246    2484\n",
       "247    2513\n",
       "248    2537\n",
       "Name: user_id, dtype: int64"
      ]
     },
     "execution_count": 20,
     "metadata": {},
     "output_type": "execute_result"
    }
   ],
   "source": [
    "logs_work.groupby('exp_id')['user_id'].nunique()"
   ]
  },
  {
   "cell_type": "markdown",
   "metadata": {},
   "source": [
    "Видно что данные начали поступать с 01.08.2019. Соответственно мы располагаем данными за период с 01.08.2019 по 07.08.2019.    \n",
    "\n",
    "Отбросив старые данные, мы удалили 1.2% событий и 0.2% пользователей, что не должно существенно повлиять на результат.\n",
    "    \n",
    "Количество записей и количество пользователей в трёх экспериментальных группах примерно равны."
   ]
  },
  {
   "cell_type": "markdown",
   "metadata": {},
   "source": [
    "## Изучите воронку событий"
   ]
  },
  {
   "cell_type": "markdown",
   "metadata": {},
   "source": [
    "### Посмотрите, какие события есть в логах, как часто они встречаются.\n",
    "Отсортируйте события по частоте."
   ]
  },
  {
   "cell_type": "code",
   "execution_count": 21,
   "metadata": {},
   "outputs": [
    {
     "data": {
      "text/plain": [
       "MainScreenAppear           117328\n",
       "OffersScreenAppear         46333 \n",
       "CartScreenAppear           42303 \n",
       "PaymentScreenSuccessful    33918 \n",
       "Tutorial                   1005  \n",
       "Name: event_name, dtype: int64"
      ]
     },
     "execution_count": 21,
     "metadata": {},
     "output_type": "execute_result"
    }
   ],
   "source": [
    "logs_work['event_name'].value_counts()"
   ]
  },
  {
   "cell_type": "markdown",
   "metadata": {},
   "source": [
    "### Посчитайте, сколько пользователей совершали каждое из этих событий.\n",
    "Отсортируйте события по числу пользователей. Посчитайте долю пользователей, которые хоть раз совершали событие.\n"
   ]
  },
  {
   "cell_type": "code",
   "execution_count": 22,
   "metadata": {},
   "outputs": [
    {
     "name": "stdout",
     "output_type": "stream",
     "text": [
      "                event_name users percent\n",
      "0  MainScreenAppear        7419  98.5%  \n",
      "1  OffersScreenAppear      4593  61.0%  \n",
      "2  CartScreenAppear        3734  49.6%  \n",
      "3  PaymentScreenSuccessful 3539  47.0%  \n",
      "4  Tutorial                840   11.1%  \n"
     ]
    }
   ],
   "source": [
    "count_users = logs_work.groupby('event_name')['user_id'].nunique().sort_values(ascending=False).reset_index()\n",
    "count_users['percent'] = (count_users['user_id'] / logs_work['user_id'].nunique())\n",
    "count_users.rename(columns={'user_id':'users'}, inplace=True)\n",
    "print(count_users.to_string(formatters={\n",
    "    'event_name': '{:s}'.format,\n",
    "    'users': '{:d}'.format,\n",
    "    'percent': '{:.1%}'.format\n",
    "}))"
   ]
  },
  {
   "cell_type": "markdown",
   "metadata": {},
   "source": [
    "### Предположите, в каком порядке происходят события. \n",
    "Все ли они выстраиваются в последовательную цепочку? Их не нужно учитывать при расчёте воронки."
   ]
  },
  {
   "cell_type": "markdown",
   "metadata": {},
   "source": [
    "События происходят в следующем порядке:\n",
    "\n",
    "* MainScreenAppear\n",
    "* OffersScreenAppear\n",
    "* CartScreenAppear\n",
    "* PaymentScreenSuccessful\n",
    "\n",
    "Tutorial (руководство) может быть любым шагом или может быть пропущен."
   ]
  },
  {
   "cell_type": "markdown",
   "metadata": {},
   "source": [
    "### По воронке событий посчитайте, какая доля пользователей проходит на следующий шаг воронки (от числа пользователей на предыдущем).\n",
    "То есть для последовательности событий A → B → C посчитайте отношение числа пользователей с событием B к количеству пользователей с событием A, а также отношение числа пользователей с событием C к количеству пользователей с событием B.\n"
   ]
  },
  {
   "cell_type": "code",
   "execution_count": 54,
   "metadata": {},
   "outputs": [],
   "source": [
    "funnel = count_users.loc[:3]\n",
    "\n",
    "for i, el in funnel['users'].items():\n",
    "    if i > 0:\n",
    "        funnel.loc[i, 'conversion'] = el / funnel['users'][i-1]\n",
    "    else:\n",
    "        funnel.loc[i, 'conversion'] = el / el    "
   ]
  },
  {
   "cell_type": "code",
   "execution_count": 55,
   "metadata": {},
   "outputs": [
    {
     "name": "stdout",
     "output_type": "stream",
     "text": [
      "                event_name users percent conversion\n",
      "0  MainScreenAppear        7419  98.5%   100.0%    \n",
      "1  OffersScreenAppear      4593  61.0%   61.9%     \n",
      "2  CartScreenAppear        3734  49.6%   81.3%     \n",
      "3  PaymentScreenSuccessful 3539  47.0%   94.8%     \n"
     ]
    }
   ],
   "source": [
    "print(funnel.to_string(formatters={\n",
    "    'event_name': '{:s}'.format,\n",
    "    'users': '{:d}'.format,\n",
    "    'percent': '{:.1%}'.format,\n",
    "    'conversion': '{:.1%}'.format\n",
    "}))"
   ]
  },
  {
   "cell_type": "code",
   "execution_count": 56,
   "metadata": {
    "scrolled": false
   },
   "outputs": [
    {
     "data": {
      "application/vnd.plotly.v1+json": {
       "config": {
        "plotlyServerURL": "https://plot.ly"
       },
       "data": [
        {
         "type": "funnel",
         "x": [
          7419,
          4593,
          3734,
          3539
         ],
         "y": [
          "MainScreenAppear",
          "OffersScreenAppear",
          "CartScreenAppear",
          "PaymentScreenSuccessful"
         ]
        }
       ],
       "layout": {
        "margin": {
         "b": 0
        },
        "template": {
         "data": {
          "bar": [
           {
            "error_x": {
             "color": "#2a3f5f"
            },
            "error_y": {
             "color": "#2a3f5f"
            },
            "marker": {
             "line": {
              "color": "#E5ECF6",
              "width": 0.5
             }
            },
            "type": "bar"
           }
          ],
          "barpolar": [
           {
            "marker": {
             "line": {
              "color": "#E5ECF6",
              "width": 0.5
             }
            },
            "type": "barpolar"
           }
          ],
          "carpet": [
           {
            "aaxis": {
             "endlinecolor": "#2a3f5f",
             "gridcolor": "white",
             "linecolor": "white",
             "minorgridcolor": "white",
             "startlinecolor": "#2a3f5f"
            },
            "baxis": {
             "endlinecolor": "#2a3f5f",
             "gridcolor": "white",
             "linecolor": "white",
             "minorgridcolor": "white",
             "startlinecolor": "#2a3f5f"
            },
            "type": "carpet"
           }
          ],
          "choropleth": [
           {
            "colorbar": {
             "outlinewidth": 0,
             "ticks": ""
            },
            "type": "choropleth"
           }
          ],
          "contour": [
           {
            "colorbar": {
             "outlinewidth": 0,
             "ticks": ""
            },
            "colorscale": [
             [
              0,
              "#0d0887"
             ],
             [
              0.1111111111111111,
              "#46039f"
             ],
             [
              0.2222222222222222,
              "#7201a8"
             ],
             [
              0.3333333333333333,
              "#9c179e"
             ],
             [
              0.4444444444444444,
              "#bd3786"
             ],
             [
              0.5555555555555556,
              "#d8576b"
             ],
             [
              0.6666666666666666,
              "#ed7953"
             ],
             [
              0.7777777777777778,
              "#fb9f3a"
             ],
             [
              0.8888888888888888,
              "#fdca26"
             ],
             [
              1,
              "#f0f921"
             ]
            ],
            "type": "contour"
           }
          ],
          "contourcarpet": [
           {
            "colorbar": {
             "outlinewidth": 0,
             "ticks": ""
            },
            "type": "contourcarpet"
           }
          ],
          "heatmap": [
           {
            "colorbar": {
             "outlinewidth": 0,
             "ticks": ""
            },
            "colorscale": [
             [
              0,
              "#0d0887"
             ],
             [
              0.1111111111111111,
              "#46039f"
             ],
             [
              0.2222222222222222,
              "#7201a8"
             ],
             [
              0.3333333333333333,
              "#9c179e"
             ],
             [
              0.4444444444444444,
              "#bd3786"
             ],
             [
              0.5555555555555556,
              "#d8576b"
             ],
             [
              0.6666666666666666,
              "#ed7953"
             ],
             [
              0.7777777777777778,
              "#fb9f3a"
             ],
             [
              0.8888888888888888,
              "#fdca26"
             ],
             [
              1,
              "#f0f921"
             ]
            ],
            "type": "heatmap"
           }
          ],
          "heatmapgl": [
           {
            "colorbar": {
             "outlinewidth": 0,
             "ticks": ""
            },
            "colorscale": [
             [
              0,
              "#0d0887"
             ],
             [
              0.1111111111111111,
              "#46039f"
             ],
             [
              0.2222222222222222,
              "#7201a8"
             ],
             [
              0.3333333333333333,
              "#9c179e"
             ],
             [
              0.4444444444444444,
              "#bd3786"
             ],
             [
              0.5555555555555556,
              "#d8576b"
             ],
             [
              0.6666666666666666,
              "#ed7953"
             ],
             [
              0.7777777777777778,
              "#fb9f3a"
             ],
             [
              0.8888888888888888,
              "#fdca26"
             ],
             [
              1,
              "#f0f921"
             ]
            ],
            "type": "heatmapgl"
           }
          ],
          "histogram": [
           {
            "marker": {
             "colorbar": {
              "outlinewidth": 0,
              "ticks": ""
             }
            },
            "type": "histogram"
           }
          ],
          "histogram2d": [
           {
            "colorbar": {
             "outlinewidth": 0,
             "ticks": ""
            },
            "colorscale": [
             [
              0,
              "#0d0887"
             ],
             [
              0.1111111111111111,
              "#46039f"
             ],
             [
              0.2222222222222222,
              "#7201a8"
             ],
             [
              0.3333333333333333,
              "#9c179e"
             ],
             [
              0.4444444444444444,
              "#bd3786"
             ],
             [
              0.5555555555555556,
              "#d8576b"
             ],
             [
              0.6666666666666666,
              "#ed7953"
             ],
             [
              0.7777777777777778,
              "#fb9f3a"
             ],
             [
              0.8888888888888888,
              "#fdca26"
             ],
             [
              1,
              "#f0f921"
             ]
            ],
            "type": "histogram2d"
           }
          ],
          "histogram2dcontour": [
           {
            "colorbar": {
             "outlinewidth": 0,
             "ticks": ""
            },
            "colorscale": [
             [
              0,
              "#0d0887"
             ],
             [
              0.1111111111111111,
              "#46039f"
             ],
             [
              0.2222222222222222,
              "#7201a8"
             ],
             [
              0.3333333333333333,
              "#9c179e"
             ],
             [
              0.4444444444444444,
              "#bd3786"
             ],
             [
              0.5555555555555556,
              "#d8576b"
             ],
             [
              0.6666666666666666,
              "#ed7953"
             ],
             [
              0.7777777777777778,
              "#fb9f3a"
             ],
             [
              0.8888888888888888,
              "#fdca26"
             ],
             [
              1,
              "#f0f921"
             ]
            ],
            "type": "histogram2dcontour"
           }
          ],
          "mesh3d": [
           {
            "colorbar": {
             "outlinewidth": 0,
             "ticks": ""
            },
            "type": "mesh3d"
           }
          ],
          "parcoords": [
           {
            "line": {
             "colorbar": {
              "outlinewidth": 0,
              "ticks": ""
             }
            },
            "type": "parcoords"
           }
          ],
          "scatter": [
           {
            "marker": {
             "colorbar": {
              "outlinewidth": 0,
              "ticks": ""
             }
            },
            "type": "scatter"
           }
          ],
          "scatter3d": [
           {
            "line": {
             "colorbar": {
              "outlinewidth": 0,
              "ticks": ""
             }
            },
            "marker": {
             "colorbar": {
              "outlinewidth": 0,
              "ticks": ""
             }
            },
            "type": "scatter3d"
           }
          ],
          "scattercarpet": [
           {
            "marker": {
             "colorbar": {
              "outlinewidth": 0,
              "ticks": ""
             }
            },
            "type": "scattercarpet"
           }
          ],
          "scattergeo": [
           {
            "marker": {
             "colorbar": {
              "outlinewidth": 0,
              "ticks": ""
             }
            },
            "type": "scattergeo"
           }
          ],
          "scattergl": [
           {
            "marker": {
             "colorbar": {
              "outlinewidth": 0,
              "ticks": ""
             }
            },
            "type": "scattergl"
           }
          ],
          "scattermapbox": [
           {
            "marker": {
             "colorbar": {
              "outlinewidth": 0,
              "ticks": ""
             }
            },
            "type": "scattermapbox"
           }
          ],
          "scatterpolar": [
           {
            "marker": {
             "colorbar": {
              "outlinewidth": 0,
              "ticks": ""
             }
            },
            "type": "scatterpolar"
           }
          ],
          "scatterpolargl": [
           {
            "marker": {
             "colorbar": {
              "outlinewidth": 0,
              "ticks": ""
             }
            },
            "type": "scatterpolargl"
           }
          ],
          "scatterternary": [
           {
            "marker": {
             "colorbar": {
              "outlinewidth": 0,
              "ticks": ""
             }
            },
            "type": "scatterternary"
           }
          ],
          "surface": [
           {
            "colorbar": {
             "outlinewidth": 0,
             "ticks": ""
            },
            "colorscale": [
             [
              0,
              "#0d0887"
             ],
             [
              0.1111111111111111,
              "#46039f"
             ],
             [
              0.2222222222222222,
              "#7201a8"
             ],
             [
              0.3333333333333333,
              "#9c179e"
             ],
             [
              0.4444444444444444,
              "#bd3786"
             ],
             [
              0.5555555555555556,
              "#d8576b"
             ],
             [
              0.6666666666666666,
              "#ed7953"
             ],
             [
              0.7777777777777778,
              "#fb9f3a"
             ],
             [
              0.8888888888888888,
              "#fdca26"
             ],
             [
              1,
              "#f0f921"
             ]
            ],
            "type": "surface"
           }
          ],
          "table": [
           {
            "cells": {
             "fill": {
              "color": "#EBF0F8"
             },
             "line": {
              "color": "white"
             }
            },
            "header": {
             "fill": {
              "color": "#C8D4E3"
             },
             "line": {
              "color": "white"
             }
            },
            "type": "table"
           }
          ]
         },
         "layout": {
          "annotationdefaults": {
           "arrowcolor": "#2a3f5f",
           "arrowhead": 0,
           "arrowwidth": 1
          },
          "colorscale": {
           "diverging": [
            [
             0,
             "#8e0152"
            ],
            [
             0.1,
             "#c51b7d"
            ],
            [
             0.2,
             "#de77ae"
            ],
            [
             0.3,
             "#f1b6da"
            ],
            [
             0.4,
             "#fde0ef"
            ],
            [
             0.5,
             "#f7f7f7"
            ],
            [
             0.6,
             "#e6f5d0"
            ],
            [
             0.7,
             "#b8e186"
            ],
            [
             0.8,
             "#7fbc41"
            ],
            [
             0.9,
             "#4d9221"
            ],
            [
             1,
             "#276419"
            ]
           ],
           "sequential": [
            [
             0,
             "#0d0887"
            ],
            [
             0.1111111111111111,
             "#46039f"
            ],
            [
             0.2222222222222222,
             "#7201a8"
            ],
            [
             0.3333333333333333,
             "#9c179e"
            ],
            [
             0.4444444444444444,
             "#bd3786"
            ],
            [
             0.5555555555555556,
             "#d8576b"
            ],
            [
             0.6666666666666666,
             "#ed7953"
            ],
            [
             0.7777777777777778,
             "#fb9f3a"
            ],
            [
             0.8888888888888888,
             "#fdca26"
            ],
            [
             1,
             "#f0f921"
            ]
           ],
           "sequentialminus": [
            [
             0,
             "#0d0887"
            ],
            [
             0.1111111111111111,
             "#46039f"
            ],
            [
             0.2222222222222222,
             "#7201a8"
            ],
            [
             0.3333333333333333,
             "#9c179e"
            ],
            [
             0.4444444444444444,
             "#bd3786"
            ],
            [
             0.5555555555555556,
             "#d8576b"
            ],
            [
             0.6666666666666666,
             "#ed7953"
            ],
            [
             0.7777777777777778,
             "#fb9f3a"
            ],
            [
             0.8888888888888888,
             "#fdca26"
            ],
            [
             1,
             "#f0f921"
            ]
           ]
          },
          "colorway": [
           "#636efa",
           "#EF553B",
           "#00cc96",
           "#ab63fa",
           "#FFA15A",
           "#19d3f3",
           "#FF6692",
           "#B6E880",
           "#FF97FF",
           "#FECB52"
          ],
          "font": {
           "color": "#2a3f5f"
          },
          "geo": {
           "bgcolor": "white",
           "lakecolor": "white",
           "landcolor": "#E5ECF6",
           "showlakes": true,
           "showland": true,
           "subunitcolor": "white"
          },
          "hoverlabel": {
           "align": "left"
          },
          "hovermode": "closest",
          "mapbox": {
           "style": "light"
          },
          "paper_bgcolor": "white",
          "plot_bgcolor": "#E5ECF6",
          "polar": {
           "angularaxis": {
            "gridcolor": "white",
            "linecolor": "white",
            "ticks": ""
           },
           "bgcolor": "#E5ECF6",
           "radialaxis": {
            "gridcolor": "white",
            "linecolor": "white",
            "ticks": ""
           }
          },
          "scene": {
           "xaxis": {
            "backgroundcolor": "#E5ECF6",
            "gridcolor": "white",
            "gridwidth": 2,
            "linecolor": "white",
            "showbackground": true,
            "ticks": "",
            "zerolinecolor": "white"
           },
           "yaxis": {
            "backgroundcolor": "#E5ECF6",
            "gridcolor": "white",
            "gridwidth": 2,
            "linecolor": "white",
            "showbackground": true,
            "ticks": "",
            "zerolinecolor": "white"
           },
           "zaxis": {
            "backgroundcolor": "#E5ECF6",
            "gridcolor": "white",
            "gridwidth": 2,
            "linecolor": "white",
            "showbackground": true,
            "ticks": "",
            "zerolinecolor": "white"
           }
          },
          "shapedefaults": {
           "line": {
            "color": "#2a3f5f"
           }
          },
          "ternary": {
           "aaxis": {
            "gridcolor": "white",
            "linecolor": "white",
            "ticks": ""
           },
           "baxis": {
            "gridcolor": "white",
            "linecolor": "white",
            "ticks": ""
           },
           "bgcolor": "#E5ECF6",
           "caxis": {
            "gridcolor": "white",
            "linecolor": "white",
            "ticks": ""
           }
          },
          "title": {
           "x": 0.05
          },
          "xaxis": {
           "automargin": true,
           "gridcolor": "white",
           "linecolor": "white",
           "ticks": "",
           "zerolinecolor": "white",
           "zerolinewidth": 2
          },
          "yaxis": {
           "automargin": true,
           "gridcolor": "white",
           "linecolor": "white",
           "ticks": "",
           "zerolinecolor": "white",
           "zerolinewidth": 2
          }
         }
        },
        "title": {
         "text": "Воронка событий"
        }
       }
      },
      "text/html": [
       "<div>\n",
       "        \n",
       "        \n",
       "            <div id=\"5c08fc0e-9547-47b3-ac65-4e66e291909a\" class=\"plotly-graph-div\" style=\"height:525px; width:100%;\"></div>\n",
       "            <script type=\"text/javascript\">\n",
       "                require([\"plotly\"], function(Plotly) {\n",
       "                    window.PLOTLYENV=window.PLOTLYENV || {};\n",
       "                    \n",
       "                if (document.getElementById(\"5c08fc0e-9547-47b3-ac65-4e66e291909a\")) {\n",
       "                    Plotly.newPlot(\n",
       "                        '5c08fc0e-9547-47b3-ac65-4e66e291909a',\n",
       "                        [{\"type\": \"funnel\", \"x\": [7419, 4593, 3734, 3539], \"y\": [\"MainScreenAppear\", \"OffersScreenAppear\", \"CartScreenAppear\", \"PaymentScreenSuccessful\"]}],\n",
       "                        {\"margin\": {\"b\": 0}, \"template\": {\"data\": {\"bar\": [{\"error_x\": {\"color\": \"#2a3f5f\"}, \"error_y\": {\"color\": \"#2a3f5f\"}, \"marker\": {\"line\": {\"color\": \"#E5ECF6\", \"width\": 0.5}}, \"type\": \"bar\"}], \"barpolar\": [{\"marker\": {\"line\": {\"color\": \"#E5ECF6\", \"width\": 0.5}}, \"type\": \"barpolar\"}], \"carpet\": [{\"aaxis\": {\"endlinecolor\": \"#2a3f5f\", \"gridcolor\": \"white\", \"linecolor\": \"white\", \"minorgridcolor\": \"white\", \"startlinecolor\": \"#2a3f5f\"}, \"baxis\": {\"endlinecolor\": \"#2a3f5f\", \"gridcolor\": \"white\", \"linecolor\": \"white\", \"minorgridcolor\": \"white\", \"startlinecolor\": \"#2a3f5f\"}, \"type\": \"carpet\"}], \"choropleth\": [{\"colorbar\": {\"outlinewidth\": 0, \"ticks\": \"\"}, \"type\": \"choropleth\"}], \"contour\": [{\"colorbar\": {\"outlinewidth\": 0, \"ticks\": \"\"}, \"colorscale\": [[0.0, \"#0d0887\"], [0.1111111111111111, \"#46039f\"], [0.2222222222222222, \"#7201a8\"], [0.3333333333333333, \"#9c179e\"], [0.4444444444444444, \"#bd3786\"], [0.5555555555555556, \"#d8576b\"], [0.6666666666666666, \"#ed7953\"], [0.7777777777777778, \"#fb9f3a\"], [0.8888888888888888, \"#fdca26\"], [1.0, \"#f0f921\"]], \"type\": \"contour\"}], \"contourcarpet\": [{\"colorbar\": {\"outlinewidth\": 0, \"ticks\": \"\"}, \"type\": \"contourcarpet\"}], \"heatmap\": [{\"colorbar\": {\"outlinewidth\": 0, \"ticks\": \"\"}, \"colorscale\": [[0.0, \"#0d0887\"], [0.1111111111111111, \"#46039f\"], [0.2222222222222222, \"#7201a8\"], [0.3333333333333333, \"#9c179e\"], [0.4444444444444444, \"#bd3786\"], [0.5555555555555556, \"#d8576b\"], [0.6666666666666666, \"#ed7953\"], [0.7777777777777778, \"#fb9f3a\"], [0.8888888888888888, \"#fdca26\"], [1.0, \"#f0f921\"]], \"type\": \"heatmap\"}], \"heatmapgl\": [{\"colorbar\": {\"outlinewidth\": 0, \"ticks\": \"\"}, \"colorscale\": [[0.0, \"#0d0887\"], [0.1111111111111111, \"#46039f\"], [0.2222222222222222, \"#7201a8\"], [0.3333333333333333, \"#9c179e\"], [0.4444444444444444, \"#bd3786\"], [0.5555555555555556, \"#d8576b\"], [0.6666666666666666, \"#ed7953\"], [0.7777777777777778, \"#fb9f3a\"], [0.8888888888888888, \"#fdca26\"], [1.0, \"#f0f921\"]], \"type\": \"heatmapgl\"}], \"histogram\": [{\"marker\": {\"colorbar\": {\"outlinewidth\": 0, \"ticks\": \"\"}}, \"type\": \"histogram\"}], \"histogram2d\": [{\"colorbar\": {\"outlinewidth\": 0, \"ticks\": \"\"}, \"colorscale\": [[0.0, \"#0d0887\"], [0.1111111111111111, \"#46039f\"], [0.2222222222222222, \"#7201a8\"], [0.3333333333333333, \"#9c179e\"], [0.4444444444444444, \"#bd3786\"], [0.5555555555555556, \"#d8576b\"], [0.6666666666666666, \"#ed7953\"], [0.7777777777777778, \"#fb9f3a\"], [0.8888888888888888, \"#fdca26\"], [1.0, \"#f0f921\"]], \"type\": \"histogram2d\"}], \"histogram2dcontour\": [{\"colorbar\": {\"outlinewidth\": 0, \"ticks\": \"\"}, \"colorscale\": [[0.0, \"#0d0887\"], [0.1111111111111111, \"#46039f\"], [0.2222222222222222, \"#7201a8\"], [0.3333333333333333, \"#9c179e\"], [0.4444444444444444, \"#bd3786\"], [0.5555555555555556, \"#d8576b\"], [0.6666666666666666, \"#ed7953\"], [0.7777777777777778, \"#fb9f3a\"], [0.8888888888888888, \"#fdca26\"], [1.0, \"#f0f921\"]], \"type\": \"histogram2dcontour\"}], \"mesh3d\": [{\"colorbar\": {\"outlinewidth\": 0, \"ticks\": \"\"}, \"type\": \"mesh3d\"}], \"parcoords\": [{\"line\": {\"colorbar\": {\"outlinewidth\": 0, \"ticks\": \"\"}}, \"type\": \"parcoords\"}], \"scatter\": [{\"marker\": {\"colorbar\": {\"outlinewidth\": 0, \"ticks\": \"\"}}, \"type\": \"scatter\"}], \"scatter3d\": [{\"line\": {\"colorbar\": {\"outlinewidth\": 0, \"ticks\": \"\"}}, \"marker\": {\"colorbar\": {\"outlinewidth\": 0, \"ticks\": \"\"}}, \"type\": \"scatter3d\"}], \"scattercarpet\": [{\"marker\": {\"colorbar\": {\"outlinewidth\": 0, \"ticks\": \"\"}}, \"type\": \"scattercarpet\"}], \"scattergeo\": [{\"marker\": {\"colorbar\": {\"outlinewidth\": 0, \"ticks\": \"\"}}, \"type\": \"scattergeo\"}], \"scattergl\": [{\"marker\": {\"colorbar\": {\"outlinewidth\": 0, \"ticks\": \"\"}}, \"type\": \"scattergl\"}], \"scattermapbox\": [{\"marker\": {\"colorbar\": {\"outlinewidth\": 0, \"ticks\": \"\"}}, \"type\": \"scattermapbox\"}], \"scatterpolar\": [{\"marker\": {\"colorbar\": {\"outlinewidth\": 0, \"ticks\": \"\"}}, \"type\": \"scatterpolar\"}], \"scatterpolargl\": [{\"marker\": {\"colorbar\": {\"outlinewidth\": 0, \"ticks\": \"\"}}, \"type\": \"scatterpolargl\"}], \"scatterternary\": [{\"marker\": {\"colorbar\": {\"outlinewidth\": 0, \"ticks\": \"\"}}, \"type\": \"scatterternary\"}], \"surface\": [{\"colorbar\": {\"outlinewidth\": 0, \"ticks\": \"\"}, \"colorscale\": [[0.0, \"#0d0887\"], [0.1111111111111111, \"#46039f\"], [0.2222222222222222, \"#7201a8\"], [0.3333333333333333, \"#9c179e\"], [0.4444444444444444, \"#bd3786\"], [0.5555555555555556, \"#d8576b\"], [0.6666666666666666, \"#ed7953\"], [0.7777777777777778, \"#fb9f3a\"], [0.8888888888888888, \"#fdca26\"], [1.0, \"#f0f921\"]], \"type\": \"surface\"}], \"table\": [{\"cells\": {\"fill\": {\"color\": \"#EBF0F8\"}, \"line\": {\"color\": \"white\"}}, \"header\": {\"fill\": {\"color\": \"#C8D4E3\"}, \"line\": {\"color\": \"white\"}}, \"type\": \"table\"}]}, \"layout\": {\"annotationdefaults\": {\"arrowcolor\": \"#2a3f5f\", \"arrowhead\": 0, \"arrowwidth\": 1}, \"colorscale\": {\"diverging\": [[0, \"#8e0152\"], [0.1, \"#c51b7d\"], [0.2, \"#de77ae\"], [0.3, \"#f1b6da\"], [0.4, \"#fde0ef\"], [0.5, \"#f7f7f7\"], [0.6, \"#e6f5d0\"], [0.7, \"#b8e186\"], [0.8, \"#7fbc41\"], [0.9, \"#4d9221\"], [1, \"#276419\"]], \"sequential\": [[0.0, \"#0d0887\"], [0.1111111111111111, \"#46039f\"], [0.2222222222222222, \"#7201a8\"], [0.3333333333333333, \"#9c179e\"], [0.4444444444444444, \"#bd3786\"], [0.5555555555555556, \"#d8576b\"], [0.6666666666666666, \"#ed7953\"], [0.7777777777777778, \"#fb9f3a\"], [0.8888888888888888, \"#fdca26\"], [1.0, \"#f0f921\"]], \"sequentialminus\": [[0.0, \"#0d0887\"], [0.1111111111111111, \"#46039f\"], [0.2222222222222222, \"#7201a8\"], [0.3333333333333333, \"#9c179e\"], [0.4444444444444444, \"#bd3786\"], [0.5555555555555556, \"#d8576b\"], [0.6666666666666666, \"#ed7953\"], [0.7777777777777778, \"#fb9f3a\"], [0.8888888888888888, \"#fdca26\"], [1.0, \"#f0f921\"]]}, \"colorway\": [\"#636efa\", \"#EF553B\", \"#00cc96\", \"#ab63fa\", \"#FFA15A\", \"#19d3f3\", \"#FF6692\", \"#B6E880\", \"#FF97FF\", \"#FECB52\"], \"font\": {\"color\": \"#2a3f5f\"}, \"geo\": {\"bgcolor\": \"white\", \"lakecolor\": \"white\", \"landcolor\": \"#E5ECF6\", \"showlakes\": true, \"showland\": true, \"subunitcolor\": \"white\"}, \"hoverlabel\": {\"align\": \"left\"}, \"hovermode\": \"closest\", \"mapbox\": {\"style\": \"light\"}, \"paper_bgcolor\": \"white\", \"plot_bgcolor\": \"#E5ECF6\", \"polar\": {\"angularaxis\": {\"gridcolor\": \"white\", \"linecolor\": \"white\", \"ticks\": \"\"}, \"bgcolor\": \"#E5ECF6\", \"radialaxis\": {\"gridcolor\": \"white\", \"linecolor\": \"white\", \"ticks\": \"\"}}, \"scene\": {\"xaxis\": {\"backgroundcolor\": \"#E5ECF6\", \"gridcolor\": \"white\", \"gridwidth\": 2, \"linecolor\": \"white\", \"showbackground\": true, \"ticks\": \"\", \"zerolinecolor\": \"white\"}, \"yaxis\": {\"backgroundcolor\": \"#E5ECF6\", \"gridcolor\": \"white\", \"gridwidth\": 2, \"linecolor\": \"white\", \"showbackground\": true, \"ticks\": \"\", \"zerolinecolor\": \"white\"}, \"zaxis\": {\"backgroundcolor\": \"#E5ECF6\", \"gridcolor\": \"white\", \"gridwidth\": 2, \"linecolor\": \"white\", \"showbackground\": true, \"ticks\": \"\", \"zerolinecolor\": \"white\"}}, \"shapedefaults\": {\"line\": {\"color\": \"#2a3f5f\"}}, \"ternary\": {\"aaxis\": {\"gridcolor\": \"white\", \"linecolor\": \"white\", \"ticks\": \"\"}, \"baxis\": {\"gridcolor\": \"white\", \"linecolor\": \"white\", \"ticks\": \"\"}, \"bgcolor\": \"#E5ECF6\", \"caxis\": {\"gridcolor\": \"white\", \"linecolor\": \"white\", \"ticks\": \"\"}}, \"title\": {\"x\": 0.05}, \"xaxis\": {\"automargin\": true, \"gridcolor\": \"white\", \"linecolor\": \"white\", \"ticks\": \"\", \"zerolinecolor\": \"white\", \"zerolinewidth\": 2}, \"yaxis\": {\"automargin\": true, \"gridcolor\": \"white\", \"linecolor\": \"white\", \"ticks\": \"\", \"zerolinecolor\": \"white\", \"zerolinewidth\": 2}}}, \"title\": {\"text\": \"\\u0412\\u043e\\u0440\\u043e\\u043d\\u043a\\u0430 \\u0441\\u043e\\u0431\\u044b\\u0442\\u0438\\u0439\"}},\n",
       "                        {\"responsive\": true}\n",
       "                    ).then(function(){\n",
       "                            \n",
       "var gd = document.getElementById('5c08fc0e-9547-47b3-ac65-4e66e291909a');\n",
       "var x = new MutationObserver(function (mutations, observer) {{\n",
       "        var display = window.getComputedStyle(gd).display;\n",
       "        if (!display || display === 'none') {{\n",
       "            console.log([gd, 'removed!']);\n",
       "            Plotly.purge(gd);\n",
       "            observer.disconnect();\n",
       "        }}\n",
       "}});\n",
       "\n",
       "// Listen for the removal of the full notebook cells\n",
       "var notebookContainer = gd.closest('#notebook-container');\n",
       "if (notebookContainer) {{\n",
       "    x.observe(notebookContainer, {childList: true});\n",
       "}}\n",
       "\n",
       "// Listen for the clearing of the current output cell\n",
       "var outputEl = gd.closest('.output');\n",
       "if (outputEl) {{\n",
       "    x.observe(outputEl, {childList: true});\n",
       "}}\n",
       "\n",
       "                        })\n",
       "                };\n",
       "                });\n",
       "            </script>\n",
       "        </div>"
      ]
     },
     "metadata": {},
     "output_type": "display_data"
    }
   ],
   "source": [
    "fig = go.Figure(go.Funnel(\n",
    "y=funnel['event_name'],\n",
    "x=funnel['users']))\n",
    "fig.update_layout(margin=dict(b=0))\n",
    "fig.update_layout(title_text='Воронка событий')\n",
    "fig.show()"
   ]
  },
  {
   "cell_type": "markdown",
   "metadata": {},
   "source": [
    "С первого события \"MainScreenAppear\" на 2 событие \"OffersScreenAppear\" переходят около 62% пользователе. И наименьшие потери при переходе с 3 на 4 событие. "
   ]
  },
  {
   "cell_type": "markdown",
   "metadata": {},
   "source": [
    "### На каком шаге теряете больше всего пользователей?"
   ]
  },
  {
   "cell_type": "code",
   "execution_count": 26,
   "metadata": {
    "scrolled": true
   },
   "outputs": [],
   "source": [
    "funnel.loc[:,'lost'] = 1 - funnel.loc[:, 'conversion'] "
   ]
  },
  {
   "cell_type": "code",
   "execution_count": 27,
   "metadata": {},
   "outputs": [
    {
     "name": "stdout",
     "output_type": "stream",
     "text": [
      "                event_name users percent conversion  lost\n",
      "0  MainScreenAppear        7419  98.5%   100.0%     0.0% \n",
      "1  OffersScreenAppear      4593  61.0%   61.9%      38.1%\n",
      "2  CartScreenAppear        3734  49.6%   81.3%      18.7%\n",
      "3  PaymentScreenSuccessful 3539  47.0%   94.8%      5.2% \n"
     ]
    }
   ],
   "source": [
    "print(funnel.to_string(formatters={\n",
    "    'event_name': '{:s}'.format,\n",
    "    'users': '{:d}'.format,\n",
    "    'percent': '{:.1%}'.format,\n",
    "    'conversion': '{:.1%}'.format,\n",
    "    'lost': '{:.1%}'.format\n",
    "}))"
   ]
  },
  {
   "cell_type": "markdown",
   "metadata": {},
   "source": [
    "Больше всего пользователей теряется при переходе с события MainScreenAppear на событие OffersScreenAppear - 38%.\n",
    "\n",
    "и только 5% пользователей добравшиеся до 3 события \"CartScreenAppear\" не оплачивают товар"
   ]
  },
  {
   "cell_type": "markdown",
   "metadata": {},
   "source": [
    "### Какая доля пользователей доходит от первого события до оплаты?"
   ]
  },
  {
   "cell_type": "code",
   "execution_count": 28,
   "metadata": {},
   "outputs": [],
   "source": [
    "funnel.loc[:,'final'] = funnel.loc[:, 'users'] / funnel.loc[0, 'users']"
   ]
  },
  {
   "cell_type": "code",
   "execution_count": 29,
   "metadata": {},
   "outputs": [
    {
     "name": "stdout",
     "output_type": "stream",
     "text": [
      "                event_name users percent conversion  lost  final\n",
      "0  MainScreenAppear        7419  98.5%   100.0%     0.0%  100.0%\n",
      "1  OffersScreenAppear      4593  61.0%   61.9%      38.1% 61.9% \n",
      "2  CartScreenAppear        3734  49.6%   81.3%      18.7% 50.3% \n",
      "3  PaymentScreenSuccessful 3539  47.0%   94.8%      5.2%  47.7% \n"
     ]
    }
   ],
   "source": [
    "print(funnel.to_string(formatters={\n",
    "    'event_name': '{:s}'.format,\n",
    "    'users': '{:d}'.format,\n",
    "    'percent': '{:.1%}'.format,\n",
    "    'conversion': '{:.1%}'.format,\n",
    "    'lost': '{:.1%}'.format,\n",
    "    'final': '{:.1%}'.format\n",
    "}))"
   ]
  },
  {
   "cell_type": "markdown",
   "metadata": {},
   "source": [
    "Оплачивают заказ 47.70% пользователей и только 5% пользователей добравшиеся до 3 события \"CartScreenAppear\" не оплачивают товар."
   ]
  },
  {
   "cell_type": "markdown",
   "metadata": {},
   "source": [
    "## Изучите результаты эксперимента"
   ]
  },
  {
   "cell_type": "markdown",
   "metadata": {},
   "source": [
    "### Сколько пользователей в каждой экспериментальной группе?"
   ]
  },
  {
   "cell_type": "code",
   "execution_count": 57,
   "metadata": {},
   "outputs": [
    {
     "data": {
      "text/html": [
       "<div>\n",
       "<style scoped>\n",
       "    .dataframe tbody tr th:only-of-type {\n",
       "        vertical-align: middle;\n",
       "    }\n",
       "\n",
       "    .dataframe tbody tr th {\n",
       "        vertical-align: top;\n",
       "    }\n",
       "\n",
       "    .dataframe thead th {\n",
       "        text-align: right;\n",
       "    }\n",
       "</style>\n",
       "<table border=\"1\" class=\"dataframe\">\n",
       "  <thead>\n",
       "    <tr style=\"text-align: right;\">\n",
       "      <th></th>\n",
       "      <th>exp_id</th>\n",
       "      <th>user_id</th>\n",
       "    </tr>\n",
       "  </thead>\n",
       "  <tbody>\n",
       "    <tr>\n",
       "      <td>0</td>\n",
       "      <td>246</td>\n",
       "      <td>2484</td>\n",
       "    </tr>\n",
       "    <tr>\n",
       "      <td>1</td>\n",
       "      <td>247</td>\n",
       "      <td>2513</td>\n",
       "    </tr>\n",
       "    <tr>\n",
       "      <td>2</td>\n",
       "      <td>248</td>\n",
       "      <td>2537</td>\n",
       "    </tr>\n",
       "  </tbody>\n",
       "</table>\n",
       "</div>"
      ],
      "text/plain": [
       "   exp_id  user_id\n",
       "0  246     2484   \n",
       "1  247     2513   \n",
       "2  248     2537   "
      ]
     },
     "execution_count": 57,
     "metadata": {},
     "output_type": "execute_result"
    }
   ],
   "source": [
    "users = logs_work.groupby('exp_id')['user_id'].nunique()\n",
    "users = users.to_frame().reset_index()\n",
    "users"
   ]
  },
  {
   "cell_type": "markdown",
   "metadata": {},
   "source": [
    "### Проверьте, находят ли статистические критерии разницу между выборками 246 и 247."
   ]
  },
  {
   "cell_type": "code",
   "execution_count": 58,
   "metadata": {},
   "outputs": [],
   "source": [
    "def count_group(exp):\n",
    "    count_users_group = logs_work[logs_work['exp_id'] == exp].groupby('event_name')['user_id'].nunique()\\\n",
    "                    .sort_values(ascending=False).reset_index()\n",
    "    count_users_group.columns = ['event_name', 'users']\n",
    "    count_users_group['proportion'] = round(count_users_group['users'] / count_users_group['users'][0],3)\n",
    "    return count_users_group"
   ]
  },
  {
   "cell_type": "code",
   "execution_count": 59,
   "metadata": {
    "scrolled": true
   },
   "outputs": [
    {
     "data": {
      "text/html": [
       "<div>\n",
       "<style scoped>\n",
       "    .dataframe tbody tr th:only-of-type {\n",
       "        vertical-align: middle;\n",
       "    }\n",
       "\n",
       "    .dataframe tbody tr th {\n",
       "        vertical-align: top;\n",
       "    }\n",
       "\n",
       "    .dataframe thead th {\n",
       "        text-align: right;\n",
       "    }\n",
       "</style>\n",
       "<table border=\"1\" class=\"dataframe\">\n",
       "  <thead>\n",
       "    <tr style=\"text-align: right;\">\n",
       "      <th></th>\n",
       "      <th>event_name</th>\n",
       "      <th>users</th>\n",
       "      <th>proportion</th>\n",
       "    </tr>\n",
       "  </thead>\n",
       "  <tbody>\n",
       "    <tr>\n",
       "      <td>0</td>\n",
       "      <td>MainScreenAppear</td>\n",
       "      <td>2450</td>\n",
       "      <td>1.000</td>\n",
       "    </tr>\n",
       "    <tr>\n",
       "      <td>1</td>\n",
       "      <td>OffersScreenAppear</td>\n",
       "      <td>1542</td>\n",
       "      <td>0.629</td>\n",
       "    </tr>\n",
       "    <tr>\n",
       "      <td>2</td>\n",
       "      <td>CartScreenAppear</td>\n",
       "      <td>1266</td>\n",
       "      <td>0.517</td>\n",
       "    </tr>\n",
       "    <tr>\n",
       "      <td>3</td>\n",
       "      <td>PaymentScreenSuccessful</td>\n",
       "      <td>1200</td>\n",
       "      <td>0.490</td>\n",
       "    </tr>\n",
       "    <tr>\n",
       "      <td>4</td>\n",
       "      <td>Tutorial</td>\n",
       "      <td>278</td>\n",
       "      <td>0.113</td>\n",
       "    </tr>\n",
       "  </tbody>\n",
       "</table>\n",
       "</div>"
      ],
      "text/plain": [
       "                event_name  users  proportion\n",
       "0  MainScreenAppear         2450   1.000     \n",
       "1  OffersScreenAppear       1542   0.629     \n",
       "2  CartScreenAppear         1266   0.517     \n",
       "3  PaymentScreenSuccessful  1200   0.490     \n",
       "4  Tutorial                 278    0.113     "
      ]
     },
     "execution_count": 59,
     "metadata": {},
     "output_type": "execute_result"
    }
   ],
   "source": [
    "group_246 = count_group(246)\n",
    "group_246"
   ]
  },
  {
   "cell_type": "code",
   "execution_count": 33,
   "metadata": {},
   "outputs": [
    {
     "data": {
      "text/html": [
       "<div>\n",
       "<style scoped>\n",
       "    .dataframe tbody tr th:only-of-type {\n",
       "        vertical-align: middle;\n",
       "    }\n",
       "\n",
       "    .dataframe tbody tr th {\n",
       "        vertical-align: top;\n",
       "    }\n",
       "\n",
       "    .dataframe thead th {\n",
       "        text-align: right;\n",
       "    }\n",
       "</style>\n",
       "<table border=\"1\" class=\"dataframe\">\n",
       "  <thead>\n",
       "    <tr style=\"text-align: right;\">\n",
       "      <th></th>\n",
       "      <th>event_name</th>\n",
       "      <th>users</th>\n",
       "      <th>proportion</th>\n",
       "    </tr>\n",
       "  </thead>\n",
       "  <tbody>\n",
       "    <tr>\n",
       "      <td>0</td>\n",
       "      <td>MainScreenAppear</td>\n",
       "      <td>2476</td>\n",
       "      <td>1.000</td>\n",
       "    </tr>\n",
       "    <tr>\n",
       "      <td>1</td>\n",
       "      <td>OffersScreenAppear</td>\n",
       "      <td>1520</td>\n",
       "      <td>0.614</td>\n",
       "    </tr>\n",
       "    <tr>\n",
       "      <td>2</td>\n",
       "      <td>CartScreenAppear</td>\n",
       "      <td>1238</td>\n",
       "      <td>0.500</td>\n",
       "    </tr>\n",
       "    <tr>\n",
       "      <td>3</td>\n",
       "      <td>PaymentScreenSuccessful</td>\n",
       "      <td>1158</td>\n",
       "      <td>0.468</td>\n",
       "    </tr>\n",
       "    <tr>\n",
       "      <td>4</td>\n",
       "      <td>Tutorial</td>\n",
       "      <td>283</td>\n",
       "      <td>0.114</td>\n",
       "    </tr>\n",
       "  </tbody>\n",
       "</table>\n",
       "</div>"
      ],
      "text/plain": [
       "                event_name  users  proportion\n",
       "0  MainScreenAppear         2476   1.000     \n",
       "1  OffersScreenAppear       1520   0.614     \n",
       "2  CartScreenAppear         1238   0.500     \n",
       "3  PaymentScreenSuccessful  1158   0.468     \n",
       "4  Tutorial                 283    0.114     "
      ]
     },
     "execution_count": 33,
     "metadata": {},
     "output_type": "execute_result"
    }
   ],
   "source": [
    "group_247 = count_group(247)\n",
    "group_247"
   ]
  },
  {
   "cell_type": "code",
   "execution_count": 60,
   "metadata": {},
   "outputs": [
    {
     "name": "stdout",
     "output_type": "stream",
     "text": [
      "p-значение:  0.7570597232046099\n",
      "Не получилось отвергнуть нулевую гипотезу, нет оснований считать доли разными\n",
      "\n"
     ]
    }
   ],
   "source": [
    "# Воспользуемся Z-критерием\n",
    "alpha = 0.05\n",
    "\n",
    "successes = np.array([group_246.loc[0, 'users'], group_247.loc[0, 'users']])\n",
    "trials = np.array([users.loc[0,'user_id'], users.loc[1,'user_id']]) \n",
    "p1 = successes[0]/trials[0] \n",
    "p2 = successes[1]/trials[1] \n",
    "difference = p1 - p2\n",
    "p_combined = (successes[0] + successes[1]) / (trials[0] + trials[1]) \n",
    "difference = p1 - p2\n",
    "z_value = difference / np.sqrt(p_combined * (1 - p_combined) * (1/trials[0] + 1/trials[1])) \n",
    "distr = st.norm(0, 1)\n",
    "p_value = (1 - distr.cdf(abs(z_value))) * 2 \n",
    "print('p-значение: ', p_value) \n",
    "if (p_value < alpha):     \n",
    "    print('Отвергаем нулевую гипотезу: между долями есть значимая разница\\n') \n",
    "else:     \n",
    "    print('Не получилось отвергнуть нулевую гипотезу, нет оснований считать доли разными\\n')"
   ]
  },
  {
   "cell_type": "code",
   "execution_count": 61,
   "metadata": {},
   "outputs": [],
   "source": [
    "group_248 = count_group(248)"
   ]
  },
  {
   "cell_type": "code",
   "execution_count": 62,
   "metadata": {},
   "outputs": [
    {
     "data": {
      "application/vnd.plotly.v1+json": {
       "config": {
        "plotlyServerURL": "https://plot.ly"
       },
       "data": [
        {
         "name": "группа 246",
         "type": "funnel",
         "x": [
          2450,
          1542,
          1266,
          1200
         ],
         "y": [
          "MainScreenAppear",
          "OffersScreenAppear",
          "CartScreenAppear",
          "PaymentScreenSuccessful"
         ]
        },
        {
         "name": "группа 247",
         "type": "funnel",
         "x": [
          2476,
          1520,
          1238,
          1158
         ],
         "y": [
          "MainScreenAppear",
          "OffersScreenAppear",
          "CartScreenAppear",
          "PaymentScreenSuccessful"
         ]
        },
        {
         "name": "группа 248",
         "type": "funnel",
         "x": [
          2493,
          1531,
          1230,
          1181
         ],
         "y": [
          "MainScreenAppear",
          "OffersScreenAppear",
          "CartScreenAppear",
          "PaymentScreenSuccessful"
         ]
        }
       ],
       "layout": {
        "template": {
         "data": {
          "bar": [
           {
            "error_x": {
             "color": "#2a3f5f"
            },
            "error_y": {
             "color": "#2a3f5f"
            },
            "marker": {
             "line": {
              "color": "#E5ECF6",
              "width": 0.5
             }
            },
            "type": "bar"
           }
          ],
          "barpolar": [
           {
            "marker": {
             "line": {
              "color": "#E5ECF6",
              "width": 0.5
             }
            },
            "type": "barpolar"
           }
          ],
          "carpet": [
           {
            "aaxis": {
             "endlinecolor": "#2a3f5f",
             "gridcolor": "white",
             "linecolor": "white",
             "minorgridcolor": "white",
             "startlinecolor": "#2a3f5f"
            },
            "baxis": {
             "endlinecolor": "#2a3f5f",
             "gridcolor": "white",
             "linecolor": "white",
             "minorgridcolor": "white",
             "startlinecolor": "#2a3f5f"
            },
            "type": "carpet"
           }
          ],
          "choropleth": [
           {
            "colorbar": {
             "outlinewidth": 0,
             "ticks": ""
            },
            "type": "choropleth"
           }
          ],
          "contour": [
           {
            "colorbar": {
             "outlinewidth": 0,
             "ticks": ""
            },
            "colorscale": [
             [
              0,
              "#0d0887"
             ],
             [
              0.1111111111111111,
              "#46039f"
             ],
             [
              0.2222222222222222,
              "#7201a8"
             ],
             [
              0.3333333333333333,
              "#9c179e"
             ],
             [
              0.4444444444444444,
              "#bd3786"
             ],
             [
              0.5555555555555556,
              "#d8576b"
             ],
             [
              0.6666666666666666,
              "#ed7953"
             ],
             [
              0.7777777777777778,
              "#fb9f3a"
             ],
             [
              0.8888888888888888,
              "#fdca26"
             ],
             [
              1,
              "#f0f921"
             ]
            ],
            "type": "contour"
           }
          ],
          "contourcarpet": [
           {
            "colorbar": {
             "outlinewidth": 0,
             "ticks": ""
            },
            "type": "contourcarpet"
           }
          ],
          "heatmap": [
           {
            "colorbar": {
             "outlinewidth": 0,
             "ticks": ""
            },
            "colorscale": [
             [
              0,
              "#0d0887"
             ],
             [
              0.1111111111111111,
              "#46039f"
             ],
             [
              0.2222222222222222,
              "#7201a8"
             ],
             [
              0.3333333333333333,
              "#9c179e"
             ],
             [
              0.4444444444444444,
              "#bd3786"
             ],
             [
              0.5555555555555556,
              "#d8576b"
             ],
             [
              0.6666666666666666,
              "#ed7953"
             ],
             [
              0.7777777777777778,
              "#fb9f3a"
             ],
             [
              0.8888888888888888,
              "#fdca26"
             ],
             [
              1,
              "#f0f921"
             ]
            ],
            "type": "heatmap"
           }
          ],
          "heatmapgl": [
           {
            "colorbar": {
             "outlinewidth": 0,
             "ticks": ""
            },
            "colorscale": [
             [
              0,
              "#0d0887"
             ],
             [
              0.1111111111111111,
              "#46039f"
             ],
             [
              0.2222222222222222,
              "#7201a8"
             ],
             [
              0.3333333333333333,
              "#9c179e"
             ],
             [
              0.4444444444444444,
              "#bd3786"
             ],
             [
              0.5555555555555556,
              "#d8576b"
             ],
             [
              0.6666666666666666,
              "#ed7953"
             ],
             [
              0.7777777777777778,
              "#fb9f3a"
             ],
             [
              0.8888888888888888,
              "#fdca26"
             ],
             [
              1,
              "#f0f921"
             ]
            ],
            "type": "heatmapgl"
           }
          ],
          "histogram": [
           {
            "marker": {
             "colorbar": {
              "outlinewidth": 0,
              "ticks": ""
             }
            },
            "type": "histogram"
           }
          ],
          "histogram2d": [
           {
            "colorbar": {
             "outlinewidth": 0,
             "ticks": ""
            },
            "colorscale": [
             [
              0,
              "#0d0887"
             ],
             [
              0.1111111111111111,
              "#46039f"
             ],
             [
              0.2222222222222222,
              "#7201a8"
             ],
             [
              0.3333333333333333,
              "#9c179e"
             ],
             [
              0.4444444444444444,
              "#bd3786"
             ],
             [
              0.5555555555555556,
              "#d8576b"
             ],
             [
              0.6666666666666666,
              "#ed7953"
             ],
             [
              0.7777777777777778,
              "#fb9f3a"
             ],
             [
              0.8888888888888888,
              "#fdca26"
             ],
             [
              1,
              "#f0f921"
             ]
            ],
            "type": "histogram2d"
           }
          ],
          "histogram2dcontour": [
           {
            "colorbar": {
             "outlinewidth": 0,
             "ticks": ""
            },
            "colorscale": [
             [
              0,
              "#0d0887"
             ],
             [
              0.1111111111111111,
              "#46039f"
             ],
             [
              0.2222222222222222,
              "#7201a8"
             ],
             [
              0.3333333333333333,
              "#9c179e"
             ],
             [
              0.4444444444444444,
              "#bd3786"
             ],
             [
              0.5555555555555556,
              "#d8576b"
             ],
             [
              0.6666666666666666,
              "#ed7953"
             ],
             [
              0.7777777777777778,
              "#fb9f3a"
             ],
             [
              0.8888888888888888,
              "#fdca26"
             ],
             [
              1,
              "#f0f921"
             ]
            ],
            "type": "histogram2dcontour"
           }
          ],
          "mesh3d": [
           {
            "colorbar": {
             "outlinewidth": 0,
             "ticks": ""
            },
            "type": "mesh3d"
           }
          ],
          "parcoords": [
           {
            "line": {
             "colorbar": {
              "outlinewidth": 0,
              "ticks": ""
             }
            },
            "type": "parcoords"
           }
          ],
          "scatter": [
           {
            "marker": {
             "colorbar": {
              "outlinewidth": 0,
              "ticks": ""
             }
            },
            "type": "scatter"
           }
          ],
          "scatter3d": [
           {
            "line": {
             "colorbar": {
              "outlinewidth": 0,
              "ticks": ""
             }
            },
            "marker": {
             "colorbar": {
              "outlinewidth": 0,
              "ticks": ""
             }
            },
            "type": "scatter3d"
           }
          ],
          "scattercarpet": [
           {
            "marker": {
             "colorbar": {
              "outlinewidth": 0,
              "ticks": ""
             }
            },
            "type": "scattercarpet"
           }
          ],
          "scattergeo": [
           {
            "marker": {
             "colorbar": {
              "outlinewidth": 0,
              "ticks": ""
             }
            },
            "type": "scattergeo"
           }
          ],
          "scattergl": [
           {
            "marker": {
             "colorbar": {
              "outlinewidth": 0,
              "ticks": ""
             }
            },
            "type": "scattergl"
           }
          ],
          "scattermapbox": [
           {
            "marker": {
             "colorbar": {
              "outlinewidth": 0,
              "ticks": ""
             }
            },
            "type": "scattermapbox"
           }
          ],
          "scatterpolar": [
           {
            "marker": {
             "colorbar": {
              "outlinewidth": 0,
              "ticks": ""
             }
            },
            "type": "scatterpolar"
           }
          ],
          "scatterpolargl": [
           {
            "marker": {
             "colorbar": {
              "outlinewidth": 0,
              "ticks": ""
             }
            },
            "type": "scatterpolargl"
           }
          ],
          "scatterternary": [
           {
            "marker": {
             "colorbar": {
              "outlinewidth": 0,
              "ticks": ""
             }
            },
            "type": "scatterternary"
           }
          ],
          "surface": [
           {
            "colorbar": {
             "outlinewidth": 0,
             "ticks": ""
            },
            "colorscale": [
             [
              0,
              "#0d0887"
             ],
             [
              0.1111111111111111,
              "#46039f"
             ],
             [
              0.2222222222222222,
              "#7201a8"
             ],
             [
              0.3333333333333333,
              "#9c179e"
             ],
             [
              0.4444444444444444,
              "#bd3786"
             ],
             [
              0.5555555555555556,
              "#d8576b"
             ],
             [
              0.6666666666666666,
              "#ed7953"
             ],
             [
              0.7777777777777778,
              "#fb9f3a"
             ],
             [
              0.8888888888888888,
              "#fdca26"
             ],
             [
              1,
              "#f0f921"
             ]
            ],
            "type": "surface"
           }
          ],
          "table": [
           {
            "cells": {
             "fill": {
              "color": "#EBF0F8"
             },
             "line": {
              "color": "white"
             }
            },
            "header": {
             "fill": {
              "color": "#C8D4E3"
             },
             "line": {
              "color": "white"
             }
            },
            "type": "table"
           }
          ]
         },
         "layout": {
          "annotationdefaults": {
           "arrowcolor": "#2a3f5f",
           "arrowhead": 0,
           "arrowwidth": 1
          },
          "colorscale": {
           "diverging": [
            [
             0,
             "#8e0152"
            ],
            [
             0.1,
             "#c51b7d"
            ],
            [
             0.2,
             "#de77ae"
            ],
            [
             0.3,
             "#f1b6da"
            ],
            [
             0.4,
             "#fde0ef"
            ],
            [
             0.5,
             "#f7f7f7"
            ],
            [
             0.6,
             "#e6f5d0"
            ],
            [
             0.7,
             "#b8e186"
            ],
            [
             0.8,
             "#7fbc41"
            ],
            [
             0.9,
             "#4d9221"
            ],
            [
             1,
             "#276419"
            ]
           ],
           "sequential": [
            [
             0,
             "#0d0887"
            ],
            [
             0.1111111111111111,
             "#46039f"
            ],
            [
             0.2222222222222222,
             "#7201a8"
            ],
            [
             0.3333333333333333,
             "#9c179e"
            ],
            [
             0.4444444444444444,
             "#bd3786"
            ],
            [
             0.5555555555555556,
             "#d8576b"
            ],
            [
             0.6666666666666666,
             "#ed7953"
            ],
            [
             0.7777777777777778,
             "#fb9f3a"
            ],
            [
             0.8888888888888888,
             "#fdca26"
            ],
            [
             1,
             "#f0f921"
            ]
           ],
           "sequentialminus": [
            [
             0,
             "#0d0887"
            ],
            [
             0.1111111111111111,
             "#46039f"
            ],
            [
             0.2222222222222222,
             "#7201a8"
            ],
            [
             0.3333333333333333,
             "#9c179e"
            ],
            [
             0.4444444444444444,
             "#bd3786"
            ],
            [
             0.5555555555555556,
             "#d8576b"
            ],
            [
             0.6666666666666666,
             "#ed7953"
            ],
            [
             0.7777777777777778,
             "#fb9f3a"
            ],
            [
             0.8888888888888888,
             "#fdca26"
            ],
            [
             1,
             "#f0f921"
            ]
           ]
          },
          "colorway": [
           "#636efa",
           "#EF553B",
           "#00cc96",
           "#ab63fa",
           "#FFA15A",
           "#19d3f3",
           "#FF6692",
           "#B6E880",
           "#FF97FF",
           "#FECB52"
          ],
          "font": {
           "color": "#2a3f5f"
          },
          "geo": {
           "bgcolor": "white",
           "lakecolor": "white",
           "landcolor": "#E5ECF6",
           "showlakes": true,
           "showland": true,
           "subunitcolor": "white"
          },
          "hoverlabel": {
           "align": "left"
          },
          "hovermode": "closest",
          "mapbox": {
           "style": "light"
          },
          "paper_bgcolor": "white",
          "plot_bgcolor": "#E5ECF6",
          "polar": {
           "angularaxis": {
            "gridcolor": "white",
            "linecolor": "white",
            "ticks": ""
           },
           "bgcolor": "#E5ECF6",
           "radialaxis": {
            "gridcolor": "white",
            "linecolor": "white",
            "ticks": ""
           }
          },
          "scene": {
           "xaxis": {
            "backgroundcolor": "#E5ECF6",
            "gridcolor": "white",
            "gridwidth": 2,
            "linecolor": "white",
            "showbackground": true,
            "ticks": "",
            "zerolinecolor": "white"
           },
           "yaxis": {
            "backgroundcolor": "#E5ECF6",
            "gridcolor": "white",
            "gridwidth": 2,
            "linecolor": "white",
            "showbackground": true,
            "ticks": "",
            "zerolinecolor": "white"
           },
           "zaxis": {
            "backgroundcolor": "#E5ECF6",
            "gridcolor": "white",
            "gridwidth": 2,
            "linecolor": "white",
            "showbackground": true,
            "ticks": "",
            "zerolinecolor": "white"
           }
          },
          "shapedefaults": {
           "line": {
            "color": "#2a3f5f"
           }
          },
          "ternary": {
           "aaxis": {
            "gridcolor": "white",
            "linecolor": "white",
            "ticks": ""
           },
           "baxis": {
            "gridcolor": "white",
            "linecolor": "white",
            "ticks": ""
           },
           "bgcolor": "#E5ECF6",
           "caxis": {
            "gridcolor": "white",
            "linecolor": "white",
            "ticks": ""
           }
          },
          "title": {
           "x": 0.05
          },
          "xaxis": {
           "automargin": true,
           "gridcolor": "white",
           "linecolor": "white",
           "ticks": "",
           "zerolinecolor": "white",
           "zerolinewidth": 2
          },
          "yaxis": {
           "automargin": true,
           "gridcolor": "white",
           "linecolor": "white",
           "ticks": "",
           "zerolinecolor": "white",
           "zerolinewidth": 2
          }
         }
        },
        "title": {
         "text": "Воронка событий по группам",
         "x": 0.5
        }
       }
      },
      "text/html": [
       "<div>\n",
       "        \n",
       "        \n",
       "            <div id=\"9b4f7ff3-1cd4-41df-add9-7488d9100a2e\" class=\"plotly-graph-div\" style=\"height:525px; width:100%;\"></div>\n",
       "            <script type=\"text/javascript\">\n",
       "                require([\"plotly\"], function(Plotly) {\n",
       "                    window.PLOTLYENV=window.PLOTLYENV || {};\n",
       "                    \n",
       "                if (document.getElementById(\"9b4f7ff3-1cd4-41df-add9-7488d9100a2e\")) {\n",
       "                    Plotly.newPlot(\n",
       "                        '9b4f7ff3-1cd4-41df-add9-7488d9100a2e',\n",
       "                        [{\"name\": \"\\u0433\\u0440\\u0443\\u043f\\u043f\\u0430 246\", \"type\": \"funnel\", \"x\": [2450, 1542, 1266, 1200], \"y\": [\"MainScreenAppear\", \"OffersScreenAppear\", \"CartScreenAppear\", \"PaymentScreenSuccessful\"]}, {\"name\": \"\\u0433\\u0440\\u0443\\u043f\\u043f\\u0430 247\", \"type\": \"funnel\", \"x\": [2476, 1520, 1238, 1158], \"y\": [\"MainScreenAppear\", \"OffersScreenAppear\", \"CartScreenAppear\", \"PaymentScreenSuccessful\"]}, {\"name\": \"\\u0433\\u0440\\u0443\\u043f\\u043f\\u0430 248\", \"type\": \"funnel\", \"x\": [2493, 1531, 1230, 1181], \"y\": [\"MainScreenAppear\", \"OffersScreenAppear\", \"CartScreenAppear\", \"PaymentScreenSuccessful\"]}],\n",
       "                        {\"template\": {\"data\": {\"bar\": [{\"error_x\": {\"color\": \"#2a3f5f\"}, \"error_y\": {\"color\": \"#2a3f5f\"}, \"marker\": {\"line\": {\"color\": \"#E5ECF6\", \"width\": 0.5}}, \"type\": \"bar\"}], \"barpolar\": [{\"marker\": {\"line\": {\"color\": \"#E5ECF6\", \"width\": 0.5}}, \"type\": \"barpolar\"}], \"carpet\": [{\"aaxis\": {\"endlinecolor\": \"#2a3f5f\", \"gridcolor\": \"white\", \"linecolor\": \"white\", \"minorgridcolor\": \"white\", \"startlinecolor\": \"#2a3f5f\"}, \"baxis\": {\"endlinecolor\": \"#2a3f5f\", \"gridcolor\": \"white\", \"linecolor\": \"white\", \"minorgridcolor\": \"white\", \"startlinecolor\": \"#2a3f5f\"}, \"type\": \"carpet\"}], \"choropleth\": [{\"colorbar\": {\"outlinewidth\": 0, \"ticks\": \"\"}, \"type\": \"choropleth\"}], \"contour\": [{\"colorbar\": {\"outlinewidth\": 0, \"ticks\": \"\"}, \"colorscale\": [[0.0, \"#0d0887\"], [0.1111111111111111, \"#46039f\"], [0.2222222222222222, \"#7201a8\"], [0.3333333333333333, \"#9c179e\"], [0.4444444444444444, \"#bd3786\"], [0.5555555555555556, \"#d8576b\"], [0.6666666666666666, \"#ed7953\"], [0.7777777777777778, \"#fb9f3a\"], [0.8888888888888888, \"#fdca26\"], [1.0, \"#f0f921\"]], \"type\": \"contour\"}], \"contourcarpet\": [{\"colorbar\": {\"outlinewidth\": 0, \"ticks\": \"\"}, \"type\": \"contourcarpet\"}], \"heatmap\": [{\"colorbar\": {\"outlinewidth\": 0, \"ticks\": \"\"}, \"colorscale\": [[0.0, \"#0d0887\"], [0.1111111111111111, \"#46039f\"], [0.2222222222222222, \"#7201a8\"], [0.3333333333333333, \"#9c179e\"], [0.4444444444444444, \"#bd3786\"], [0.5555555555555556, \"#d8576b\"], [0.6666666666666666, \"#ed7953\"], [0.7777777777777778, \"#fb9f3a\"], [0.8888888888888888, \"#fdca26\"], [1.0, \"#f0f921\"]], \"type\": \"heatmap\"}], \"heatmapgl\": [{\"colorbar\": {\"outlinewidth\": 0, \"ticks\": \"\"}, \"colorscale\": [[0.0, \"#0d0887\"], [0.1111111111111111, \"#46039f\"], [0.2222222222222222, \"#7201a8\"], [0.3333333333333333, \"#9c179e\"], [0.4444444444444444, \"#bd3786\"], [0.5555555555555556, \"#d8576b\"], [0.6666666666666666, \"#ed7953\"], [0.7777777777777778, \"#fb9f3a\"], [0.8888888888888888, \"#fdca26\"], [1.0, \"#f0f921\"]], \"type\": \"heatmapgl\"}], \"histogram\": [{\"marker\": {\"colorbar\": {\"outlinewidth\": 0, \"ticks\": \"\"}}, \"type\": \"histogram\"}], \"histogram2d\": [{\"colorbar\": {\"outlinewidth\": 0, \"ticks\": \"\"}, \"colorscale\": [[0.0, \"#0d0887\"], [0.1111111111111111, \"#46039f\"], [0.2222222222222222, \"#7201a8\"], [0.3333333333333333, \"#9c179e\"], [0.4444444444444444, \"#bd3786\"], [0.5555555555555556, \"#d8576b\"], [0.6666666666666666, \"#ed7953\"], [0.7777777777777778, \"#fb9f3a\"], [0.8888888888888888, \"#fdca26\"], [1.0, \"#f0f921\"]], \"type\": \"histogram2d\"}], \"histogram2dcontour\": [{\"colorbar\": {\"outlinewidth\": 0, \"ticks\": \"\"}, \"colorscale\": [[0.0, \"#0d0887\"], [0.1111111111111111, \"#46039f\"], [0.2222222222222222, \"#7201a8\"], [0.3333333333333333, \"#9c179e\"], [0.4444444444444444, \"#bd3786\"], [0.5555555555555556, \"#d8576b\"], [0.6666666666666666, \"#ed7953\"], [0.7777777777777778, \"#fb9f3a\"], [0.8888888888888888, \"#fdca26\"], [1.0, \"#f0f921\"]], \"type\": \"histogram2dcontour\"}], \"mesh3d\": [{\"colorbar\": {\"outlinewidth\": 0, \"ticks\": \"\"}, \"type\": \"mesh3d\"}], \"parcoords\": [{\"line\": {\"colorbar\": {\"outlinewidth\": 0, \"ticks\": \"\"}}, \"type\": \"parcoords\"}], \"scatter\": [{\"marker\": {\"colorbar\": {\"outlinewidth\": 0, \"ticks\": \"\"}}, \"type\": \"scatter\"}], \"scatter3d\": [{\"line\": {\"colorbar\": {\"outlinewidth\": 0, \"ticks\": \"\"}}, \"marker\": {\"colorbar\": {\"outlinewidth\": 0, \"ticks\": \"\"}}, \"type\": \"scatter3d\"}], \"scattercarpet\": [{\"marker\": {\"colorbar\": {\"outlinewidth\": 0, \"ticks\": \"\"}}, \"type\": \"scattercarpet\"}], \"scattergeo\": [{\"marker\": {\"colorbar\": {\"outlinewidth\": 0, \"ticks\": \"\"}}, \"type\": \"scattergeo\"}], \"scattergl\": [{\"marker\": {\"colorbar\": {\"outlinewidth\": 0, \"ticks\": \"\"}}, \"type\": \"scattergl\"}], \"scattermapbox\": [{\"marker\": {\"colorbar\": {\"outlinewidth\": 0, \"ticks\": \"\"}}, \"type\": \"scattermapbox\"}], \"scatterpolar\": [{\"marker\": {\"colorbar\": {\"outlinewidth\": 0, \"ticks\": \"\"}}, \"type\": \"scatterpolar\"}], \"scatterpolargl\": [{\"marker\": {\"colorbar\": {\"outlinewidth\": 0, \"ticks\": \"\"}}, \"type\": \"scatterpolargl\"}], \"scatterternary\": [{\"marker\": {\"colorbar\": {\"outlinewidth\": 0, \"ticks\": \"\"}}, \"type\": \"scatterternary\"}], \"surface\": [{\"colorbar\": {\"outlinewidth\": 0, \"ticks\": \"\"}, \"colorscale\": [[0.0, \"#0d0887\"], [0.1111111111111111, \"#46039f\"], [0.2222222222222222, \"#7201a8\"], [0.3333333333333333, \"#9c179e\"], [0.4444444444444444, \"#bd3786\"], [0.5555555555555556, \"#d8576b\"], [0.6666666666666666, \"#ed7953\"], [0.7777777777777778, \"#fb9f3a\"], [0.8888888888888888, \"#fdca26\"], [1.0, \"#f0f921\"]], \"type\": \"surface\"}], \"table\": [{\"cells\": {\"fill\": {\"color\": \"#EBF0F8\"}, \"line\": {\"color\": \"white\"}}, \"header\": {\"fill\": {\"color\": \"#C8D4E3\"}, \"line\": {\"color\": \"white\"}}, \"type\": \"table\"}]}, \"layout\": {\"annotationdefaults\": {\"arrowcolor\": \"#2a3f5f\", \"arrowhead\": 0, \"arrowwidth\": 1}, \"colorscale\": {\"diverging\": [[0, \"#8e0152\"], [0.1, \"#c51b7d\"], [0.2, \"#de77ae\"], [0.3, \"#f1b6da\"], [0.4, \"#fde0ef\"], [0.5, \"#f7f7f7\"], [0.6, \"#e6f5d0\"], [0.7, \"#b8e186\"], [0.8, \"#7fbc41\"], [0.9, \"#4d9221\"], [1, \"#276419\"]], \"sequential\": [[0.0, \"#0d0887\"], [0.1111111111111111, \"#46039f\"], [0.2222222222222222, \"#7201a8\"], [0.3333333333333333, \"#9c179e\"], [0.4444444444444444, \"#bd3786\"], [0.5555555555555556, \"#d8576b\"], [0.6666666666666666, \"#ed7953\"], [0.7777777777777778, \"#fb9f3a\"], [0.8888888888888888, \"#fdca26\"], [1.0, \"#f0f921\"]], \"sequentialminus\": [[0.0, \"#0d0887\"], [0.1111111111111111, \"#46039f\"], [0.2222222222222222, \"#7201a8\"], [0.3333333333333333, \"#9c179e\"], [0.4444444444444444, \"#bd3786\"], [0.5555555555555556, \"#d8576b\"], [0.6666666666666666, \"#ed7953\"], [0.7777777777777778, \"#fb9f3a\"], [0.8888888888888888, \"#fdca26\"], [1.0, \"#f0f921\"]]}, \"colorway\": [\"#636efa\", \"#EF553B\", \"#00cc96\", \"#ab63fa\", \"#FFA15A\", \"#19d3f3\", \"#FF6692\", \"#B6E880\", \"#FF97FF\", \"#FECB52\"], \"font\": {\"color\": \"#2a3f5f\"}, \"geo\": {\"bgcolor\": \"white\", \"lakecolor\": \"white\", \"landcolor\": \"#E5ECF6\", \"showlakes\": true, \"showland\": true, \"subunitcolor\": \"white\"}, \"hoverlabel\": {\"align\": \"left\"}, \"hovermode\": \"closest\", \"mapbox\": {\"style\": \"light\"}, \"paper_bgcolor\": \"white\", \"plot_bgcolor\": \"#E5ECF6\", \"polar\": {\"angularaxis\": {\"gridcolor\": \"white\", \"linecolor\": \"white\", \"ticks\": \"\"}, \"bgcolor\": \"#E5ECF6\", \"radialaxis\": {\"gridcolor\": \"white\", \"linecolor\": \"white\", \"ticks\": \"\"}}, \"scene\": {\"xaxis\": {\"backgroundcolor\": \"#E5ECF6\", \"gridcolor\": \"white\", \"gridwidth\": 2, \"linecolor\": \"white\", \"showbackground\": true, \"ticks\": \"\", \"zerolinecolor\": \"white\"}, \"yaxis\": {\"backgroundcolor\": \"#E5ECF6\", \"gridcolor\": \"white\", \"gridwidth\": 2, \"linecolor\": \"white\", \"showbackground\": true, \"ticks\": \"\", \"zerolinecolor\": \"white\"}, \"zaxis\": {\"backgroundcolor\": \"#E5ECF6\", \"gridcolor\": \"white\", \"gridwidth\": 2, \"linecolor\": \"white\", \"showbackground\": true, \"ticks\": \"\", \"zerolinecolor\": \"white\"}}, \"shapedefaults\": {\"line\": {\"color\": \"#2a3f5f\"}}, \"ternary\": {\"aaxis\": {\"gridcolor\": \"white\", \"linecolor\": \"white\", \"ticks\": \"\"}, \"baxis\": {\"gridcolor\": \"white\", \"linecolor\": \"white\", \"ticks\": \"\"}, \"bgcolor\": \"#E5ECF6\", \"caxis\": {\"gridcolor\": \"white\", \"linecolor\": \"white\", \"ticks\": \"\"}}, \"title\": {\"x\": 0.05}, \"xaxis\": {\"automargin\": true, \"gridcolor\": \"white\", \"linecolor\": \"white\", \"ticks\": \"\", \"zerolinecolor\": \"white\", \"zerolinewidth\": 2}, \"yaxis\": {\"automargin\": true, \"gridcolor\": \"white\", \"linecolor\": \"white\", \"ticks\": \"\", \"zerolinecolor\": \"white\", \"zerolinewidth\": 2}}}, \"title\": {\"text\": \"\\u0412\\u043e\\u0440\\u043e\\u043d\\u043a\\u0430 \\u0441\\u043e\\u0431\\u044b\\u0442\\u0438\\u0439 \\u043f\\u043e \\u0433\\u0440\\u0443\\u043f\\u043f\\u0430\\u043c\", \"x\": 0.5}},\n",
       "                        {\"responsive\": true}\n",
       "                    ).then(function(){\n",
       "                            \n",
       "var gd = document.getElementById('9b4f7ff3-1cd4-41df-add9-7488d9100a2e');\n",
       "var x = new MutationObserver(function (mutations, observer) {{\n",
       "        var display = window.getComputedStyle(gd).display;\n",
       "        if (!display || display === 'none') {{\n",
       "            console.log([gd, 'removed!']);\n",
       "            Plotly.purge(gd);\n",
       "            observer.disconnect();\n",
       "        }}\n",
       "}});\n",
       "\n",
       "// Listen for the removal of the full notebook cells\n",
       "var notebookContainer = gd.closest('#notebook-container');\n",
       "if (notebookContainer) {{\n",
       "    x.observe(notebookContainer, {childList: true});\n",
       "}}\n",
       "\n",
       "// Listen for the clearing of the current output cell\n",
       "var outputEl = gd.closest('.output');\n",
       "if (outputEl) {{\n",
       "    x.observe(outputEl, {childList: true});\n",
       "}}\n",
       "\n",
       "                        })\n",
       "                };\n",
       "                });\n",
       "            </script>\n",
       "        </div>"
      ]
     },
     "metadata": {},
     "output_type": "display_data"
    }
   ],
   "source": [
    "fig = go.Figure()\n",
    "fig.update_layout(title_text='Воронка событий по группам', title_x = 0.5)\n",
    "\n",
    "fig.add_trace(go.Funnel(\n",
    "    name = 'группа 246',\n",
    "    y = group_246['event_name'][:4],\n",
    "    x = group_246['users'][:4],\n",
    "    ))\n",
    "\n",
    "fig.add_trace(go.Funnel(\n",
    "    name = 'группа 247',\n",
    "    y = group_247['event_name'][:4],\n",
    "    x = group_247['users'][:4],\n",
    "    ))\n",
    "\n",
    "fig.add_trace(go.Funnel(\n",
    "    name = 'группа 248',\n",
    "    y = group_248['event_name'][:4],\n",
    "    x = group_248['users'][:4],\n",
    "    ))\n",
    "\n",
    "fig.show()"
   ]
  },
  {
   "cell_type": "markdown",
   "metadata": {},
   "source": [
    "Выборки групп 246 и 247 статически не отличаются между собой, А/А эксперимент подтвердил корректность сбора и расчета данных."
   ]
  },
  {
   "cell_type": "markdown",
   "metadata": {},
   "source": [
    "### Выберите самое популярное событие. \n",
    "Посчитайте число пользователей, совершивших это событие в каждой из контрольных групп. Посчитайте долю пользователей, совершивших это событие. Проверьте, будет ли отличие между группами статистически достоверным. Проделайте то же самое для всех других событий (удобно обернуть проверку в отдельную функцию). Можно ли сказать, что разбиение на группы работает корректно?"
   ]
  },
  {
   "cell_type": "code",
   "execution_count": 39,
   "metadata": {},
   "outputs": [
    {
     "data": {
      "text/html": [
       "<div>\n",
       "<style scoped>\n",
       "    .dataframe tbody tr th:only-of-type {\n",
       "        vertical-align: middle;\n",
       "    }\n",
       "\n",
       "    .dataframe tbody tr th {\n",
       "        vertical-align: top;\n",
       "    }\n",
       "\n",
       "    .dataframe thead th {\n",
       "        text-align: right;\n",
       "    }\n",
       "</style>\n",
       "<table border=\"1\" class=\"dataframe\">\n",
       "  <thead>\n",
       "    <tr style=\"text-align: right;\">\n",
       "      <th></th>\n",
       "      <th>event_name</th>\n",
       "      <th>246</th>\n",
       "      <th>247</th>\n",
       "      <th>248</th>\n",
       "      <th>246+247</th>\n",
       "    </tr>\n",
       "  </thead>\n",
       "  <tbody>\n",
       "    <tr>\n",
       "      <td>0</td>\n",
       "      <td>MainScreenAppear</td>\n",
       "      <td>2450</td>\n",
       "      <td>2476</td>\n",
       "      <td>2493</td>\n",
       "      <td>2450</td>\n",
       "    </tr>\n",
       "    <tr>\n",
       "      <td>1</td>\n",
       "      <td>OffersScreenAppear</td>\n",
       "      <td>1542</td>\n",
       "      <td>1520</td>\n",
       "      <td>1531</td>\n",
       "      <td>1542</td>\n",
       "    </tr>\n",
       "    <tr>\n",
       "      <td>2</td>\n",
       "      <td>CartScreenAppear</td>\n",
       "      <td>1266</td>\n",
       "      <td>1238</td>\n",
       "      <td>1230</td>\n",
       "      <td>1266</td>\n",
       "    </tr>\n",
       "    <tr>\n",
       "      <td>3</td>\n",
       "      <td>PaymentScreenSuccessful</td>\n",
       "      <td>1200</td>\n",
       "      <td>1158</td>\n",
       "      <td>1181</td>\n",
       "      <td>1200</td>\n",
       "    </tr>\n",
       "    <tr>\n",
       "      <td>4</td>\n",
       "      <td>Tutorial</td>\n",
       "      <td>278</td>\n",
       "      <td>283</td>\n",
       "      <td>279</td>\n",
       "      <td>278</td>\n",
       "    </tr>\n",
       "  </tbody>\n",
       "</table>\n",
       "</div>"
      ],
      "text/plain": [
       "                event_name   246   247   248  246+247\n",
       "0  MainScreenAppear         2450  2476  2493  2450   \n",
       "1  OffersScreenAppear       1542  1520  1531  1542   \n",
       "2  CartScreenAppear         1266  1238  1230  1266   \n",
       "3  PaymentScreenSuccessful  1200  1158  1181  1200   \n",
       "4  Tutorial                 278   283   279   278    "
      ]
     },
     "execution_count": 39,
     "metadata": {},
     "output_type": "execute_result"
    }
   ],
   "source": [
    "group_all = group_246[['event_name', 'users']].merge(group_247[['event_name', 'users']], how=\"left\", on=\"event_name\")\n",
    "group_all = group_all.merge(group_248[['event_name', 'users']], how=\"left\", on=\"event_name\")\n",
    "group_all.columns = ['event_name', '246', '247', '248']\n",
    "group_all['246+247'] = group_246[ 'users']\n",
    "group_all"
   ]
  },
  {
   "cell_type": "code",
   "execution_count": 40,
   "metadata": {},
   "outputs": [],
   "source": [
    "def z_test(data1, data2, event_name, alpha):\n",
    "\n",
    "    alpha = alpha # критический уровень статистической значимости \n",
    "\n",
    "    successes = np.array([data1[data1['event_name'] == event_name]['users'].values, \n",
    "                         data2[data2['event_name'] == event_name]['users'].values]) \n",
    "    trials = np.array([data1['users'][0], \n",
    "                       data2['users'][0]]) \n",
    "\n",
    "    p1 = successes[0]/trials[0] \n",
    "    p2 = successes[1]/trials[1] \n",
    "    difference = p1 - p2\n",
    "    p_combined = (successes[0] + successes[1]) / (trials[0] + trials[1]) \n",
    "    difference = p1 - p2\n",
    "    z_value = difference / np.sqrt(p_combined * (1 - p_combined) * (1/trials[0] + 1/trials[1])) \n",
    "    distr = st.norm(0, 1)\n",
    "    p_value = (1 - distr.cdf(abs(z_value))) * 2 \n",
    "\n",
    "    print('p-значение: ', p_value) \n",
    "    if (p_value < alpha):     \n",
    "        print('Отвергаем нулевую гипотезу: между долями есть значимая разница\\n') \n",
    "    else:     \n",
    "        print('Не получилось отвергнуть нулевую гипотезу, нет оснований считать доли разными\\n')"
   ]
  },
  {
   "cell_type": "markdown",
   "metadata": {},
   "source": [
    "**MainScreenAppear** - самое популярное событие"
   ]
  },
  {
   "cell_type": "code",
   "execution_count": 41,
   "metadata": {
    "scrolled": true
   },
   "outputs": [
    {
     "name": "stdout",
     "output_type": "stream",
     "text": [
      "OffersScreenAppear\n",
      "p-значение:  [0.2622345]\n",
      "Не получилось отвергнуть нулевую гипотезу, нет оснований считать доли разными\n",
      "\n",
      "CartScreenAppear\n",
      "p-значение:  [0.24012327]\n",
      "Не получилось отвергнуть нулевую гипотезу, нет оснований считать доли разными\n",
      "\n",
      "PaymentScreenSuccessful\n",
      "p-значение:  [0.12044299]\n",
      "Не получилось отвергнуть нулевую гипотезу, нет оснований считать доли разными\n",
      "\n"
     ]
    }
   ],
   "source": [
    "alpha = 0.01\n",
    "\n",
    "for event in group_246['event_name'][1:4].tolist():\n",
    "    print(event)\n",
    "    z_test(group_246, group_247, event, alpha)"
   ]
  },
  {
   "cell_type": "markdown",
   "metadata": {},
   "source": [
    "Статистически значимых различий нет, разбиение на группы выполнено корректно."
   ]
  },
  {
   "cell_type": "markdown",
   "metadata": {},
   "source": [
    "### Аналогично поступите с группой с изменённым шрифтом. Сравните результаты с каждой из контрольных групп в отдельности по каждому событию. Сравните результаты с объединённой контрольной группой. Какие выводы из эксперимента можно сделать?\n"
   ]
  },
  {
   "cell_type": "code",
   "execution_count": 42,
   "metadata": {},
   "outputs": [
    {
     "data": {
      "text/html": [
       "<div>\n",
       "<style scoped>\n",
       "    .dataframe tbody tr th:only-of-type {\n",
       "        vertical-align: middle;\n",
       "    }\n",
       "\n",
       "    .dataframe tbody tr th {\n",
       "        vertical-align: top;\n",
       "    }\n",
       "\n",
       "    .dataframe thead th {\n",
       "        text-align: right;\n",
       "    }\n",
       "</style>\n",
       "<table border=\"1\" class=\"dataframe\">\n",
       "  <thead>\n",
       "    <tr style=\"text-align: right;\">\n",
       "      <th></th>\n",
       "      <th>event_name</th>\n",
       "      <th>users</th>\n",
       "      <th>proportion</th>\n",
       "    </tr>\n",
       "  </thead>\n",
       "  <tbody>\n",
       "    <tr>\n",
       "      <td>0</td>\n",
       "      <td>MainScreenAppear</td>\n",
       "      <td>2493</td>\n",
       "      <td>1.000</td>\n",
       "    </tr>\n",
       "    <tr>\n",
       "      <td>1</td>\n",
       "      <td>OffersScreenAppear</td>\n",
       "      <td>1531</td>\n",
       "      <td>0.614</td>\n",
       "    </tr>\n",
       "    <tr>\n",
       "      <td>2</td>\n",
       "      <td>CartScreenAppear</td>\n",
       "      <td>1230</td>\n",
       "      <td>0.493</td>\n",
       "    </tr>\n",
       "    <tr>\n",
       "      <td>3</td>\n",
       "      <td>PaymentScreenSuccessful</td>\n",
       "      <td>1181</td>\n",
       "      <td>0.474</td>\n",
       "    </tr>\n",
       "    <tr>\n",
       "      <td>4</td>\n",
       "      <td>Tutorial</td>\n",
       "      <td>279</td>\n",
       "      <td>0.112</td>\n",
       "    </tr>\n",
       "  </tbody>\n",
       "</table>\n",
       "</div>"
      ],
      "text/plain": [
       "                event_name  users  proportion\n",
       "0  MainScreenAppear         2493   1.000     \n",
       "1  OffersScreenAppear       1531   0.614     \n",
       "2  CartScreenAppear         1230   0.493     \n",
       "3  PaymentScreenSuccessful  1181   0.474     \n",
       "4  Tutorial                 279    0.112     "
      ]
     },
     "execution_count": 42,
     "metadata": {},
     "output_type": "execute_result"
    }
   ],
   "source": [
    "group_248"
   ]
  },
  {
   "cell_type": "code",
   "execution_count": 43,
   "metadata": {},
   "outputs": [
    {
     "data": {
      "text/html": [
       "<div>\n",
       "<style scoped>\n",
       "    .dataframe tbody tr th:only-of-type {\n",
       "        vertical-align: middle;\n",
       "    }\n",
       "\n",
       "    .dataframe tbody tr th {\n",
       "        vertical-align: top;\n",
       "    }\n",
       "\n",
       "    .dataframe thead th {\n",
       "        text-align: right;\n",
       "    }\n",
       "</style>\n",
       "<table border=\"1\" class=\"dataframe\">\n",
       "  <thead>\n",
       "    <tr style=\"text-align: right;\">\n",
       "      <th></th>\n",
       "      <th>event_name</th>\n",
       "      <th>users</th>\n",
       "      <th>proportion</th>\n",
       "    </tr>\n",
       "  </thead>\n",
       "  <tbody>\n",
       "    <tr>\n",
       "      <td>0</td>\n",
       "      <td>MainScreenAppear</td>\n",
       "      <td>4926</td>\n",
       "      <td>1.000</td>\n",
       "    </tr>\n",
       "    <tr>\n",
       "      <td>1</td>\n",
       "      <td>OffersScreenAppear</td>\n",
       "      <td>3062</td>\n",
       "      <td>0.622</td>\n",
       "    </tr>\n",
       "    <tr>\n",
       "      <td>2</td>\n",
       "      <td>CartScreenAppear</td>\n",
       "      <td>2504</td>\n",
       "      <td>0.508</td>\n",
       "    </tr>\n",
       "    <tr>\n",
       "      <td>3</td>\n",
       "      <td>PaymentScreenSuccessful</td>\n",
       "      <td>2358</td>\n",
       "      <td>0.479</td>\n",
       "    </tr>\n",
       "    <tr>\n",
       "      <td>4</td>\n",
       "      <td>Tutorial</td>\n",
       "      <td>561</td>\n",
       "      <td>0.114</td>\n",
       "    </tr>\n",
       "  </tbody>\n",
       "</table>\n",
       "</div>"
      ],
      "text/plain": [
       "                event_name  users  proportion\n",
       "0  MainScreenAppear         4926   1.000     \n",
       "1  OffersScreenAppear       3062   0.622     \n",
       "2  CartScreenAppear         2504   0.508     \n",
       "3  PaymentScreenSuccessful  2358   0.479     \n",
       "4  Tutorial                 561    0.114     "
      ]
     },
     "execution_count": 43,
     "metadata": {},
     "output_type": "execute_result"
    }
   ],
   "source": [
    "group_246_247 = group_all[['event_name']]\n",
    "group_246_247.loc[:,'users'] = group_all['246'] + group_all['247']\n",
    "group_246_247.loc[:,'proportion'] = round(group_246_247['users'] / group_246_247['users'][0],3)\n",
    "group_246_247"
   ]
  },
  {
   "cell_type": "code",
   "execution_count": 44,
   "metadata": {},
   "outputs": [
    {
     "name": "stdout",
     "output_type": "stream",
     "text": [
      "OffersScreenAppear\n",
      "p-значение:  [0.26842816]\n",
      "Не получилось отвергнуть нулевую гипотезу, нет оснований считать доли разными\n",
      "\n",
      "CartScreenAppear\n",
      "p-значение:  [0.10061043]\n",
      "Не получилось отвергнуть нулевую гипотезу, нет оснований считать доли разными\n",
      "\n",
      "PaymentScreenSuccessful\n",
      "p-значение:  [0.25826384]\n",
      "Не получилось отвергнуть нулевую гипотезу, нет оснований считать доли разными\n",
      "\n"
     ]
    }
   ],
   "source": [
    "alpha = 0.01\n",
    "\n",
    "for event in group_246['event_name'][1:4].tolist():\n",
    "    print(event)\n",
    "    z_test(group_246, group_248, event, alpha)"
   ]
  },
  {
   "cell_type": "code",
   "execution_count": 45,
   "metadata": {},
   "outputs": [
    {
     "name": "stdout",
     "output_type": "stream",
     "text": [
      "OffersScreenAppear\n",
      "p-значение:  [0.98693653]\n",
      "Не получилось отвергнуть нулевую гипотезу, нет оснований считать доли разными\n",
      "\n",
      "CartScreenAppear\n",
      "p-значение:  [0.64081802]\n",
      "Не получилось отвергнуть нулевую гипотезу, нет оснований считать доли разными\n",
      "\n",
      "PaymentScreenSuccessful\n",
      "p-значение:  [0.66992081]\n",
      "Не получилось отвергнуть нулевую гипотезу, нет оснований считать доли разными\n",
      "\n"
     ]
    }
   ],
   "source": [
    "alpha = 0.01\n",
    "\n",
    "for event in group_247['event_name'][1:4].tolist():\n",
    "    print(event)\n",
    "    z_test(group_247, group_248, event, alpha)"
   ]
  },
  {
   "cell_type": "code",
   "execution_count": 46,
   "metadata": {},
   "outputs": [
    {
     "name": "stdout",
     "output_type": "stream",
     "text": [
      "OffersScreenAppear\n",
      "p-значение:  [0.53085894]\n",
      "Не получилось отвергнуть нулевую гипотезу, нет оснований считать доли разными\n",
      "\n",
      "CartScreenAppear\n",
      "p-значение:  [0.22404679]\n",
      "Не получилось отвергнуть нулевую гипотезу, нет оснований считать доли разными\n",
      "\n",
      "PaymentScreenSuccessful\n",
      "p-значение:  [0.68630947]\n",
      "Не получилось отвергнуть нулевую гипотезу, нет оснований считать доли разными\n",
      "\n"
     ]
    }
   ],
   "source": [
    "alpha = 0.01\n",
    "\n",
    "for event in group_247['event_name'][1:4].tolist():\n",
    "    print(event)\n",
    "    z_test(group_246_247, group_248, event, alpha)"
   ]
  },
  {
   "cell_type": "markdown",
   "metadata": {},
   "source": [
    "Ни с одной из контрольных групп, ни с объединенной группой у 248 группы нет статистически значимых различий. Изменение шрифта не повлияло на поведение пользователей."
   ]
  },
  {
   "cell_type": "markdown",
   "metadata": {},
   "source": [
    "### Какой уровень значимости вы выбрали при проверке статистических гипотез выше? Посчитайте, сколько проверок статистических гипотез вы сделали. При уровне значимости 0.1 каждый десятый раз можно получать ложный результат. Какой уровень значимости стоит применить? Если вы хотите изменить его, проделайте предыдущие пункты и проверьте свои выводы."
   ]
  },
  {
   "cell_type": "markdown",
   "metadata": {},
   "source": [
    "Для А/В теста выполнено 15 проверок статистических гипотез при уровне значимости 0.01."
   ]
  },
  {
   "cell_type": "code",
   "execution_count": 47,
   "metadata": {},
   "outputs": [
    {
     "data": {
      "text/html": [
       "<div>\n",
       "<style scoped>\n",
       "    .dataframe tbody tr th:only-of-type {\n",
       "        vertical-align: middle;\n",
       "    }\n",
       "\n",
       "    .dataframe tbody tr th {\n",
       "        vertical-align: top;\n",
       "    }\n",
       "\n",
       "    .dataframe thead th {\n",
       "        text-align: right;\n",
       "    }\n",
       "</style>\n",
       "<table border=\"1\" class=\"dataframe\">\n",
       "  <thead>\n",
       "    <tr style=\"text-align: right;\">\n",
       "      <th></th>\n",
       "      <th>event_name</th>\n",
       "      <th>proportion_246</th>\n",
       "      <th>proportion_247</th>\n",
       "      <th>proportion_246_247</th>\n",
       "      <th>proportion_248</th>\n",
       "    </tr>\n",
       "  </thead>\n",
       "  <tbody>\n",
       "    <tr>\n",
       "      <td>0</td>\n",
       "      <td>MainScreenAppear</td>\n",
       "      <td>1.000</td>\n",
       "      <td>1.000</td>\n",
       "      <td>1.000</td>\n",
       "      <td>1.000</td>\n",
       "    </tr>\n",
       "    <tr>\n",
       "      <td>1</td>\n",
       "      <td>OffersScreenAppear</td>\n",
       "      <td>0.629</td>\n",
       "      <td>0.614</td>\n",
       "      <td>0.622</td>\n",
       "      <td>0.614</td>\n",
       "    </tr>\n",
       "    <tr>\n",
       "      <td>2</td>\n",
       "      <td>CartScreenAppear</td>\n",
       "      <td>0.517</td>\n",
       "      <td>0.500</td>\n",
       "      <td>0.508</td>\n",
       "      <td>0.493</td>\n",
       "    </tr>\n",
       "    <tr>\n",
       "      <td>3</td>\n",
       "      <td>PaymentScreenSuccessful</td>\n",
       "      <td>0.490</td>\n",
       "      <td>0.468</td>\n",
       "      <td>0.479</td>\n",
       "      <td>0.474</td>\n",
       "    </tr>\n",
       "    <tr>\n",
       "      <td>4</td>\n",
       "      <td>Tutorial</td>\n",
       "      <td>0.113</td>\n",
       "      <td>0.114</td>\n",
       "      <td>0.114</td>\n",
       "      <td>0.112</td>\n",
       "    </tr>\n",
       "  </tbody>\n",
       "</table>\n",
       "</div>"
      ],
      "text/plain": [
       "                event_name  proportion_246  proportion_247  \\\n",
       "0  MainScreenAppear         1.000           1.000            \n",
       "1  OffersScreenAppear       0.629           0.614            \n",
       "2  CartScreenAppear         0.517           0.500            \n",
       "3  PaymentScreenSuccessful  0.490           0.468            \n",
       "4  Tutorial                 0.113           0.114            \n",
       "\n",
       "   proportion_246_247  proportion_248  \n",
       "0  1.000               1.000           \n",
       "1  0.622               0.614           \n",
       "2  0.508               0.493           \n",
       "3  0.479               0.474           \n",
       "4  0.114               0.112           "
      ]
     },
     "execution_count": 47,
     "metadata": {},
     "output_type": "execute_result"
    }
   ],
   "source": [
    "all_groups = group_246[['event_name', 'proportion']].merge(group_247[['event_name', 'proportion']], on='event_name', suffixes=('_246', '_247'))\n",
    "all_groups = all_groups.merge(group_246_247[['event_name', 'proportion']], on='event_name')\n",
    "all_groups = all_groups.merge(group_248[['event_name', 'proportion']], on='event_name', suffixes=('_246_247', '_248'))\n",
    "\n",
    "all_groups"
   ]
  },
  {
   "cell_type": "code",
   "execution_count": 48,
   "metadata": {},
   "outputs": [
    {
     "data": {
      "image/png": "[encoded data removed]",
      "text/plain": [
       "<Figure size 864x576 with 1 Axes>"
      ]
     },
     "metadata": {
      "needs_background": "light"
     },
     "output_type": "display_data"
    }
   ],
   "source": [
    "fig=plt.subplots(figsize=(12,8))\n",
    "\n",
    "bars1 = all_groups['proportion_246'][1:4]\n",
    "bars2 = all_groups['proportion_247'][1:4]\n",
    "bars3 = all_groups['proportion_246_247'][1:4]\n",
    "bars4 = all_groups['proportion_248'][1:4]\n",
    "\n",
    "barWidth = 0.2\n",
    "r1 = np.arange(len(bars1))\n",
    "r2 = [x + barWidth for x in r1]\n",
    "r3 = [x + 2 * barWidth for x in r1]\n",
    "r4 = [x + 3 * barWidth for x in r1]\n",
    "\n",
    "plt.bar(r1, bars1, width=barWidth, label='группа 246')\n",
    "plt.bar(r2, bars2, width=barWidth, label='группа 247')\n",
    "plt.bar(r3, bars3, width=barWidth, label='группа 246+247')\n",
    "plt.bar(r4, bars4, width=barWidth, label='группа 248') \n",
    "\n",
    "plt.xticks([r + barWidth for r in range(len(bars1))], all_groups['event_name'][1:4])\n",
    "plt.title('Доли пользователей по событиям') \n",
    "plt.xlabel('Названия событий')\n",
    "plt.ylabel('Доля пользователей')\n",
    "plt.legend()\n",
    "plt.show()\n"
   ]
  },
  {
   "cell_type": "markdown",
   "metadata": {},
   "source": [
    "При расчёте z-критерия минимальный p-value был при событии CartScreenAppear между группой 246 и 248. Экспериментальная группа показала результаты хуже. Чтобы эти результаты были статистически значимыми, необходимо уровень значимости увеличить до 0,11. Только при этом уровне значимости результаты A/A теста будут корректны (минимальный p-value 0,12) и доли в одном случае А/B теста будут различны.\n",
    "\n",
    "Пересчитаем и посмотрим, можно ли считать эти результаты статистически значимыми при уровне значимости равном 0.11."
   ]
  },
  {
   "cell_type": "code",
   "execution_count": 49,
   "metadata": {},
   "outputs": [
    {
     "name": "stdout",
     "output_type": "stream",
     "text": [
      "OffersScreenAppear\n",
      "p-значение:  [0.26842816]\n",
      "Не получилось отвергнуть нулевую гипотезу, нет оснований считать доли разными\n",
      "\n",
      "CartScreenAppear\n",
      "p-значение:  [0.10061043]\n",
      "Отвергаем нулевую гипотезу: между долями есть значимая разница\n",
      "\n",
      "PaymentScreenSuccessful\n",
      "p-значение:  [0.25826384]\n",
      "Не получилось отвергнуть нулевую гипотезу, нет оснований считать доли разными\n",
      "\n",
      "Tutorial\n",
      "p-значение:  [0.86266723]\n",
      "Не получилось отвергнуть нулевую гипотезу, нет оснований считать доли разными\n",
      "\n"
     ]
    }
   ],
   "source": [
    "for el in group_246['event_name'][1:].tolist():\n",
    "    print(el)\n",
    "    z_test(group_246, group_248, el, 0.11)"
   ]
  },
  {
   "cell_type": "markdown",
   "metadata": {},
   "source": [
    "<div class=\"alert alert-info\" style=\"border-radius: 15px; box-shadow: 4px 4px 4px; border: 1px solid\">\n",
    "<b> Комментарий студента</b>\n",
    "        \n",
    "При уровне значимости равном 0.11 найдена разница между долями при событии CartScreenAppear групп 246 и 248. Можно сказать, что экспериментальная группа с показала результаты хуже, так как на это событие перешло меньше пользователей.</div>"
   ]
  },
  {
   "cell_type": "markdown",
   "metadata": {},
   "source": [
    "## Общий вывод"
   ]
  },
  {
   "cell_type": "markdown",
   "metadata": {},
   "source": [
    "События происходят в следующем порядке:\n",
    "\n",
    "* MainScreenAppear\n",
    "* OffersScreenAppear\n",
    "* CartScreenAppear\n",
    "* PaymentScreenSuccessful\n",
    "\n",
    "Tutorial (руководство) может быть любым шагом или может быть пропущен.\n",
    "\n",
    "Больше всего пользователей теряется при переходе с события MainScreenAppear на событие OffersScreenAppear - 38%.\n",
    "\n",
    "Оплачивают заказ 47.70% пользователей.\n",
    "\n",
    "A/A тест можно считать корректным при уровне значимости ниже 0,12.\n",
    "\n",
    "Для А/В теста выполнено 15 проверок статистических гипотез при уровне значимости 0.01.\n",
    "\n",
    "По 15 проверкам статистических гипотез А/В теста при уровне значимости 0.01 видно, что статистически значимых различий нет.<br> \n",
    "При уровне значимости равном 0.11 найдены статистически значимые различия в 1 из 15 случаев: экспериментальная группа показала результаты хуже.\n",
    "\n",
    "\n",
    "По имеющимся данным статистически значимых различий между группами не найдено. Изменение шрифта не повлияло на метрики и на поведения пользователей."
   ]
  }
 ],
 "metadata": {
  "ExecuteTimeLog": [
   {
    "duration": 1864,
    "start_time": "2021-06-10T15:00:38.070Z"
   },
   {
    "duration": 20,
    "start_time": "2021-06-10T15:00:39.937Z"
   },
   {
    "duration": 9,
    "start_time": "2021-06-10T15:00:39.960Z"
   },
   {
    "duration": 24,
    "start_time": "2021-06-10T15:00:39.972Z"
   },
   {
    "duration": 34,
    "start_time": "2021-06-10T15:00:39.998Z"
   },
   {
    "duration": 14,
    "start_time": "2021-06-10T15:00:40.035Z"
   },
   {
    "duration": 32,
    "start_time": "2021-06-10T15:00:40.052Z"
   },
   {
    "duration": 43,
    "start_time": "2021-06-10T15:00:40.089Z"
   },
   {
    "duration": 39,
    "start_time": "2021-06-10T15:00:40.135Z"
   },
   {
    "duration": 6,
    "start_time": "2021-06-10T15:00:40.177Z"
   },
   {
    "duration": 57,
    "start_time": "2021-06-10T15:00:40.186Z"
   },
   {
    "duration": 832,
    "start_time": "2021-06-10T15:00:40.245Z"
   },
   {
    "duration": 166,
    "start_time": "2021-06-10T15:00:41.080Z"
   },
   {
    "duration": 17,
    "start_time": "2021-06-10T15:00:41.249Z"
   },
   {
    "duration": 30,
    "start_time": "2021-06-10T15:00:41.269Z"
   },
   {
    "duration": 40,
    "start_time": "2021-06-10T15:00:41.301Z"
   },
   {
    "duration": 9,
    "start_time": "2021-06-10T15:00:41.344Z"
   },
   {
    "duration": 26,
    "start_time": "2021-06-10T15:00:41.356Z"
   },
   {
    "duration": 47,
    "start_time": "2021-06-10T15:00:41.385Z"
   },
   {
    "duration": 22,
    "start_time": "2021-06-10T15:00:41.435Z"
   },
   {
    "duration": 68,
    "start_time": "2021-06-10T15:00:41.460Z"
   },
   {
    "duration": 13,
    "start_time": "2021-06-10T15:00:41.532Z"
   },
   {
    "duration": 8,
    "start_time": "2021-06-10T15:00:41.554Z"
   },
   {
    "duration": 431,
    "start_time": "2021-06-10T15:00:41.565Z"
   },
   {
    "duration": 4,
    "start_time": "2021-06-10T15:00:41.999Z"
   },
   {
    "duration": 129,
    "start_time": "2021-06-10T15:00:42.006Z"
   },
   {
    "duration": 9,
    "start_time": "2021-06-10T15:00:42.138Z"
   },
   {
    "duration": 21,
    "start_time": "2021-06-10T15:00:42.149Z"
   },
   {
    "duration": 82,
    "start_time": "2021-06-10T15:00:42.173Z"
   },
   {
    "duration": 11,
    "start_time": "2021-06-10T15:00:42.257Z"
   },
   {
    "duration": 58,
    "start_time": "2021-06-10T15:00:42.270Z"
   },
   {
    "duration": 12,
    "start_time": "2021-06-10T15:00:42.330Z"
   },
   {
    "duration": 54,
    "start_time": "2021-06-10T15:00:42.345Z"
   },
   {
    "duration": 25,
    "start_time": "2021-06-10T15:00:42.402Z"
   },
   {
    "duration": 29,
    "start_time": "2021-06-10T15:00:42.430Z"
   },
   {
    "duration": 21,
    "start_time": "2021-06-10T15:00:42.463Z"
   },
   {
    "duration": 55,
    "start_time": "2021-06-10T15:00:42.486Z"
   },
   {
    "duration": 12,
    "start_time": "2021-06-10T15:00:42.544Z"
   },
   {
    "duration": 8,
    "start_time": "2021-06-10T15:00:42.558Z"
   },
   {
    "duration": 9,
    "start_time": "2021-06-10T15:00:42.570Z"
   },
   {
    "duration": 55,
    "start_time": "2021-06-10T15:00:42.581Z"
   },
   {
    "duration": 370,
    "start_time": "2021-06-10T15:00:42.638Z"
   },
   {
    "duration": 85,
    "start_time": "2021-06-10T15:00:43.011Z"
   },
   {
    "duration": 53,
    "start_time": "2021-06-10T15:00:43.099Z"
   },
   {
    "duration": 540,
    "start_time": "2021-06-10T15:00:43.155Z"
   },
   {
    "duration": 48,
    "start_time": "2021-06-10T15:00:43.698Z"
   },
   {
    "duration": 578,
    "start_time": "2021-06-10T15:00:43.749Z"
   },
   {
    "duration": 28,
    "start_time": "2021-06-10T15:00:44.331Z"
   },
   {
    "duration": 513,
    "start_time": "2021-06-10T15:00:44.362Z"
   },
   {
    "duration": 27,
    "start_time": "2021-06-10T15:00:44.878Z"
   },
   {
    "duration": 536,
    "start_time": "2021-06-10T15:00:44.907Z"
   },
   {
    "duration": 29,
    "start_time": "2021-06-10T15:00:45.446Z"
   },
   {
    "duration": 590,
    "start_time": "2021-06-10T15:00:45.478Z"
   },
   {
    "duration": 30,
    "start_time": "2021-06-10T15:00:46.070Z"
   },
   {
    "duration": 25,
    "start_time": "2021-06-10T15:00:46.102Z"
   },
   {
    "duration": 12,
    "start_time": "2021-06-10T15:00:46.131Z"
   },
   {
    "duration": 11,
    "start_time": "2021-06-10T15:00:46.145Z"
   },
   {
    "duration": 9,
    "start_time": "2021-06-10T15:00:46.158Z"
   },
   {
    "duration": 56,
    "start_time": "2021-06-10T15:00:46.169Z"
   },
   {
    "duration": 10,
    "start_time": "2021-06-10T15:00:46.228Z"
   },
   {
    "duration": 190,
    "start_time": "2021-06-10T15:00:46.241Z"
   },
   {
    "duration": 305,
    "start_time": "2021-06-10T15:00:46.433Z"
   },
   {
    "duration": 487,
    "start_time": "2021-06-10T15:10:19.089Z"
   },
   {
    "duration": 6,
    "start_time": "2021-06-10T15:10:23.105Z"
   },
   {
    "duration": 28,
    "start_time": "2021-06-10T15:11:21.759Z"
   },
   {
    "duration": 10,
    "start_time": "2021-06-10T15:11:47.582Z"
   },
   {
    "duration": 77,
    "start_time": "2021-06-10T15:13:01.319Z"
   },
   {
    "duration": 117,
    "start_time": "2021-07-02T15:21:10.959Z"
   },
   {
    "duration": 97,
    "start_time": "2021-07-02T15:28:14.754Z"
   },
   {
    "duration": 1332,
    "start_time": "2021-08-17T01:52:44.081Z"
   },
   {
    "duration": 316,
    "start_time": "2021-08-17T01:52:45.416Z"
   },
   {
    "duration": 10,
    "start_time": "2021-08-17T01:52:45.735Z"
   },
   {
    "duration": 19,
    "start_time": "2021-08-17T01:52:45.748Z"
   },
   {
    "duration": 17,
    "start_time": "2021-08-17T01:52:45.770Z"
   },
   {
    "duration": 15,
    "start_time": "2021-08-17T01:52:45.790Z"
   },
   {
    "duration": 20,
    "start_time": "2021-08-17T01:52:45.808Z"
   },
   {
    "duration": 19,
    "start_time": "2021-08-17T01:52:45.831Z"
   },
   {
    "duration": 17,
    "start_time": "2021-08-17T01:52:45.853Z"
   },
   {
    "duration": 8,
    "start_time": "2021-08-17T01:52:45.882Z"
   },
   {
    "duration": 22,
    "start_time": "2021-08-17T01:52:45.892Z"
   },
   {
    "duration": 295,
    "start_time": "2021-08-17T01:52:45.916Z"
   },
   {
    "duration": 10,
    "start_time": "2021-08-17T01:52:46.214Z"
   },
   {
    "duration": 264,
    "start_time": "2021-08-17T01:52:46.227Z"
   },
   {
    "duration": 9,
    "start_time": "2021-08-17T01:52:46.494Z"
   },
   {
    "duration": 15,
    "start_time": "2021-08-17T01:52:46.506Z"
   },
   {
    "duration": 770,
    "start_time": "2021-08-17T01:52:46.524Z"
   },
   {
    "duration": 627,
    "start_time": "2021-08-17T01:52:47.296Z"
   },
   {
    "duration": 17,
    "start_time": "2021-08-17T01:52:47.926Z"
   },
   {
    "duration": 697,
    "start_time": "2021-08-17T01:52:47.946Z"
   },
   {
    "duration": 641,
    "start_time": "2021-08-17T01:52:48.645Z"
   },
   {
    "duration": 16,
    "start_time": "2021-08-17T01:52:49.289Z"
   },
   {
    "duration": 716,
    "start_time": "2021-08-17T01:52:49.311Z"
   },
   {
    "duration": 16,
    "start_time": "2021-08-17T01:52:50.030Z"
   },
   {
    "duration": 490,
    "start_time": "2021-08-17T01:52:50.049Z"
   },
   {
    "duration": 8,
    "start_time": "2021-08-17T01:52:50.542Z"
   },
   {
    "duration": 324,
    "start_time": "2021-08-17T01:52:50.553Z"
   },
   {
    "duration": 490,
    "start_time": "2021-08-17T01:52:50.882Z"
   },
   {
    "duration": 6,
    "start_time": "2021-08-17T01:52:51.382Z"
   },
   {
    "duration": 8,
    "start_time": "2021-08-17T01:52:51.390Z"
   },
   {
    "duration": 15,
    "start_time": "2021-08-17T01:52:51.400Z"
   },
   {
    "duration": 10,
    "start_time": "2021-08-17T01:52:51.418Z"
   },
   {
    "duration": 10,
    "start_time": "2021-08-17T01:52:51.430Z"
   },
   {
    "duration": 7,
    "start_time": "2021-08-17T01:52:51.442Z"
   },
   {
    "duration": 5,
    "start_time": "2021-08-17T01:52:51.482Z"
   },
   {
    "duration": 12,
    "start_time": "2021-08-17T01:52:51.490Z"
   },
   {
    "duration": 11,
    "start_time": "2021-08-17T01:52:51.504Z"
   },
   {
    "duration": 10,
    "start_time": "2021-08-17T01:52:51.517Z"
   },
   {
    "duration": 58,
    "start_time": "2021-08-17T01:52:51.529Z"
   },
   {
    "duration": 12,
    "start_time": "2021-08-17T01:52:51.589Z"
   },
   {
    "duration": 10,
    "start_time": "2021-08-17T01:52:51.603Z"
   },
   {
    "duration": 10,
    "start_time": "2021-08-17T01:52:51.616Z"
   },
   {
    "duration": 6,
    "start_time": "2021-08-17T01:52:51.628Z"
   },
   {
    "duration": 59,
    "start_time": "2021-08-17T01:52:51.637Z"
   },
   {
    "duration": 18,
    "start_time": "2021-08-17T01:52:51.698Z"
   },
   {
    "duration": 12,
    "start_time": "2021-08-17T01:59:15.459Z"
   },
   {
    "duration": 440,
    "start_time": "2021-08-17T02:12:31.562Z"
   },
   {
    "duration": 4,
    "start_time": "2021-08-17T02:12:41.325Z"
   },
   {
    "duration": 5,
    "start_time": "2021-08-17T02:12:47.159Z"
   },
   {
    "duration": 1599,
    "start_time": "2021-08-28T20:17:28.705Z"
   },
   {
    "duration": 195,
    "start_time": "2021-08-28T20:17:30.306Z"
   },
   {
    "duration": 4,
    "start_time": "2021-08-28T20:17:30.504Z"
   },
   {
    "duration": 23,
    "start_time": "2021-08-28T20:17:30.510Z"
   },
   {
    "duration": 4,
    "start_time": "2021-08-28T20:17:30.535Z"
   },
   {
    "duration": 76,
    "start_time": "2021-08-28T20:17:30.541Z"
   },
   {
    "duration": 66,
    "start_time": "2021-08-28T20:17:30.619Z"
   },
   {
    "duration": 32,
    "start_time": "2021-08-28T20:17:30.689Z"
   },
   {
    "duration": 19,
    "start_time": "2021-08-28T20:17:30.723Z"
   },
   {
    "duration": 3,
    "start_time": "2021-08-28T20:17:30.744Z"
   },
   {
    "duration": 51,
    "start_time": "2021-08-28T20:17:30.749Z"
   },
   {
    "duration": 28,
    "start_time": "2021-08-28T20:17:30.802Z"
   },
   {
    "duration": 7,
    "start_time": "2021-08-28T20:17:30.832Z"
   },
   {
    "duration": 13,
    "start_time": "2021-08-28T20:17:30.840Z"
   },
   {
    "duration": 412,
    "start_time": "2021-08-28T20:17:30.855Z"
   },
   {
    "duration": 19,
    "start_time": "2021-08-28T20:17:31.269Z"
   },
   {
    "duration": 13,
    "start_time": "2021-08-28T20:17:31.289Z"
   },
   {
    "duration": 29,
    "start_time": "2021-08-28T20:17:31.303Z"
   },
   {
    "duration": 21,
    "start_time": "2021-08-28T20:17:31.333Z"
   },
   {
    "duration": 33,
    "start_time": "2021-08-28T20:17:31.355Z"
   },
   {
    "duration": 23,
    "start_time": "2021-08-28T20:17:31.389Z"
   },
   {
    "duration": 59,
    "start_time": "2021-08-28T20:17:31.413Z"
   },
   {
    "duration": 20,
    "start_time": "2021-08-28T20:17:31.476Z"
   },
   {
    "duration": 513,
    "start_time": "2021-08-28T20:17:31.497Z"
   },
   {
    "duration": 5,
    "start_time": "2021-08-28T20:17:32.012Z"
   },
   {
    "duration": 12,
    "start_time": "2021-08-28T20:17:32.019Z"
   },
   {
    "duration": 11,
    "start_time": "2021-08-28T20:17:32.032Z"
   },
   {
    "duration": 51,
    "start_time": "2021-08-28T20:17:32.044Z"
   },
   {
    "duration": 99,
    "start_time": "2021-08-28T20:17:32.097Z"
   },
   {
    "duration": 5,
    "start_time": "2021-08-28T20:17:32.198Z"
   },
   {
    "duration": 31,
    "start_time": "2021-08-28T20:17:32.205Z"
   },
   {
    "duration": 69,
    "start_time": "2021-08-28T20:17:32.238Z"
   },
   {
    "duration": 3,
    "start_time": "2021-08-28T20:17:32.308Z"
   },
   {
    "duration": 10,
    "start_time": "2021-08-28T20:17:32.313Z"
   },
   {
    "duration": 21,
    "start_time": "2021-08-28T20:17:32.325Z"
   },
   {
    "duration": 231,
    "start_time": "2021-08-28T20:17:32.348Z"
   },
   {
    "duration": 21,
    "start_time": "2021-08-28T20:17:32.584Z"
   },
   {
    "duration": 6,
    "start_time": "2021-08-28T20:17:32.606Z"
   },
   {
    "duration": 16,
    "start_time": "2021-08-28T20:17:32.614Z"
   },
   {
    "duration": 7,
    "start_time": "2021-08-28T20:17:32.631Z"
   },
   {
    "duration": 12,
    "start_time": "2021-08-28T20:17:32.640Z"
   },
   {
    "duration": 48,
    "start_time": "2021-08-28T20:17:32.654Z"
   },
   {
    "duration": 14,
    "start_time": "2021-08-28T20:17:32.704Z"
   },
   {
    "duration": 12,
    "start_time": "2021-08-28T20:17:32.719Z"
   },
   {
    "duration": 11,
    "start_time": "2021-08-28T20:17:32.732Z"
   },
   {
    "duration": 6,
    "start_time": "2021-08-28T20:25:30.785Z"
   },
   {
    "duration": 185,
    "start_time": "2021-08-28T20:25:30.793Z"
   },
   {
    "duration": 4,
    "start_time": "2021-08-28T20:25:30.986Z"
   },
   {
    "duration": 22,
    "start_time": "2021-08-28T20:25:30.992Z"
   },
   {
    "duration": 7,
    "start_time": "2021-08-28T20:25:31.015Z"
   },
   {
    "duration": 45,
    "start_time": "2021-08-28T20:25:31.023Z"
   },
   {
    "duration": 50,
    "start_time": "2021-08-28T20:25:31.084Z"
   },
   {
    "duration": 25,
    "start_time": "2021-08-28T20:25:31.137Z"
   },
   {
    "duration": 38,
    "start_time": "2021-08-28T20:25:31.164Z"
   },
   {
    "duration": 4,
    "start_time": "2021-08-28T20:25:31.204Z"
   },
   {
    "duration": 31,
    "start_time": "2021-08-28T20:25:31.210Z"
   },
   {
    "duration": 9,
    "start_time": "2021-08-28T20:25:31.243Z"
   },
   {
    "duration": 13,
    "start_time": "2021-08-28T20:25:31.254Z"
   },
   {
    "duration": 16,
    "start_time": "2021-08-28T20:25:31.269Z"
   },
   {
    "duration": 401,
    "start_time": "2021-08-28T20:25:31.287Z"
   },
   {
    "duration": 18,
    "start_time": "2021-08-28T20:25:31.690Z"
   },
   {
    "duration": 3,
    "start_time": "2021-08-28T20:25:31.710Z"
   },
   {
    "duration": 10,
    "start_time": "2021-08-28T20:25:31.714Z"
   },
   {
    "duration": 6,
    "start_time": "2021-08-28T20:25:31.725Z"
   },
   {
    "duration": 55,
    "start_time": "2021-08-28T20:25:31.732Z"
   },
   {
    "duration": 26,
    "start_time": "2021-08-28T20:25:31.789Z"
   },
   {
    "duration": 52,
    "start_time": "2021-08-28T20:25:31.817Z"
   },
   {
    "duration": 14,
    "start_time": "2021-08-28T20:25:31.885Z"
   },
   {
    "duration": 124,
    "start_time": "2021-08-28T20:25:31.902Z"
   },
   {
    "duration": 6,
    "start_time": "2021-08-28T20:25:32.028Z"
   },
   {
    "duration": 15,
    "start_time": "2021-08-28T20:25:32.035Z"
   },
   {
    "duration": 10,
    "start_time": "2021-08-28T20:25:32.052Z"
   },
   {
    "duration": 23,
    "start_time": "2021-08-28T20:25:32.063Z"
   },
   {
    "duration": 31,
    "start_time": "2021-08-28T20:25:32.088Z"
   },
   {
    "duration": 3,
    "start_time": "2021-08-28T20:25:32.121Z"
   },
   {
    "duration": 33,
    "start_time": "2021-08-28T20:25:32.126Z"
   },
   {
    "duration": 46,
    "start_time": "2021-08-28T20:25:32.161Z"
   },
   {
    "duration": 3,
    "start_time": "2021-08-28T20:25:32.208Z"
   },
   {
    "duration": 10,
    "start_time": "2021-08-28T20:25:32.212Z"
   },
   {
    "duration": 30,
    "start_time": "2021-08-28T20:25:32.223Z"
   },
   {
    "duration": 129,
    "start_time": "2021-08-28T20:25:32.255Z"
   },
   {
    "duration": 21,
    "start_time": "2021-08-28T20:25:32.386Z"
   },
   {
    "duration": 8,
    "start_time": "2021-08-28T20:25:32.409Z"
   },
   {
    "duration": 23,
    "start_time": "2021-08-28T20:25:32.419Z"
   },
   {
    "duration": 7,
    "start_time": "2021-08-28T20:25:32.444Z"
   },
   {
    "duration": 15,
    "start_time": "2021-08-28T20:25:32.452Z"
   },
   {
    "duration": 15,
    "start_time": "2021-08-28T20:25:32.486Z"
   },
   {
    "duration": 13,
    "start_time": "2021-08-28T20:25:32.504Z"
   },
   {
    "duration": 16,
    "start_time": "2021-08-28T20:25:32.518Z"
   },
   {
    "duration": 14,
    "start_time": "2021-08-28T20:25:32.535Z"
   },
   {
    "duration": 1542,
    "start_time": "2021-08-28T20:53:15.762Z"
   },
   {
    "duration": 174,
    "start_time": "2021-08-28T20:53:17.306Z"
   },
   {
    "duration": 4,
    "start_time": "2021-08-28T20:53:17.484Z"
   },
   {
    "duration": 18,
    "start_time": "2021-08-28T20:53:17.491Z"
   },
   {
    "duration": 4,
    "start_time": "2021-08-28T20:53:17.510Z"
   },
   {
    "duration": 50,
    "start_time": "2021-08-28T20:53:17.515Z"
   },
   {
    "duration": 58,
    "start_time": "2021-08-28T20:53:17.585Z"
   },
   {
    "duration": 44,
    "start_time": "2021-08-28T20:53:17.646Z"
   },
   {
    "duration": 25,
    "start_time": "2021-08-28T20:53:17.692Z"
   },
   {
    "duration": 4,
    "start_time": "2021-08-28T20:53:17.719Z"
   },
   {
    "duration": 22,
    "start_time": "2021-08-28T20:53:17.725Z"
   },
   {
    "duration": 4,
    "start_time": "2021-08-28T20:53:17.749Z"
   },
   {
    "duration": 31,
    "start_time": "2021-08-28T20:53:17.755Z"
   },
   {
    "duration": 6,
    "start_time": "2021-08-28T20:53:17.787Z"
   },
   {
    "duration": 407,
    "start_time": "2021-08-28T20:53:17.795Z"
   },
   {
    "duration": 15,
    "start_time": "2021-08-28T20:53:18.204Z"
   },
   {
    "duration": 3,
    "start_time": "2021-08-28T20:53:18.220Z"
   },
   {
    "duration": 14,
    "start_time": "2021-08-28T20:53:18.225Z"
   },
   {
    "duration": 13,
    "start_time": "2021-08-28T20:53:18.241Z"
   },
   {
    "duration": 56,
    "start_time": "2021-08-28T20:53:18.257Z"
   },
   {
    "duration": 38,
    "start_time": "2021-08-28T20:53:18.315Z"
   },
   {
    "duration": 76,
    "start_time": "2021-08-28T20:53:18.355Z"
   },
   {
    "duration": 13,
    "start_time": "2021-08-28T20:53:18.435Z"
   },
   {
    "duration": 558,
    "start_time": "2021-08-28T20:53:18.450Z"
   },
   {
    "duration": 6,
    "start_time": "2021-08-28T20:53:19.010Z"
   },
   {
    "duration": 20,
    "start_time": "2021-08-28T20:53:19.017Z"
   },
   {
    "duration": 7,
    "start_time": "2021-08-28T20:53:19.038Z"
   },
   {
    "duration": 13,
    "start_time": "2021-08-28T20:53:19.085Z"
   },
   {
    "duration": 31,
    "start_time": "2021-08-28T20:53:19.100Z"
   },
   {
    "duration": 52,
    "start_time": "2021-08-28T20:53:19.133Z"
   },
   {
    "duration": 32,
    "start_time": "2021-08-28T20:53:19.188Z"
   },
   {
    "duration": 23,
    "start_time": "2021-08-28T20:53:19.222Z"
   },
   {
    "duration": 40,
    "start_time": "2021-08-28T20:53:19.246Z"
   },
   {
    "duration": 15,
    "start_time": "2021-08-28T20:53:19.288Z"
   },
   {
    "duration": 25,
    "start_time": "2021-08-28T20:53:19.304Z"
   },
   {
    "duration": 235,
    "start_time": "2021-08-28T20:53:19.330Z"
   },
   {
    "duration": 19,
    "start_time": "2021-08-28T20:53:19.567Z"
   },
   {
    "duration": 6,
    "start_time": "2021-08-28T20:53:19.588Z"
   },
   {
    "duration": 19,
    "start_time": "2021-08-28T20:53:19.597Z"
   },
   {
    "duration": 7,
    "start_time": "2021-08-28T20:53:19.617Z"
   },
   {
    "duration": 12,
    "start_time": "2021-08-28T20:53:19.625Z"
   },
   {
    "duration": 13,
    "start_time": "2021-08-28T20:53:19.638Z"
   },
   {
    "duration": 44,
    "start_time": "2021-08-28T20:53:19.653Z"
   },
   {
    "duration": 22,
    "start_time": "2021-08-28T20:53:19.699Z"
   },
   {
    "duration": 11,
    "start_time": "2021-08-28T20:53:19.723Z"
   },
   {
    "duration": 5,
    "start_time": "2021-08-28T21:14:35.038Z"
   },
   {
    "duration": 14,
    "start_time": "2021-08-28T21:14:36.172Z"
   },
   {
    "duration": 5,
    "start_time": "2021-08-28T21:14:53.981Z"
   },
   {
    "duration": 15,
    "start_time": "2021-08-28T21:14:55.686Z"
   },
   {
    "duration": 4,
    "start_time": "2021-08-30T15:57:10.457Z"
   },
   {
    "duration": 4,
    "start_time": "2021-08-30T15:57:12.824Z"
   },
   {
    "duration": 74540,
    "start_time": "2021-08-30T15:59:17.842Z"
   },
   {
    "duration": 24948,
    "start_time": "2021-08-30T16:13:34.977Z"
   },
   {
    "duration": 11,
    "start_time": "2021-08-30T16:14:07.184Z"
   },
   {
    "duration": 22,
    "start_time": "2021-08-30T16:14:07.198Z"
   },
   {
    "duration": 335,
    "start_time": "2021-08-30T16:14:07.223Z"
   },
   {
    "duration": 31,
    "start_time": "2021-08-30T16:14:07.562Z"
   },
   {
    "duration": 7,
    "start_time": "2021-08-30T16:14:07.597Z"
   },
   {
    "duration": 107,
    "start_time": "2021-08-30T16:14:07.606Z"
   },
   {
    "duration": 104,
    "start_time": "2021-08-30T16:14:07.716Z"
   },
   {
    "duration": 38,
    "start_time": "2021-08-30T16:14:07.824Z"
   },
   {
    "duration": 28,
    "start_time": "2021-08-30T16:14:07.882Z"
   },
   {
    "duration": 6,
    "start_time": "2021-08-30T16:14:07.912Z"
   },
   {
    "duration": 35,
    "start_time": "2021-08-30T16:14:07.920Z"
   },
   {
    "duration": 42,
    "start_time": "2021-08-30T16:14:07.957Z"
   },
   {
    "duration": 7,
    "start_time": "2021-08-30T16:14:08.002Z"
   },
   {
    "duration": 8,
    "start_time": "2021-08-30T16:14:08.012Z"
   },
   {
    "duration": 804,
    "start_time": "2021-08-30T16:14:08.022Z"
   },
   {
    "duration": 23,
    "start_time": "2021-08-30T16:14:08.829Z"
   },
   {
    "duration": 5,
    "start_time": "2021-08-30T16:14:08.855Z"
   },
   {
    "duration": 43,
    "start_time": "2021-08-30T16:14:08.862Z"
   },
   {
    "duration": 10,
    "start_time": "2021-08-30T16:14:08.907Z"
   },
   {
    "duration": 81,
    "start_time": "2021-08-30T16:14:08.920Z"
   },
   {
    "duration": 28,
    "start_time": "2021-08-30T16:14:09.004Z"
   },
   {
    "duration": 101,
    "start_time": "2021-08-30T16:14:09.034Z"
   },
   {
    "duration": 11,
    "start_time": "2021-08-30T16:14:09.140Z"
   },
   {
    "duration": 8,
    "start_time": "2021-08-30T16:14:09.154Z"
   },
   {
    "duration": 866,
    "start_time": "2021-08-30T16:14:09.164Z"
   },
   {
    "duration": 8,
    "start_time": "2021-08-30T16:14:10.033Z"
   },
   {
    "duration": 39,
    "start_time": "2021-08-30T16:14:10.044Z"
   },
   {
    "duration": 8,
    "start_time": "2021-08-30T16:14:10.086Z"
   },
   {
    "duration": 11,
    "start_time": "2021-08-30T16:14:10.097Z"
   },
   {
    "duration": 108,
    "start_time": "2021-08-30T16:14:10.111Z"
   },
   {
    "duration": 5,
    "start_time": "2021-08-30T16:14:10.221Z"
   },
   {
    "duration": 96,
    "start_time": "2021-08-30T16:14:10.228Z"
   },
   {
    "duration": 88,
    "start_time": "2021-08-30T16:14:10.327Z"
   },
   {
    "duration": 3,
    "start_time": "2021-08-30T16:14:10.417Z"
   },
   {
    "duration": 7,
    "start_time": "2021-08-30T16:14:10.423Z"
   },
   {
    "duration": 12,
    "start_time": "2021-08-30T16:14:10.433Z"
   },
   {
    "duration": 67,
    "start_time": "2021-08-30T16:14:10.448Z"
   },
   {
    "duration": 210,
    "start_time": "2021-08-30T16:14:10.518Z"
   },
   {
    "duration": 26,
    "start_time": "2021-08-30T16:14:10.730Z"
   },
   {
    "duration": 27,
    "start_time": "2021-08-30T16:14:10.759Z"
   },
   {
    "duration": 31,
    "start_time": "2021-08-30T16:14:10.789Z"
   },
   {
    "duration": 9,
    "start_time": "2021-08-30T16:14:10.822Z"
   },
   {
    "duration": 58,
    "start_time": "2021-08-30T16:14:10.835Z"
   },
   {
    "duration": 18,
    "start_time": "2021-08-30T16:14:10.897Z"
   },
   {
    "duration": 21,
    "start_time": "2021-08-30T16:14:10.918Z"
   },
   {
    "duration": 64,
    "start_time": "2021-08-30T16:14:10.942Z"
   },
   {
    "duration": 33,
    "start_time": "2021-08-30T16:14:11.009Z"
   },
   {
    "duration": 1183,
    "start_time": "2021-08-30T16:14:11.045Z"
   },
   {
    "duration": -27,
    "start_time": "2021-08-30T16:14:12.258Z"
   }
  ],
  "kernelspec": {
   "display_name": "Python 3",
   "language": "python",
   "name": "python3"
  },
  "language_info": {
   "codemirror_mode": {
    "name": "ipython",
    "version": 3
   },
   "file_extension": ".py",
   "mimetype": "text/x-python",
   "name": "python",
   "nbconvert_exporter": "python",
   "pygments_lexer": "ipython3",
   "version": "3.7.12"
  },
  "toc": {
   "base_numbering": 1,
   "nav_menu": {},
   "number_sections": true,
   "sideBar": true,
   "skip_h1_title": true,
   "title_cell": "Содержание",
   "title_sidebar": "Contents",
   "toc_cell": true,
   "toc_position": {
    "height": "886.969px",
    "left": "397px",
    "top": "182px",
    "width": "165px"
   },
   "toc_section_display": true,
   "toc_window_display": true
  },
  "varInspector": {
   "cols": {
    "lenName": 16,
    "lenType": 16,
    "lenVar": 40
   },
   "kernels_config": {
    "python": {
     "delete_cmd_postfix": "",
     "delete_cmd_prefix": "del ",
     "library": "var_list.py",
     "varRefreshCmd": "print(var_dic_list())"
    },
    "r": {
     "delete_cmd_postfix": ") ",
     "delete_cmd_prefix": "rm(",
     "library": "var_list.r",
     "varRefreshCmd": "cat(var_dic_list()) "
    }
   },
   "types_to_exclude": [
    "module",
    "function",
    "builtin_function_or_method",
    "instance",
    "_Feature"
   ],
   "window_display": false
  }
 },
 "nbformat": 4,
 "nbformat_minor": 2
}
