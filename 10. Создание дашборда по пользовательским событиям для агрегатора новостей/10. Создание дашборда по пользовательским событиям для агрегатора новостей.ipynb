{
 "cells": [
  {
   "cell_type": "markdown",
   "metadata": {},
   "source": []
  },
  {
   "cell_type": "markdown",
   "metadata": {},
   "source": []
  },
  {
   "cell_type": "markdown",
   "metadata": {},
   "source": [
    "Ссылка на дашборд\n",
    "\n",
    "https://public.tableau.com/app/profile/andrey3585/viz/_16370070544750/Dashboard?publish=yes"
   ]
  },
  {
   "cell_type": "markdown",
   "metadata": {},
   "source": [
    "# Загружаем данные из базы данных"
   ]
  },
  {
   "cell_type": "code",
   "execution_count": 17,
   "metadata": {},
   "outputs": [],
   "source": [
    "# импортируем библиотеки\n",
    "import pandas as pd\n",
    "from sqlalchemy import create_engine\n",
    "\n",
    "db_config = {'user': 'praktikum_student', # имя пользователя\n",
    "            'pwd': 'Sdf4$2;d-d30pp', # пароль\n",
    "            'host': 'rc1b-wcoijxj3yxfsf3fs.mdb.yandexcloud.net',\n",
    "            'port': 6432, # порт подключения\n",
    "            'db': 'data-analyst-zen-project-db'} # название базы данных\n",
    "\n",
    "connection_string = 'postgresql://{}:{}@{}:{}/{}'.format(db_config['user'],\n",
    "                                                db_config['pwd'],\n",
    "                                                db_config['host'],\n",
    "                                                db_config['port'],\n",
    "                                                db_config['db'])\n",
    "\n",
    "engine = create_engine(connection_string)"
   ]
  },
  {
   "cell_type": "code",
   "execution_count": 18,
   "metadata": {},
   "outputs": [],
   "source": [
    "query = ''' SELECT * \n",
    "            FROM dash_visits\n",
    "        '''"
   ]
  },
  {
   "cell_type": "code",
   "execution_count": 20,
   "metadata": {},
   "outputs": [],
   "source": [
    "dash_visits = pd.io.sql.read_sql(query, con = engine)"
   ]
  },
  {
   "cell_type": "code",
   "execution_count": 29,
   "metadata": {
    "scrolled": true
   },
   "outputs": [
    {
     "data": {
      "text/html": [
       "<div>\n",
       "<style scoped>\n",
       "    .dataframe tbody tr th:only-of-type {\n",
       "        vertical-align: middle;\n",
       "    }\n",
       "\n",
       "    .dataframe tbody tr th {\n",
       "        vertical-align: top;\n",
       "    }\n",
       "\n",
       "    .dataframe thead th {\n",
       "        text-align: right;\n",
       "    }\n",
       "</style>\n",
       "<table border=\"1\" class=\"dataframe\">\n",
       "  <thead>\n",
       "    <tr style=\"text-align: right;\">\n",
       "      <th></th>\n",
       "      <th>record_id</th>\n",
       "      <th>item_topic</th>\n",
       "      <th>source_topic</th>\n",
       "      <th>age_segment</th>\n",
       "      <th>dt</th>\n",
       "      <th>visits</th>\n",
       "    </tr>\n",
       "  </thead>\n",
       "  <tbody>\n",
       "    <tr>\n",
       "      <td>0</td>\n",
       "      <td>1040597</td>\n",
       "      <td>Деньги</td>\n",
       "      <td>Авто</td>\n",
       "      <td>18-25</td>\n",
       "      <td>2019-09-24 18:32:00</td>\n",
       "      <td>3</td>\n",
       "    </tr>\n",
       "    <tr>\n",
       "      <td>1</td>\n",
       "      <td>1040598</td>\n",
       "      <td>Деньги</td>\n",
       "      <td>Авто</td>\n",
       "      <td>18-25</td>\n",
       "      <td>2019-09-24 18:35:00</td>\n",
       "      <td>1</td>\n",
       "    </tr>\n",
       "    <tr>\n",
       "      <td>2</td>\n",
       "      <td>1040599</td>\n",
       "      <td>Деньги</td>\n",
       "      <td>Авто</td>\n",
       "      <td>18-25</td>\n",
       "      <td>2019-09-24 18:54:00</td>\n",
       "      <td>4</td>\n",
       "    </tr>\n",
       "    <tr>\n",
       "      <td>3</td>\n",
       "      <td>1040600</td>\n",
       "      <td>Деньги</td>\n",
       "      <td>Авто</td>\n",
       "      <td>18-25</td>\n",
       "      <td>2019-09-24 18:55:00</td>\n",
       "      <td>17</td>\n",
       "    </tr>\n",
       "    <tr>\n",
       "      <td>4</td>\n",
       "      <td>1040601</td>\n",
       "      <td>Деньги</td>\n",
       "      <td>Авто</td>\n",
       "      <td>18-25</td>\n",
       "      <td>2019-09-24 18:56:00</td>\n",
       "      <td>27</td>\n",
       "    </tr>\n",
       "    <tr>\n",
       "      <td>5</td>\n",
       "      <td>1040602</td>\n",
       "      <td>Деньги</td>\n",
       "      <td>Авто</td>\n",
       "      <td>18-25</td>\n",
       "      <td>2019-09-24 18:57:00</td>\n",
       "      <td>22</td>\n",
       "    </tr>\n",
       "    <tr>\n",
       "      <td>6</td>\n",
       "      <td>1040603</td>\n",
       "      <td>Деньги</td>\n",
       "      <td>Авто</td>\n",
       "      <td>18-25</td>\n",
       "      <td>2019-09-24 18:58:00</td>\n",
       "      <td>24</td>\n",
       "    </tr>\n",
       "    <tr>\n",
       "      <td>7</td>\n",
       "      <td>1040604</td>\n",
       "      <td>Деньги</td>\n",
       "      <td>Авто</td>\n",
       "      <td>18-25</td>\n",
       "      <td>2019-09-24 18:59:00</td>\n",
       "      <td>20</td>\n",
       "    </tr>\n",
       "    <tr>\n",
       "      <td>8</td>\n",
       "      <td>1040605</td>\n",
       "      <td>Деньги</td>\n",
       "      <td>Авто</td>\n",
       "      <td>18-25</td>\n",
       "      <td>2019-09-24 19:00:00</td>\n",
       "      <td>5</td>\n",
       "    </tr>\n",
       "    <tr>\n",
       "      <td>9</td>\n",
       "      <td>1040606</td>\n",
       "      <td>Деньги</td>\n",
       "      <td>Авто</td>\n",
       "      <td>26-30</td>\n",
       "      <td>2019-09-24 18:29:00</td>\n",
       "      <td>1</td>\n",
       "    </tr>\n",
       "  </tbody>\n",
       "</table>\n",
       "</div>"
      ],
      "text/plain": [
       "   record_id item_topic source_topic age_segment                  dt  visits\n",
       "0    1040597     Деньги         Авто       18-25 2019-09-24 18:32:00       3\n",
       "1    1040598     Деньги         Авто       18-25 2019-09-24 18:35:00       1\n",
       "2    1040599     Деньги         Авто       18-25 2019-09-24 18:54:00       4\n",
       "3    1040600     Деньги         Авто       18-25 2019-09-24 18:55:00      17\n",
       "4    1040601     Деньги         Авто       18-25 2019-09-24 18:56:00      27\n",
       "5    1040602     Деньги         Авто       18-25 2019-09-24 18:57:00      22\n",
       "6    1040603     Деньги         Авто       18-25 2019-09-24 18:58:00      24\n",
       "7    1040604     Деньги         Авто       18-25 2019-09-24 18:59:00      20\n",
       "8    1040605     Деньги         Авто       18-25 2019-09-24 19:00:00       5\n",
       "9    1040606     Деньги         Авто       26-30 2019-09-24 18:29:00       1"
      ]
     },
     "execution_count": 29,
     "metadata": {},
     "output_type": "execute_result"
    }
   ],
   "source": [
    "dash_visits.head(10)"
   ]
  },
  {
   "cell_type": "code",
   "execution_count": 31,
   "metadata": {},
   "outputs": [
    {
     "name": "stdout",
     "output_type": "stream",
     "text": [
      "<class 'pandas.core.frame.DataFrame'>\n",
      "RangeIndex: 30745 entries, 0 to 30744\n",
      "Data columns (total 6 columns):\n",
      "record_id       30745 non-null int64\n",
      "item_topic      30745 non-null object\n",
      "source_topic    30745 non-null object\n",
      "age_segment     30745 non-null object\n",
      "dt              30745 non-null datetime64[ns]\n",
      "visits          30745 non-null int64\n",
      "dtypes: datetime64[ns](1), int64(2), object(3)\n",
      "memory usage: 1.4+ MB\n"
     ]
    }
   ],
   "source": [
    "dash_visits.info()"
   ]
  },
  {
   "cell_type": "code",
   "execution_count": 24,
   "metadata": {},
   "outputs": [],
   "source": [
    "dash_visits.to_csv('dash_visits.csv', index=False)"
   ]
  }
 ],
 "metadata": {
  "ExecuteTimeLog": [
   {
    "duration": 1864,
    "start_time": "2021-06-10T15:00:38.070Z"
   },
   {
    "duration": 20,
    "start_time": "2021-06-10T15:00:39.937Z"
   },
   {
    "duration": 9,
    "start_time": "2021-06-10T15:00:39.960Z"
   },
   {
    "duration": 24,
    "start_time": "2021-06-10T15:00:39.972Z"
   },
   {
    "duration": 34,
    "start_time": "2021-06-10T15:00:39.998Z"
   },
   {
    "duration": 14,
    "start_time": "2021-06-10T15:00:40.035Z"
   },
   {
    "duration": 32,
    "start_time": "2021-06-10T15:00:40.052Z"
   },
   {
    "duration": 43,
    "start_time": "2021-06-10T15:00:40.089Z"
   },
   {
    "duration": 39,
    "start_time": "2021-06-10T15:00:40.135Z"
   },
   {
    "duration": 6,
    "start_time": "2021-06-10T15:00:40.177Z"
   },
   {
    "duration": 57,
    "start_time": "2021-06-10T15:00:40.186Z"
   },
   {
    "duration": 832,
    "start_time": "2021-06-10T15:00:40.245Z"
   },
   {
    "duration": 166,
    "start_time": "2021-06-10T15:00:41.080Z"
   },
   {
    "duration": 17,
    "start_time": "2021-06-10T15:00:41.249Z"
   },
   {
    "duration": 30,
    "start_time": "2021-06-10T15:00:41.269Z"
   },
   {
    "duration": 40,
    "start_time": "2021-06-10T15:00:41.301Z"
   },
   {
    "duration": 9,
    "start_time": "2021-06-10T15:00:41.344Z"
   },
   {
    "duration": 26,
    "start_time": "2021-06-10T15:00:41.356Z"
   },
   {
    "duration": 47,
    "start_time": "2021-06-10T15:00:41.385Z"
   },
   {
    "duration": 22,
    "start_time": "2021-06-10T15:00:41.435Z"
   },
   {
    "duration": 68,
    "start_time": "2021-06-10T15:00:41.460Z"
   },
   {
    "duration": 13,
    "start_time": "2021-06-10T15:00:41.532Z"
   },
   {
    "duration": 8,
    "start_time": "2021-06-10T15:00:41.554Z"
   },
   {
    "duration": 431,
    "start_time": "2021-06-10T15:00:41.565Z"
   },
   {
    "duration": 4,
    "start_time": "2021-06-10T15:00:41.999Z"
   },
   {
    "duration": 129,
    "start_time": "2021-06-10T15:00:42.006Z"
   },
   {
    "duration": 9,
    "start_time": "2021-06-10T15:00:42.138Z"
   },
   {
    "duration": 21,
    "start_time": "2021-06-10T15:00:42.149Z"
   },
   {
    "duration": 82,
    "start_time": "2021-06-10T15:00:42.173Z"
   },
   {
    "duration": 11,
    "start_time": "2021-06-10T15:00:42.257Z"
   },
   {
    "duration": 58,
    "start_time": "2021-06-10T15:00:42.270Z"
   },
   {
    "duration": 12,
    "start_time": "2021-06-10T15:00:42.330Z"
   },
   {
    "duration": 54,
    "start_time": "2021-06-10T15:00:42.345Z"
   },
   {
    "duration": 25,
    "start_time": "2021-06-10T15:00:42.402Z"
   },
   {
    "duration": 29,
    "start_time": "2021-06-10T15:00:42.430Z"
   },
   {
    "duration": 21,
    "start_time": "2021-06-10T15:00:42.463Z"
   },
   {
    "duration": 55,
    "start_time": "2021-06-10T15:00:42.486Z"
   },
   {
    "duration": 12,
    "start_time": "2021-06-10T15:00:42.544Z"
   },
   {
    "duration": 8,
    "start_time": "2021-06-10T15:00:42.558Z"
   },
   {
    "duration": 9,
    "start_time": "2021-06-10T15:00:42.570Z"
   },
   {
    "duration": 55,
    "start_time": "2021-06-10T15:00:42.581Z"
   },
   {
    "duration": 370,
    "start_time": "2021-06-10T15:00:42.638Z"
   },
   {
    "duration": 85,
    "start_time": "2021-06-10T15:00:43.011Z"
   },
   {
    "duration": 53,
    "start_time": "2021-06-10T15:00:43.099Z"
   },
   {
    "duration": 540,
    "start_time": "2021-06-10T15:00:43.155Z"
   },
   {
    "duration": 48,
    "start_time": "2021-06-10T15:00:43.698Z"
   },
   {
    "duration": 578,
    "start_time": "2021-06-10T15:00:43.749Z"
   },
   {
    "duration": 28,
    "start_time": "2021-06-10T15:00:44.331Z"
   },
   {
    "duration": 513,
    "start_time": "2021-06-10T15:00:44.362Z"
   },
   {
    "duration": 27,
    "start_time": "2021-06-10T15:00:44.878Z"
   },
   {
    "duration": 536,
    "start_time": "2021-06-10T15:00:44.907Z"
   },
   {
    "duration": 29,
    "start_time": "2021-06-10T15:00:45.446Z"
   },
   {
    "duration": 590,
    "start_time": "2021-06-10T15:00:45.478Z"
   },
   {
    "duration": 30,
    "start_time": "2021-06-10T15:00:46.070Z"
   },
   {
    "duration": 25,
    "start_time": "2021-06-10T15:00:46.102Z"
   },
   {
    "duration": 12,
    "start_time": "2021-06-10T15:00:46.131Z"
   },
   {
    "duration": 11,
    "start_time": "2021-06-10T15:00:46.145Z"
   },
   {
    "duration": 9,
    "start_time": "2021-06-10T15:00:46.158Z"
   },
   {
    "duration": 56,
    "start_time": "2021-06-10T15:00:46.169Z"
   },
   {
    "duration": 10,
    "start_time": "2021-06-10T15:00:46.228Z"
   },
   {
    "duration": 190,
    "start_time": "2021-06-10T15:00:46.241Z"
   },
   {
    "duration": 305,
    "start_time": "2021-06-10T15:00:46.433Z"
   },
   {
    "duration": 487,
    "start_time": "2021-06-10T15:10:19.089Z"
   },
   {
    "duration": 6,
    "start_time": "2021-06-10T15:10:23.105Z"
   },
   {
    "duration": 28,
    "start_time": "2021-06-10T15:11:21.759Z"
   },
   {
    "duration": 10,
    "start_time": "2021-06-10T15:11:47.582Z"
   },
   {
    "duration": 77,
    "start_time": "2021-06-10T15:13:01.319Z"
   },
   {
    "duration": 117,
    "start_time": "2021-07-02T15:21:10.959Z"
   },
   {
    "duration": 97,
    "start_time": "2021-07-02T15:28:14.754Z"
   },
   {
    "duration": 1332,
    "start_time": "2021-08-17T01:52:44.081Z"
   },
   {
    "duration": 316,
    "start_time": "2021-08-17T01:52:45.416Z"
   },
   {
    "duration": 10,
    "start_time": "2021-08-17T01:52:45.735Z"
   },
   {
    "duration": 19,
    "start_time": "2021-08-17T01:52:45.748Z"
   },
   {
    "duration": 17,
    "start_time": "2021-08-17T01:52:45.770Z"
   },
   {
    "duration": 15,
    "start_time": "2021-08-17T01:52:45.790Z"
   },
   {
    "duration": 20,
    "start_time": "2021-08-17T01:52:45.808Z"
   },
   {
    "duration": 19,
    "start_time": "2021-08-17T01:52:45.831Z"
   },
   {
    "duration": 17,
    "start_time": "2021-08-17T01:52:45.853Z"
   },
   {
    "duration": 8,
    "start_time": "2021-08-17T01:52:45.882Z"
   },
   {
    "duration": 22,
    "start_time": "2021-08-17T01:52:45.892Z"
   },
   {
    "duration": 295,
    "start_time": "2021-08-17T01:52:45.916Z"
   },
   {
    "duration": 10,
    "start_time": "2021-08-17T01:52:46.214Z"
   },
   {
    "duration": 264,
    "start_time": "2021-08-17T01:52:46.227Z"
   },
   {
    "duration": 9,
    "start_time": "2021-08-17T01:52:46.494Z"
   },
   {
    "duration": 15,
    "start_time": "2021-08-17T01:52:46.506Z"
   },
   {
    "duration": 770,
    "start_time": "2021-08-17T01:52:46.524Z"
   },
   {
    "duration": 627,
    "start_time": "2021-08-17T01:52:47.296Z"
   },
   {
    "duration": 17,
    "start_time": "2021-08-17T01:52:47.926Z"
   },
   {
    "duration": 697,
    "start_time": "2021-08-17T01:52:47.946Z"
   },
   {
    "duration": 641,
    "start_time": "2021-08-17T01:52:48.645Z"
   },
   {
    "duration": 16,
    "start_time": "2021-08-17T01:52:49.289Z"
   },
   {
    "duration": 716,
    "start_time": "2021-08-17T01:52:49.311Z"
   },
   {
    "duration": 16,
    "start_time": "2021-08-17T01:52:50.030Z"
   },
   {
    "duration": 490,
    "start_time": "2021-08-17T01:52:50.049Z"
   },
   {
    "duration": 8,
    "start_time": "2021-08-17T01:52:50.542Z"
   },
   {
    "duration": 324,
    "start_time": "2021-08-17T01:52:50.553Z"
   },
   {
    "duration": 490,
    "start_time": "2021-08-17T01:52:50.882Z"
   },
   {
    "duration": 6,
    "start_time": "2021-08-17T01:52:51.382Z"
   },
   {
    "duration": 8,
    "start_time": "2021-08-17T01:52:51.390Z"
   },
   {
    "duration": 15,
    "start_time": "2021-08-17T01:52:51.400Z"
   },
   {
    "duration": 10,
    "start_time": "2021-08-17T01:52:51.418Z"
   },
   {
    "duration": 10,
    "start_time": "2021-08-17T01:52:51.430Z"
   },
   {
    "duration": 7,
    "start_time": "2021-08-17T01:52:51.442Z"
   },
   {
    "duration": 5,
    "start_time": "2021-08-17T01:52:51.482Z"
   },
   {
    "duration": 12,
    "start_time": "2021-08-17T01:52:51.490Z"
   },
   {
    "duration": 11,
    "start_time": "2021-08-17T01:52:51.504Z"
   },
   {
    "duration": 10,
    "start_time": "2021-08-17T01:52:51.517Z"
   },
   {
    "duration": 58,
    "start_time": "2021-08-17T01:52:51.529Z"
   },
   {
    "duration": 12,
    "start_time": "2021-08-17T01:52:51.589Z"
   },
   {
    "duration": 10,
    "start_time": "2021-08-17T01:52:51.603Z"
   },
   {
    "duration": 10,
    "start_time": "2021-08-17T01:52:51.616Z"
   },
   {
    "duration": 6,
    "start_time": "2021-08-17T01:52:51.628Z"
   },
   {
    "duration": 59,
    "start_time": "2021-08-17T01:52:51.637Z"
   },
   {
    "duration": 18,
    "start_time": "2021-08-17T01:52:51.698Z"
   },
   {
    "duration": 12,
    "start_time": "2021-08-17T01:59:15.459Z"
   },
   {
    "duration": 440,
    "start_time": "2021-08-17T02:12:31.562Z"
   },
   {
    "duration": 4,
    "start_time": "2021-08-17T02:12:41.325Z"
   },
   {
    "duration": 5,
    "start_time": "2021-08-17T02:12:47.159Z"
   },
   {
    "duration": 1599,
    "start_time": "2021-08-28T20:17:28.705Z"
   },
   {
    "duration": 195,
    "start_time": "2021-08-28T20:17:30.306Z"
   },
   {
    "duration": 4,
    "start_time": "2021-08-28T20:17:30.504Z"
   },
   {
    "duration": 23,
    "start_time": "2021-08-28T20:17:30.510Z"
   },
   {
    "duration": 4,
    "start_time": "2021-08-28T20:17:30.535Z"
   },
   {
    "duration": 76,
    "start_time": "2021-08-28T20:17:30.541Z"
   },
   {
    "duration": 66,
    "start_time": "2021-08-28T20:17:30.619Z"
   },
   {
    "duration": 32,
    "start_time": "2021-08-28T20:17:30.689Z"
   },
   {
    "duration": 19,
    "start_time": "2021-08-28T20:17:30.723Z"
   },
   {
    "duration": 3,
    "start_time": "2021-08-28T20:17:30.744Z"
   },
   {
    "duration": 51,
    "start_time": "2021-08-28T20:17:30.749Z"
   },
   {
    "duration": 28,
    "start_time": "2021-08-28T20:17:30.802Z"
   },
   {
    "duration": 7,
    "start_time": "2021-08-28T20:17:30.832Z"
   },
   {
    "duration": 13,
    "start_time": "2021-08-28T20:17:30.840Z"
   },
   {
    "duration": 412,
    "start_time": "2021-08-28T20:17:30.855Z"
   },
   {
    "duration": 19,
    "start_time": "2021-08-28T20:17:31.269Z"
   },
   {
    "duration": 13,
    "start_time": "2021-08-28T20:17:31.289Z"
   },
   {
    "duration": 29,
    "start_time": "2021-08-28T20:17:31.303Z"
   },
   {
    "duration": 21,
    "start_time": "2021-08-28T20:17:31.333Z"
   },
   {
    "duration": 33,
    "start_time": "2021-08-28T20:17:31.355Z"
   },
   {
    "duration": 23,
    "start_time": "2021-08-28T20:17:31.389Z"
   },
   {
    "duration": 59,
    "start_time": "2021-08-28T20:17:31.413Z"
   },
   {
    "duration": 20,
    "start_time": "2021-08-28T20:17:31.476Z"
   },
   {
    "duration": 513,
    "start_time": "2021-08-28T20:17:31.497Z"
   },
   {
    "duration": 5,
    "start_time": "2021-08-28T20:17:32.012Z"
   },
   {
    "duration": 12,
    "start_time": "2021-08-28T20:17:32.019Z"
   },
   {
    "duration": 11,
    "start_time": "2021-08-28T20:17:32.032Z"
   },
   {
    "duration": 51,
    "start_time": "2021-08-28T20:17:32.044Z"
   },
   {
    "duration": 99,
    "start_time": "2021-08-28T20:17:32.097Z"
   },
   {
    "duration": 5,
    "start_time": "2021-08-28T20:17:32.198Z"
   },
   {
    "duration": 31,
    "start_time": "2021-08-28T20:17:32.205Z"
   },
   {
    "duration": 69,
    "start_time": "2021-08-28T20:17:32.238Z"
   },
   {
    "duration": 3,
    "start_time": "2021-08-28T20:17:32.308Z"
   },
   {
    "duration": 10,
    "start_time": "2021-08-28T20:17:32.313Z"
   },
   {
    "duration": 21,
    "start_time": "2021-08-28T20:17:32.325Z"
   },
   {
    "duration": 231,
    "start_time": "2021-08-28T20:17:32.348Z"
   },
   {
    "duration": 21,
    "start_time": "2021-08-28T20:17:32.584Z"
   },
   {
    "duration": 6,
    "start_time": "2021-08-28T20:17:32.606Z"
   },
   {
    "duration": 16,
    "start_time": "2021-08-28T20:17:32.614Z"
   },
   {
    "duration": 7,
    "start_time": "2021-08-28T20:17:32.631Z"
   },
   {
    "duration": 12,
    "start_time": "2021-08-28T20:17:32.640Z"
   },
   {
    "duration": 48,
    "start_time": "2021-08-28T20:17:32.654Z"
   },
   {
    "duration": 14,
    "start_time": "2021-08-28T20:17:32.704Z"
   },
   {
    "duration": 12,
    "start_time": "2021-08-28T20:17:32.719Z"
   },
   {
    "duration": 11,
    "start_time": "2021-08-28T20:17:32.732Z"
   },
   {
    "duration": 6,
    "start_time": "2021-08-28T20:25:30.785Z"
   },
   {
    "duration": 185,
    "start_time": "2021-08-28T20:25:30.793Z"
   },
   {
    "duration": 4,
    "start_time": "2021-08-28T20:25:30.986Z"
   },
   {
    "duration": 22,
    "start_time": "2021-08-28T20:25:30.992Z"
   },
   {
    "duration": 7,
    "start_time": "2021-08-28T20:25:31.015Z"
   },
   {
    "duration": 45,
    "start_time": "2021-08-28T20:25:31.023Z"
   },
   {
    "duration": 50,
    "start_time": "2021-08-28T20:25:31.084Z"
   },
   {
    "duration": 25,
    "start_time": "2021-08-28T20:25:31.137Z"
   },
   {
    "duration": 38,
    "start_time": "2021-08-28T20:25:31.164Z"
   },
   {
    "duration": 4,
    "start_time": "2021-08-28T20:25:31.204Z"
   },
   {
    "duration": 31,
    "start_time": "2021-08-28T20:25:31.210Z"
   },
   {
    "duration": 9,
    "start_time": "2021-08-28T20:25:31.243Z"
   },
   {
    "duration": 13,
    "start_time": "2021-08-28T20:25:31.254Z"
   },
   {
    "duration": 16,
    "start_time": "2021-08-28T20:25:31.269Z"
   },
   {
    "duration": 401,
    "start_time": "2021-08-28T20:25:31.287Z"
   },
   {
    "duration": 18,
    "start_time": "2021-08-28T20:25:31.690Z"
   },
   {
    "duration": 3,
    "start_time": "2021-08-28T20:25:31.710Z"
   },
   {
    "duration": 10,
    "start_time": "2021-08-28T20:25:31.714Z"
   },
   {
    "duration": 6,
    "start_time": "2021-08-28T20:25:31.725Z"
   },
   {
    "duration": 55,
    "start_time": "2021-08-28T20:25:31.732Z"
   },
   {
    "duration": 26,
    "start_time": "2021-08-28T20:25:31.789Z"
   },
   {
    "duration": 52,
    "start_time": "2021-08-28T20:25:31.817Z"
   },
   {
    "duration": 14,
    "start_time": "2021-08-28T20:25:31.885Z"
   },
   {
    "duration": 124,
    "start_time": "2021-08-28T20:25:31.902Z"
   },
   {
    "duration": 6,
    "start_time": "2021-08-28T20:25:32.028Z"
   },
   {
    "duration": 15,
    "start_time": "2021-08-28T20:25:32.035Z"
   },
   {
    "duration": 10,
    "start_time": "2021-08-28T20:25:32.052Z"
   },
   {
    "duration": 23,
    "start_time": "2021-08-28T20:25:32.063Z"
   },
   {
    "duration": 31,
    "start_time": "2021-08-28T20:25:32.088Z"
   },
   {
    "duration": 3,
    "start_time": "2021-08-28T20:25:32.121Z"
   },
   {
    "duration": 33,
    "start_time": "2021-08-28T20:25:32.126Z"
   },
   {
    "duration": 46,
    "start_time": "2021-08-28T20:25:32.161Z"
   },
   {
    "duration": 3,
    "start_time": "2021-08-28T20:25:32.208Z"
   },
   {
    "duration": 10,
    "start_time": "2021-08-28T20:25:32.212Z"
   },
   {
    "duration": 30,
    "start_time": "2021-08-28T20:25:32.223Z"
   },
   {
    "duration": 129,
    "start_time": "2021-08-28T20:25:32.255Z"
   },
   {
    "duration": 21,
    "start_time": "2021-08-28T20:25:32.386Z"
   },
   {
    "duration": 8,
    "start_time": "2021-08-28T20:25:32.409Z"
   },
   {
    "duration": 23,
    "start_time": "2021-08-28T20:25:32.419Z"
   },
   {
    "duration": 7,
    "start_time": "2021-08-28T20:25:32.444Z"
   },
   {
    "duration": 15,
    "start_time": "2021-08-28T20:25:32.452Z"
   },
   {
    "duration": 15,
    "start_time": "2021-08-28T20:25:32.486Z"
   },
   {
    "duration": 13,
    "start_time": "2021-08-28T20:25:32.504Z"
   },
   {
    "duration": 16,
    "start_time": "2021-08-28T20:25:32.518Z"
   },
   {
    "duration": 14,
    "start_time": "2021-08-28T20:25:32.535Z"
   },
   {
    "duration": 1542,
    "start_time": "2021-08-28T20:53:15.762Z"
   },
   {
    "duration": 174,
    "start_time": "2021-08-28T20:53:17.306Z"
   },
   {
    "duration": 4,
    "start_time": "2021-08-28T20:53:17.484Z"
   },
   {
    "duration": 18,
    "start_time": "2021-08-28T20:53:17.491Z"
   },
   {
    "duration": 4,
    "start_time": "2021-08-28T20:53:17.510Z"
   },
   {
    "duration": 50,
    "start_time": "2021-08-28T20:53:17.515Z"
   },
   {
    "duration": 58,
    "start_time": "2021-08-28T20:53:17.585Z"
   },
   {
    "duration": 44,
    "start_time": "2021-08-28T20:53:17.646Z"
   },
   {
    "duration": 25,
    "start_time": "2021-08-28T20:53:17.692Z"
   },
   {
    "duration": 4,
    "start_time": "2021-08-28T20:53:17.719Z"
   },
   {
    "duration": 22,
    "start_time": "2021-08-28T20:53:17.725Z"
   },
   {
    "duration": 4,
    "start_time": "2021-08-28T20:53:17.749Z"
   },
   {
    "duration": 31,
    "start_time": "2021-08-28T20:53:17.755Z"
   },
   {
    "duration": 6,
    "start_time": "2021-08-28T20:53:17.787Z"
   },
   {
    "duration": 407,
    "start_time": "2021-08-28T20:53:17.795Z"
   },
   {
    "duration": 15,
    "start_time": "2021-08-28T20:53:18.204Z"
   },
   {
    "duration": 3,
    "start_time": "2021-08-28T20:53:18.220Z"
   },
   {
    "duration": 14,
    "start_time": "2021-08-28T20:53:18.225Z"
   },
   {
    "duration": 13,
    "start_time": "2021-08-28T20:53:18.241Z"
   },
   {
    "duration": 56,
    "start_time": "2021-08-28T20:53:18.257Z"
   },
   {
    "duration": 38,
    "start_time": "2021-08-28T20:53:18.315Z"
   },
   {
    "duration": 76,
    "start_time": "2021-08-28T20:53:18.355Z"
   },
   {
    "duration": 13,
    "start_time": "2021-08-28T20:53:18.435Z"
   },
   {
    "duration": 558,
    "start_time": "2021-08-28T20:53:18.450Z"
   },
   {
    "duration": 6,
    "start_time": "2021-08-28T20:53:19.010Z"
   },
   {
    "duration": 20,
    "start_time": "2021-08-28T20:53:19.017Z"
   },
   {
    "duration": 7,
    "start_time": "2021-08-28T20:53:19.038Z"
   },
   {
    "duration": 13,
    "start_time": "2021-08-28T20:53:19.085Z"
   },
   {
    "duration": 31,
    "start_time": "2021-08-28T20:53:19.100Z"
   },
   {
    "duration": 52,
    "start_time": "2021-08-28T20:53:19.133Z"
   },
   {
    "duration": 32,
    "start_time": "2021-08-28T20:53:19.188Z"
   },
   {
    "duration": 23,
    "start_time": "2021-08-28T20:53:19.222Z"
   },
   {
    "duration": 40,
    "start_time": "2021-08-28T20:53:19.246Z"
   },
   {
    "duration": 15,
    "start_time": "2021-08-28T20:53:19.288Z"
   },
   {
    "duration": 25,
    "start_time": "2021-08-28T20:53:19.304Z"
   },
   {
    "duration": 235,
    "start_time": "2021-08-28T20:53:19.330Z"
   },
   {
    "duration": 19,
    "start_time": "2021-08-28T20:53:19.567Z"
   },
   {
    "duration": 6,
    "start_time": "2021-08-28T20:53:19.588Z"
   },
   {
    "duration": 19,
    "start_time": "2021-08-28T20:53:19.597Z"
   },
   {
    "duration": 7,
    "start_time": "2021-08-28T20:53:19.617Z"
   },
   {
    "duration": 12,
    "start_time": "2021-08-28T20:53:19.625Z"
   },
   {
    "duration": 13,
    "start_time": "2021-08-28T20:53:19.638Z"
   },
   {
    "duration": 44,
    "start_time": "2021-08-28T20:53:19.653Z"
   },
   {
    "duration": 22,
    "start_time": "2021-08-28T20:53:19.699Z"
   },
   {
    "duration": 11,
    "start_time": "2021-08-28T20:53:19.723Z"
   },
   {
    "duration": 5,
    "start_time": "2021-08-28T21:14:35.038Z"
   },
   {
    "duration": 14,
    "start_time": "2021-08-28T21:14:36.172Z"
   },
   {
    "duration": 5,
    "start_time": "2021-08-28T21:14:53.981Z"
   },
   {
    "duration": 15,
    "start_time": "2021-08-28T21:14:55.686Z"
   },
   {
    "duration": 4,
    "start_time": "2021-08-30T15:57:10.457Z"
   },
   {
    "duration": 4,
    "start_time": "2021-08-30T15:57:12.824Z"
   },
   {
    "duration": 74540,
    "start_time": "2021-08-30T15:59:17.842Z"
   },
   {
    "duration": 24948,
    "start_time": "2021-08-30T16:13:34.977Z"
   },
   {
    "duration": 11,
    "start_time": "2021-08-30T16:14:07.184Z"
   },
   {
    "duration": 22,
    "start_time": "2021-08-30T16:14:07.198Z"
   },
   {
    "duration": 335,
    "start_time": "2021-08-30T16:14:07.223Z"
   },
   {
    "duration": 31,
    "start_time": "2021-08-30T16:14:07.562Z"
   },
   {
    "duration": 7,
    "start_time": "2021-08-30T16:14:07.597Z"
   },
   {
    "duration": 107,
    "start_time": "2021-08-30T16:14:07.606Z"
   },
   {
    "duration": 104,
    "start_time": "2021-08-30T16:14:07.716Z"
   },
   {
    "duration": 38,
    "start_time": "2021-08-30T16:14:07.824Z"
   },
   {
    "duration": 28,
    "start_time": "2021-08-30T16:14:07.882Z"
   },
   {
    "duration": 6,
    "start_time": "2021-08-30T16:14:07.912Z"
   },
   {
    "duration": 35,
    "start_time": "2021-08-30T16:14:07.920Z"
   },
   {
    "duration": 42,
    "start_time": "2021-08-30T16:14:07.957Z"
   },
   {
    "duration": 7,
    "start_time": "2021-08-30T16:14:08.002Z"
   },
   {
    "duration": 8,
    "start_time": "2021-08-30T16:14:08.012Z"
   },
   {
    "duration": 804,
    "start_time": "2021-08-30T16:14:08.022Z"
   },
   {
    "duration": 23,
    "start_time": "2021-08-30T16:14:08.829Z"
   },
   {
    "duration": 5,
    "start_time": "2021-08-30T16:14:08.855Z"
   },
   {
    "duration": 43,
    "start_time": "2021-08-30T16:14:08.862Z"
   },
   {
    "duration": 10,
    "start_time": "2021-08-30T16:14:08.907Z"
   },
   {
    "duration": 81,
    "start_time": "2021-08-30T16:14:08.920Z"
   },
   {
    "duration": 28,
    "start_time": "2021-08-30T16:14:09.004Z"
   },
   {
    "duration": 101,
    "start_time": "2021-08-30T16:14:09.034Z"
   },
   {
    "duration": 11,
    "start_time": "2021-08-30T16:14:09.140Z"
   },
   {
    "duration": 8,
    "start_time": "2021-08-30T16:14:09.154Z"
   },
   {
    "duration": 866,
    "start_time": "2021-08-30T16:14:09.164Z"
   },
   {
    "duration": 8,
    "start_time": "2021-08-30T16:14:10.033Z"
   },
   {
    "duration": 39,
    "start_time": "2021-08-30T16:14:10.044Z"
   },
   {
    "duration": 8,
    "start_time": "2021-08-30T16:14:10.086Z"
   },
   {
    "duration": 11,
    "start_time": "2021-08-30T16:14:10.097Z"
   },
   {
    "duration": 108,
    "start_time": "2021-08-30T16:14:10.111Z"
   },
   {
    "duration": 5,
    "start_time": "2021-08-30T16:14:10.221Z"
   },
   {
    "duration": 96,
    "start_time": "2021-08-30T16:14:10.228Z"
   },
   {
    "duration": 88,
    "start_time": "2021-08-30T16:14:10.327Z"
   },
   {
    "duration": 3,
    "start_time": "2021-08-30T16:14:10.417Z"
   },
   {
    "duration": 7,
    "start_time": "2021-08-30T16:14:10.423Z"
   },
   {
    "duration": 12,
    "start_time": "2021-08-30T16:14:10.433Z"
   },
   {
    "duration": 67,
    "start_time": "2021-08-30T16:14:10.448Z"
   },
   {
    "duration": 210,
    "start_time": "2021-08-30T16:14:10.518Z"
   },
   {
    "duration": 26,
    "start_time": "2021-08-30T16:14:10.730Z"
   },
   {
    "duration": 27,
    "start_time": "2021-08-30T16:14:10.759Z"
   },
   {
    "duration": 31,
    "start_time": "2021-08-30T16:14:10.789Z"
   },
   {
    "duration": 9,
    "start_time": "2021-08-30T16:14:10.822Z"
   },
   {
    "duration": 58,
    "start_time": "2021-08-30T16:14:10.835Z"
   },
   {
    "duration": 18,
    "start_time": "2021-08-30T16:14:10.897Z"
   },
   {
    "duration": 21,
    "start_time": "2021-08-30T16:14:10.918Z"
   },
   {
    "duration": 64,
    "start_time": "2021-08-30T16:14:10.942Z"
   },
   {
    "duration": 33,
    "start_time": "2021-08-30T16:14:11.009Z"
   },
   {
    "duration": 1183,
    "start_time": "2021-08-30T16:14:11.045Z"
   },
   {
    "duration": -27,
    "start_time": "2021-08-30T16:14:12.258Z"
   }
  ],
  "kernelspec": {
   "display_name": "Python 3",
   "language": "python",
   "name": "python3"
  },
  "language_info": {
   "codemirror_mode": {
    "name": "ipython",
    "version": 3
   },
   "file_extension": ".py",
   "mimetype": "text/x-python",
   "name": "python",
   "nbconvert_exporter": "python",
   "pygments_lexer": "ipython3",
   "version": "3.7.12"
  },
  "toc": {
   "base_numbering": 1,
   "nav_menu": {},
   "number_sections": true,
   "sideBar": true,
   "skip_h1_title": true,
   "title_cell": "Содержание",
   "title_sidebar": "Contents",
   "toc_cell": true,
   "toc_position": {
    "height": "886.969px",
    "left": "397px",
    "top": "182px",
    "width": "165px"
   },
   "toc_section_display": true,
   "toc_window_display": false
  },
  "varInspector": {
   "cols": {
    "lenName": 16,
    "lenType": 16,
    "lenVar": 40
   },
   "kernels_config": {
    "python": {
     "delete_cmd_postfix": "",
     "delete_cmd_prefix": "del ",
     "library": "var_list.py",
     "varRefreshCmd": "print(var_dic_list())"
    },
    "r": {
     "delete_cmd_postfix": ") ",
     "delete_cmd_prefix": "rm(",
     "library": "var_list.r",
     "varRefreshCmd": "cat(var_dic_list()) "
    }
   },
   "types_to_exclude": [
    "module",
    "function",
    "builtin_function_or_method",
    "instance",
    "_Feature"
   ],
   "window_display": false
  }
 },
 "nbformat": 4,
 "nbformat_minor": 2
}
